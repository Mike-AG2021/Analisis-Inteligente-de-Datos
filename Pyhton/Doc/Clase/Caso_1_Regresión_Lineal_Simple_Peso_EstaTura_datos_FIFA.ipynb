{
  "nbformat": 4,
  "nbformat_minor": 0,
  "metadata": {
    "colab": {
      "name": "Caso 1. Regresión Lineal Simple. Peso EstaTura datos FIFA.ipynb",
      "provenance": [],
      "collapsed_sections": [],
      "include_colab_link": true
    },
    "kernelspec": {
      "name": "python3",
      "display_name": "Python 3"
    },
    "language_info": {
      "name": "python"
    }
  },
  "cells": [
    {
      "cell_type": "markdown",
      "metadata": {
        "id": "view-in-github",
        "colab_type": "text"
      },
      "source": [
        "<a href=\"https://colab.research.google.com/github/Mike-AG2021/Analisis-Inteligente-de-Datos/blob/main/Pyhton/Doc/Clase/Caso_1_Regresi%C3%B3n_Lineal_Simple_Peso_EstaTura_datos_FIFA.ipynb\" target=\"_parent\"><img src=\"https://colab.research.google.com/assets/colab-badge.svg\" alt=\"Open In Colab\"/></a>"
      ]
    },
    {
      "cell_type": "markdown",
      "source": [
        "Author: \"Jesus Miguel Acosta Gurrola\"\n",
        "\n",
        "Date: \"07-03-2022\""
      ],
      "metadata": {
        "id": "KXHeIj-G7Tj6"
      }
    },
    {
      "cell_type": "code",
      "execution_count": null,
      "metadata": {
        "id": "VGmpCZ_v7NA0"
      },
      "outputs": [],
      "source": [
        ""
      ]
    },
    {
      "cell_type": "markdown",
      "source": [
        "# Objetivo\n",
        "\n",
        "Realizar predicciones de peso de jugadores de fútbol con los datos de FIFA de acuerdo a la variable estatura a partir de un modelo de regresión lineal simple."
      ],
      "metadata": {
        "id": "VyUlsn897dSx"
      }
    },
    {
      "cell_type": "markdown",
      "source": [
        "# Descripción \n",
        "* Cargar librerías\n",
        "\n",
        "* Cargar datos\n",
        "\n",
        "* Seleccionar variables de estudio estatura y peso\n",
        "\n",
        "* Crear datos de entrenamiento y datos de validación\n",
        "\n",
        "* Construir el modelo de regresión lineal simple\n",
        "\n",
        "* Evaluar el modelo\n",
        "\n",
        "* Realizar predicciones con los datos validación\n",
        "\n",
        "* Realizar predicciones con datos nuevos\n",
        "\n",
        "* Interpretación del caso"
      ],
      "metadata": {
        "id": "qz9fbrmI7ji5"
      }
    },
    {
      "cell_type": "markdown",
      "source": [
        "# Desarrollo\n"
      ],
      "metadata": {
        "id": "qeC6JtRm7uIJ"
      }
    },
    {
      "cell_type": "markdown",
      "source": [
        "# Cargar librerias"
      ],
      "metadata": {
        "id": "u7J8OaMX7v2Q"
      }
    },
    {
      "cell_type": "code",
      "source": [
        "import pandas as pd\n",
        "import numpy as np\n",
        "from sklearn import linear_model\n",
        "from sklearn.linear_model import LinearRegression\n",
        "#from sklearn.metrics import mean_squared_error, r2_score\n",
        "import matplotlib.pyplot as plt\n",
        "from sklearn.model_selection import train_test_split\n",
        "from sklearn import metrics\n",
        "#%matplotlib inline"
      ],
      "metadata": {
        "id": "4Sx03Jy571FR"
      },
      "execution_count": null,
      "outputs": []
    },
    {
      "cell_type": "markdown",
      "source": [
        "## Cargar datos\n",
        "\n",
        "Los datos se encuentran en la URL: https://raw.githubusercontent.com/rpizarrog/Analisis-Inteligente-de-datos/main/datos/datos.FIFA.limpios.csv\n",
        "\n"
      ],
      "metadata": {
        "id": "zkPFOcJ57yZy"
      }
    },
    {
      "cell_type": "code",
      "source": [
        "datos = pd.read_csv(\"https://raw.githubusercontent.com/rpizarrog/Analisis-Inteligente-de-datos/main/datos/datos.limpios.csv\", encoding='latin1')\n"
      ],
      "metadata": {
        "id": "mqbxw1iM8EQZ"
      },
      "execution_count": null,
      "outputs": []
    },
    {
      "cell_type": "markdown",
      "source": [
        "## Explorar datos\n",
        "\n",
        "Solo se describen las variables de interés Estatura y PesoKgs"
      ],
      "metadata": {
        "id": "Gx6NAdaSUjOH"
      }
    },
    {
      "cell_type": "code",
      "source": [
        "#datos.describe()\n",
        "datos[['Estatura', 'PesoKgs']].describe()\n",
        "# datos.head()\n",
        "\n"
      ],
      "metadata": {
        "colab": {
          "base_uri": "https://localhost:8080/",
          "height": 300
        },
        "id": "tnNk1f23UlXP",
        "outputId": "dd7b68e6-add9-4a1d-9375-b6dc3fc2d869"
      },
      "execution_count": null,
      "outputs": [
        {
          "output_type": "execute_result",
          "data": {
            "text/html": [
              "\n",
              "  <div id=\"df-47c5ccd8-72df-4595-ac92-cfa813d3e836\">\n",
              "    <div class=\"colab-df-container\">\n",
              "      <div>\n",
              "<style scoped>\n",
              "    .dataframe tbody tr th:only-of-type {\n",
              "        vertical-align: middle;\n",
              "    }\n",
              "\n",
              "    .dataframe tbody tr th {\n",
              "        vertical-align: top;\n",
              "    }\n",
              "\n",
              "    .dataframe thead th {\n",
              "        text-align: right;\n",
              "    }\n",
              "</style>\n",
              "<table border=\"1\" class=\"dataframe\">\n",
              "  <thead>\n",
              "    <tr style=\"text-align: right;\">\n",
              "      <th></th>\n",
              "      <th>Estatura</th>\n",
              "      <th>PesoKgs</th>\n",
              "    </tr>\n",
              "  </thead>\n",
              "  <tbody>\n",
              "    <tr>\n",
              "      <th>count</th>\n",
              "      <td>17907.000000</td>\n",
              "      <td>17907.000000</td>\n",
              "    </tr>\n",
              "    <tr>\n",
              "      <th>mean</th>\n",
              "      <td>1.812325</td>\n",
              "      <td>75.279478</td>\n",
              "    </tr>\n",
              "    <tr>\n",
              "      <th>std</th>\n",
              "      <td>0.067671</td>\n",
              "      <td>7.077378</td>\n",
              "    </tr>\n",
              "    <tr>\n",
              "      <th>min</th>\n",
              "      <td>1.550000</td>\n",
              "      <td>49.900000</td>\n",
              "    </tr>\n",
              "    <tr>\n",
              "      <th>25%</th>\n",
              "      <td>1.750000</td>\n",
              "      <td>69.850000</td>\n",
              "    </tr>\n",
              "    <tr>\n",
              "      <th>50%</th>\n",
              "      <td>1.800000</td>\n",
              "      <td>74.840000</td>\n",
              "    </tr>\n",
              "    <tr>\n",
              "      <th>75%</th>\n",
              "      <td>1.850000</td>\n",
              "      <td>79.830000</td>\n",
              "    </tr>\n",
              "    <tr>\n",
              "      <th>max</th>\n",
              "      <td>2.060000</td>\n",
              "      <td>110.220000</td>\n",
              "    </tr>\n",
              "  </tbody>\n",
              "</table>\n",
              "</div>\n",
              "      <button class=\"colab-df-convert\" onclick=\"convertToInteractive('df-47c5ccd8-72df-4595-ac92-cfa813d3e836')\"\n",
              "              title=\"Convert this dataframe to an interactive table.\"\n",
              "              style=\"display:none;\">\n",
              "        \n",
              "  <svg xmlns=\"http://www.w3.org/2000/svg\" height=\"24px\"viewBox=\"0 0 24 24\"\n",
              "       width=\"24px\">\n",
              "    <path d=\"M0 0h24v24H0V0z\" fill=\"none\"/>\n",
              "    <path d=\"M18.56 5.44l.94 2.06.94-2.06 2.06-.94-2.06-.94-.94-2.06-.94 2.06-2.06.94zm-11 1L8.5 8.5l.94-2.06 2.06-.94-2.06-.94L8.5 2.5l-.94 2.06-2.06.94zm10 10l.94 2.06.94-2.06 2.06-.94-2.06-.94-.94-2.06-.94 2.06-2.06.94z\"/><path d=\"M17.41 7.96l-1.37-1.37c-.4-.4-.92-.59-1.43-.59-.52 0-1.04.2-1.43.59L10.3 9.45l-7.72 7.72c-.78.78-.78 2.05 0 2.83L4 21.41c.39.39.9.59 1.41.59.51 0 1.02-.2 1.41-.59l7.78-7.78 2.81-2.81c.8-.78.8-2.07 0-2.86zM5.41 20L4 18.59l7.72-7.72 1.47 1.35L5.41 20z\"/>\n",
              "  </svg>\n",
              "      </button>\n",
              "      \n",
              "  <style>\n",
              "    .colab-df-container {\n",
              "      display:flex;\n",
              "      flex-wrap:wrap;\n",
              "      gap: 12px;\n",
              "    }\n",
              "\n",
              "    .colab-df-convert {\n",
              "      background-color: #E8F0FE;\n",
              "      border: none;\n",
              "      border-radius: 50%;\n",
              "      cursor: pointer;\n",
              "      display: none;\n",
              "      fill: #1967D2;\n",
              "      height: 32px;\n",
              "      padding: 0 0 0 0;\n",
              "      width: 32px;\n",
              "    }\n",
              "\n",
              "    .colab-df-convert:hover {\n",
              "      background-color: #E2EBFA;\n",
              "      box-shadow: 0px 1px 2px rgba(60, 64, 67, 0.3), 0px 1px 3px 1px rgba(60, 64, 67, 0.15);\n",
              "      fill: #174EA6;\n",
              "    }\n",
              "\n",
              "    [theme=dark] .colab-df-convert {\n",
              "      background-color: #3B4455;\n",
              "      fill: #D2E3FC;\n",
              "    }\n",
              "\n",
              "    [theme=dark] .colab-df-convert:hover {\n",
              "      background-color: #434B5C;\n",
              "      box-shadow: 0px 1px 3px 1px rgba(0, 0, 0, 0.15);\n",
              "      filter: drop-shadow(0px 1px 2px rgba(0, 0, 0, 0.3));\n",
              "      fill: #FFFFFF;\n",
              "    }\n",
              "  </style>\n",
              "\n",
              "      <script>\n",
              "        const buttonEl =\n",
              "          document.querySelector('#df-47c5ccd8-72df-4595-ac92-cfa813d3e836 button.colab-df-convert');\n",
              "        buttonEl.style.display =\n",
              "          google.colab.kernel.accessAllowed ? 'block' : 'none';\n",
              "\n",
              "        async function convertToInteractive(key) {\n",
              "          const element = document.querySelector('#df-47c5ccd8-72df-4595-ac92-cfa813d3e836');\n",
              "          const dataTable =\n",
              "            await google.colab.kernel.invokeFunction('convertToInteractive',\n",
              "                                                     [key], {});\n",
              "          if (!dataTable) return;\n",
              "\n",
              "          const docLinkHtml = 'Like what you see? Visit the ' +\n",
              "            '<a target=\"_blank\" href=https://colab.research.google.com/notebooks/data_table.ipynb>data table notebook</a>'\n",
              "            + ' to learn more about interactive tables.';\n",
              "          element.innerHTML = '';\n",
              "          dataTable['output_type'] = 'display_data';\n",
              "          await google.colab.output.renderOutput(dataTable, element);\n",
              "          const docLink = document.createElement('div');\n",
              "          docLink.innerHTML = docLinkHtml;\n",
              "          element.appendChild(docLink);\n",
              "        }\n",
              "      </script>\n",
              "    </div>\n",
              "  </div>\n",
              "  "
            ],
            "text/plain": [
              "           Estatura       PesoKgs\n",
              "count  17907.000000  17907.000000\n",
              "mean       1.812325     75.279478\n",
              "std        0.067671      7.077378\n",
              "min        1.550000     49.900000\n",
              "25%        1.750000     69.850000\n",
              "50%        1.800000     74.840000\n",
              "75%        1.850000     79.830000\n",
              "max        2.060000    110.220000"
            ]
          },
          "metadata": {},
          "execution_count": 3
        }
      ]
    },
    {
      "cell_type": "markdown",
      "source": [
        "Verificar si hay datos nulos ..."
      ],
      "metadata": {
        "id": "AYgiXMlNngj0"
      }
    },
    {
      "cell_type": "code",
      "source": [
        "print(datos['Estatura'].isnull().sum().sum())\n",
        "print(datos['PesoKgs'].isnull().sum().sum())"
      ],
      "metadata": {
        "colab": {
          "base_uri": "https://localhost:8080/"
        },
        "id": "qj-O6nQHjMJV",
        "outputId": "849c96a3-671e-4e9c-938c-cce27463181c"
      },
      "execution_count": null,
      "outputs": [
        {
          "output_type": "stream",
          "name": "stdout",
          "text": [
            "0\n",
            "0\n"
          ]
        }
      ]
    },
    {
      "cell_type": "markdown",
      "source": [
        "Mostrando los nombres de columnas y si se quisiera se puediera cambiar nombre a las columna para mejor control"
      ],
      "metadata": {
        "id": "FmtR5ap4ZifL"
      }
    },
    {
      "cell_type": "code",
      "source": [
        "# datos.columns\n",
        "# datos = datos.rename(columns={'Unnamed: 0':'X'})\n",
        "datos.columns"
      ],
      "metadata": {
        "colab": {
          "base_uri": "https://localhost:8080/"
        },
        "id": "Hdz9x7y8YASD",
        "outputId": "9b17ef08-2adf-4b38-c48e-ab2fd155e0af"
      },
      "execution_count": null,
      "outputs": [
        {
          "output_type": "execute_result",
          "data": {
            "text/plain": [
              "Index(['Unnamed: 0', 'X', 'Name', 'Age', 'Nationality', 'Overall', 'Potential',\n",
              "       'Club', 'Preferred.Foot', 'International.Reputation', 'Weak.Foot',\n",
              "       'Skill.Moves', 'Height', 'Weight', 'Crossing', 'Finishing',\n",
              "       'HeadingAccuracy', 'ShortPassing', 'Volleys', 'Dribbling', 'Curve',\n",
              "       'FKAccuracy', 'LongPassing', 'BallControl', 'Acceleration',\n",
              "       'SprintSpeed', 'Agility', 'Reactions', 'Balance', 'ShotPower',\n",
              "       'Jumping', 'Stamina', 'Strength', 'LongShots', 'Aggression',\n",
              "       'Interceptions', 'Positioning', 'Vision', 'Penalties', 'Composure',\n",
              "       'Marking', 'StandingTackle', 'SlidingTackle', 'GKDiving', 'GKHandling',\n",
              "       'GKKicking', 'GKPositioning', 'GKReflexes', 'Valor', 'Estatura',\n",
              "       'PesoKgs'],\n",
              "      dtype='object')"
            ]
          },
          "metadata": {},
          "execution_count": 5
        }
      ]
    },
    {
      "cell_type": "markdown",
      "source": [
        "### head()\n",
        "Primeros 20 registros"
      ],
      "metadata": {
        "id": "LVM9xEHIZwQ5"
      }
    },
    {
      "cell_type": "code",
      "source": [
        "datos[['X', 'Name', 'Estatura', 'PesoKgs']].head(20)"
      ],
      "metadata": {
        "colab": {
          "base_uri": "https://localhost:8080/",
          "height": 677
        },
        "id": "KYZ4lRLGZ49a",
        "outputId": "a7aa1209-ce57-4822-aafd-3c667fc414b7"
      },
      "execution_count": null,
      "outputs": [
        {
          "output_type": "execute_result",
          "data": {
            "text/html": [
              "\n",
              "  <div id=\"df-88e0e487-f4fd-4b14-a236-9fbc2028b4aa\">\n",
              "    <div class=\"colab-df-container\">\n",
              "      <div>\n",
              "<style scoped>\n",
              "    .dataframe tbody tr th:only-of-type {\n",
              "        vertical-align: middle;\n",
              "    }\n",
              "\n",
              "    .dataframe tbody tr th {\n",
              "        vertical-align: top;\n",
              "    }\n",
              "\n",
              "    .dataframe thead th {\n",
              "        text-align: right;\n",
              "    }\n",
              "</style>\n",
              "<table border=\"1\" class=\"dataframe\">\n",
              "  <thead>\n",
              "    <tr style=\"text-align: right;\">\n",
              "      <th></th>\n",
              "      <th>X</th>\n",
              "      <th>Name</th>\n",
              "      <th>Estatura</th>\n",
              "      <th>PesoKgs</th>\n",
              "    </tr>\n",
              "  </thead>\n",
              "  <tbody>\n",
              "    <tr>\n",
              "      <th>0</th>\n",
              "      <td>1</td>\n",
              "      <td>L. Messi</td>\n",
              "      <td>1.70</td>\n",
              "      <td>72.12</td>\n",
              "    </tr>\n",
              "    <tr>\n",
              "      <th>1</th>\n",
              "      <td>2</td>\n",
              "      <td>Cristiano Ronaldo</td>\n",
              "      <td>1.88</td>\n",
              "      <td>83.01</td>\n",
              "    </tr>\n",
              "    <tr>\n",
              "      <th>2</th>\n",
              "      <td>3</td>\n",
              "      <td>Neymar Jr</td>\n",
              "      <td>1.75</td>\n",
              "      <td>68.04</td>\n",
              "    </tr>\n",
              "    <tr>\n",
              "      <th>3</th>\n",
              "      <td>4</td>\n",
              "      <td>De Gea</td>\n",
              "      <td>1.93</td>\n",
              "      <td>76.20</td>\n",
              "    </tr>\n",
              "    <tr>\n",
              "      <th>4</th>\n",
              "      <td>5</td>\n",
              "      <td>K. De Bruyne</td>\n",
              "      <td>1.80</td>\n",
              "      <td>69.85</td>\n",
              "    </tr>\n",
              "    <tr>\n",
              "      <th>5</th>\n",
              "      <td>6</td>\n",
              "      <td>E. Hazard</td>\n",
              "      <td>1.73</td>\n",
              "      <td>73.94</td>\n",
              "    </tr>\n",
              "    <tr>\n",
              "      <th>6</th>\n",
              "      <td>7</td>\n",
              "      <td>L. Modric</td>\n",
              "      <td>1.73</td>\n",
              "      <td>66.22</td>\n",
              "    </tr>\n",
              "    <tr>\n",
              "      <th>7</th>\n",
              "      <td>8</td>\n",
              "      <td>L. Suárez</td>\n",
              "      <td>1.83</td>\n",
              "      <td>86.18</td>\n",
              "    </tr>\n",
              "    <tr>\n",
              "      <th>8</th>\n",
              "      <td>9</td>\n",
              "      <td>Sergio Ramos</td>\n",
              "      <td>1.83</td>\n",
              "      <td>82.10</td>\n",
              "    </tr>\n",
              "    <tr>\n",
              "      <th>9</th>\n",
              "      <td>10</td>\n",
              "      <td>J. Oblak</td>\n",
              "      <td>1.88</td>\n",
              "      <td>87.09</td>\n",
              "    </tr>\n",
              "    <tr>\n",
              "      <th>10</th>\n",
              "      <td>11</td>\n",
              "      <td>R. Lewandowski</td>\n",
              "      <td>1.83</td>\n",
              "      <td>79.83</td>\n",
              "    </tr>\n",
              "    <tr>\n",
              "      <th>11</th>\n",
              "      <td>12</td>\n",
              "      <td>T. Kroos</td>\n",
              "      <td>1.83</td>\n",
              "      <td>76.20</td>\n",
              "    </tr>\n",
              "    <tr>\n",
              "      <th>12</th>\n",
              "      <td>13</td>\n",
              "      <td>D. Godín</td>\n",
              "      <td>1.88</td>\n",
              "      <td>78.02</td>\n",
              "    </tr>\n",
              "    <tr>\n",
              "      <th>13</th>\n",
              "      <td>14</td>\n",
              "      <td>David Silva</td>\n",
              "      <td>1.73</td>\n",
              "      <td>67.13</td>\n",
              "    </tr>\n",
              "    <tr>\n",
              "      <th>14</th>\n",
              "      <td>15</td>\n",
              "      <td>N. Kanté</td>\n",
              "      <td>1.68</td>\n",
              "      <td>72.12</td>\n",
              "    </tr>\n",
              "    <tr>\n",
              "      <th>15</th>\n",
              "      <td>16</td>\n",
              "      <td>P. Dybala</td>\n",
              "      <td>1.78</td>\n",
              "      <td>74.84</td>\n",
              "    </tr>\n",
              "    <tr>\n",
              "      <th>16</th>\n",
              "      <td>17</td>\n",
              "      <td>H. Kane</td>\n",
              "      <td>1.88</td>\n",
              "      <td>88.90</td>\n",
              "    </tr>\n",
              "    <tr>\n",
              "      <th>17</th>\n",
              "      <td>18</td>\n",
              "      <td>A. Griezmann</td>\n",
              "      <td>1.75</td>\n",
              "      <td>73.03</td>\n",
              "    </tr>\n",
              "    <tr>\n",
              "      <th>18</th>\n",
              "      <td>19</td>\n",
              "      <td>M. ter Stegen</td>\n",
              "      <td>1.88</td>\n",
              "      <td>84.82</td>\n",
              "    </tr>\n",
              "    <tr>\n",
              "      <th>19</th>\n",
              "      <td>20</td>\n",
              "      <td>T. Courtois</td>\n",
              "      <td>1.98</td>\n",
              "      <td>96.16</td>\n",
              "    </tr>\n",
              "  </tbody>\n",
              "</table>\n",
              "</div>\n",
              "      <button class=\"colab-df-convert\" onclick=\"convertToInteractive('df-88e0e487-f4fd-4b14-a236-9fbc2028b4aa')\"\n",
              "              title=\"Convert this dataframe to an interactive table.\"\n",
              "              style=\"display:none;\">\n",
              "        \n",
              "  <svg xmlns=\"http://www.w3.org/2000/svg\" height=\"24px\"viewBox=\"0 0 24 24\"\n",
              "       width=\"24px\">\n",
              "    <path d=\"M0 0h24v24H0V0z\" fill=\"none\"/>\n",
              "    <path d=\"M18.56 5.44l.94 2.06.94-2.06 2.06-.94-2.06-.94-.94-2.06-.94 2.06-2.06.94zm-11 1L8.5 8.5l.94-2.06 2.06-.94-2.06-.94L8.5 2.5l-.94 2.06-2.06.94zm10 10l.94 2.06.94-2.06 2.06-.94-2.06-.94-.94-2.06-.94 2.06-2.06.94z\"/><path d=\"M17.41 7.96l-1.37-1.37c-.4-.4-.92-.59-1.43-.59-.52 0-1.04.2-1.43.59L10.3 9.45l-7.72 7.72c-.78.78-.78 2.05 0 2.83L4 21.41c.39.39.9.59 1.41.59.51 0 1.02-.2 1.41-.59l7.78-7.78 2.81-2.81c.8-.78.8-2.07 0-2.86zM5.41 20L4 18.59l7.72-7.72 1.47 1.35L5.41 20z\"/>\n",
              "  </svg>\n",
              "      </button>\n",
              "      \n",
              "  <style>\n",
              "    .colab-df-container {\n",
              "      display:flex;\n",
              "      flex-wrap:wrap;\n",
              "      gap: 12px;\n",
              "    }\n",
              "\n",
              "    .colab-df-convert {\n",
              "      background-color: #E8F0FE;\n",
              "      border: none;\n",
              "      border-radius: 50%;\n",
              "      cursor: pointer;\n",
              "      display: none;\n",
              "      fill: #1967D2;\n",
              "      height: 32px;\n",
              "      padding: 0 0 0 0;\n",
              "      width: 32px;\n",
              "    }\n",
              "\n",
              "    .colab-df-convert:hover {\n",
              "      background-color: #E2EBFA;\n",
              "      box-shadow: 0px 1px 2px rgba(60, 64, 67, 0.3), 0px 1px 3px 1px rgba(60, 64, 67, 0.15);\n",
              "      fill: #174EA6;\n",
              "    }\n",
              "\n",
              "    [theme=dark] .colab-df-convert {\n",
              "      background-color: #3B4455;\n",
              "      fill: #D2E3FC;\n",
              "    }\n",
              "\n",
              "    [theme=dark] .colab-df-convert:hover {\n",
              "      background-color: #434B5C;\n",
              "      box-shadow: 0px 1px 3px 1px rgba(0, 0, 0, 0.15);\n",
              "      filter: drop-shadow(0px 1px 2px rgba(0, 0, 0, 0.3));\n",
              "      fill: #FFFFFF;\n",
              "    }\n",
              "  </style>\n",
              "\n",
              "      <script>\n",
              "        const buttonEl =\n",
              "          document.querySelector('#df-88e0e487-f4fd-4b14-a236-9fbc2028b4aa button.colab-df-convert');\n",
              "        buttonEl.style.display =\n",
              "          google.colab.kernel.accessAllowed ? 'block' : 'none';\n",
              "\n",
              "        async function convertToInteractive(key) {\n",
              "          const element = document.querySelector('#df-88e0e487-f4fd-4b14-a236-9fbc2028b4aa');\n",
              "          const dataTable =\n",
              "            await google.colab.kernel.invokeFunction('convertToInteractive',\n",
              "                                                     [key], {});\n",
              "          if (!dataTable) return;\n",
              "\n",
              "          const docLinkHtml = 'Like what you see? Visit the ' +\n",
              "            '<a target=\"_blank\" href=https://colab.research.google.com/notebooks/data_table.ipynb>data table notebook</a>'\n",
              "            + ' to learn more about interactive tables.';\n",
              "          element.innerHTML = '';\n",
              "          dataTable['output_type'] = 'display_data';\n",
              "          await google.colab.output.renderOutput(dataTable, element);\n",
              "          const docLink = document.createElement('div');\n",
              "          docLink.innerHTML = docLinkHtml;\n",
              "          element.appendChild(docLink);\n",
              "        }\n",
              "      </script>\n",
              "    </div>\n",
              "  </div>\n",
              "  "
            ],
            "text/plain": [
              "     X               Name  Estatura  PesoKgs\n",
              "0    1           L. Messi      1.70    72.12\n",
              "1    2  Cristiano Ronaldo      1.88    83.01\n",
              "2    3          Neymar Jr      1.75    68.04\n",
              "3    4             De Gea      1.93    76.20\n",
              "4    5       K. De Bruyne      1.80    69.85\n",
              "5    6          E. Hazard      1.73    73.94\n",
              "6    7          L. Modric      1.73    66.22\n",
              "7    8          L. Suárez      1.83    86.18\n",
              "8    9       Sergio Ramos      1.83    82.10\n",
              "9   10           J. Oblak      1.88    87.09\n",
              "10  11     R. Lewandowski      1.83    79.83\n",
              "11  12           T. Kroos      1.83    76.20\n",
              "12  13           D. Godín      1.88    78.02\n",
              "13  14        David Silva      1.73    67.13\n",
              "14  15           N. Kanté      1.68    72.12\n",
              "15  16          P. Dybala      1.78    74.84\n",
              "16  17            H. Kane      1.88    88.90\n",
              "17  18       A. Griezmann      1.75    73.03\n",
              "18  19      M. ter Stegen      1.88    84.82\n",
              "19  20        T. Courtois      1.98    96.16"
            ]
          },
          "metadata": {},
          "execution_count": 6
        }
      ]
    },
    {
      "cell_type": "markdown",
      "source": [
        "## tail() \n",
        "Últimos 20 registros"
      ],
      "metadata": {
        "id": "fkT0RPXJZ3DZ"
      }
    },
    {
      "cell_type": "code",
      "source": [
        "datos[['X', 'Name', 'Estatura', 'PesoKgs']].tail(20)"
      ],
      "metadata": {
        "colab": {
          "base_uri": "https://localhost:8080/",
          "height": 677
        },
        "id": "nh1E5BU7aLbR",
        "outputId": "b11ec7b2-4d1e-4eb5-f035-925a6e093a95"
      },
      "execution_count": null,
      "outputs": [
        {
          "output_type": "execute_result",
          "data": {
            "text/html": [
              "\n",
              "  <div id=\"df-63cecf5e-1a0f-4ef2-b93a-b6c718971673\">\n",
              "    <div class=\"colab-df-container\">\n",
              "      <div>\n",
              "<style scoped>\n",
              "    .dataframe tbody tr th:only-of-type {\n",
              "        vertical-align: middle;\n",
              "    }\n",
              "\n",
              "    .dataframe tbody tr th {\n",
              "        vertical-align: top;\n",
              "    }\n",
              "\n",
              "    .dataframe thead th {\n",
              "        text-align: right;\n",
              "    }\n",
              "</style>\n",
              "<table border=\"1\" class=\"dataframe\">\n",
              "  <thead>\n",
              "    <tr style=\"text-align: right;\">\n",
              "      <th></th>\n",
              "      <th>X</th>\n",
              "      <th>Name</th>\n",
              "      <th>Estatura</th>\n",
              "      <th>PesoKgs</th>\n",
              "    </tr>\n",
              "  </thead>\n",
              "  <tbody>\n",
              "    <tr>\n",
              "      <th>17887</th>\n",
              "      <td>17936</td>\n",
              "      <td>C. Ehlich</td>\n",
              "      <td>1.78</td>\n",
              "      <td>73.03</td>\n",
              "    </tr>\n",
              "    <tr>\n",
              "      <th>17888</th>\n",
              "      <td>17937</td>\n",
              "      <td>L. Collins</td>\n",
              "      <td>1.78</td>\n",
              "      <td>67.13</td>\n",
              "    </tr>\n",
              "    <tr>\n",
              "      <th>17889</th>\n",
              "      <td>17938</td>\n",
              "      <td>A. Kaltner</td>\n",
              "      <td>1.78</td>\n",
              "      <td>74.84</td>\n",
              "    </tr>\n",
              "    <tr>\n",
              "      <th>17890</th>\n",
              "      <td>17939</td>\n",
              "      <td>L. Watkins</td>\n",
              "      <td>1.75</td>\n",
              "      <td>79.83</td>\n",
              "    </tr>\n",
              "    <tr>\n",
              "      <th>17891</th>\n",
              "      <td>17940</td>\n",
              "      <td>J. Norville-Williams</td>\n",
              "      <td>1.80</td>\n",
              "      <td>76.20</td>\n",
              "    </tr>\n",
              "    <tr>\n",
              "      <th>17892</th>\n",
              "      <td>17941</td>\n",
              "      <td>S. Squire</td>\n",
              "      <td>1.85</td>\n",
              "      <td>74.84</td>\n",
              "    </tr>\n",
              "    <tr>\n",
              "      <th>17893</th>\n",
              "      <td>17942</td>\n",
              "      <td>N. Fuentes</td>\n",
              "      <td>1.73</td>\n",
              "      <td>66.22</td>\n",
              "    </tr>\n",
              "    <tr>\n",
              "      <th>17894</th>\n",
              "      <td>17943</td>\n",
              "      <td>J. Milli</td>\n",
              "      <td>1.91</td>\n",
              "      <td>84.82</td>\n",
              "    </tr>\n",
              "    <tr>\n",
              "      <th>17895</th>\n",
              "      <td>17944</td>\n",
              "      <td>S. Griffin</td>\n",
              "      <td>1.73</td>\n",
              "      <td>63.96</td>\n",
              "    </tr>\n",
              "    <tr>\n",
              "      <th>17896</th>\n",
              "      <td>17945</td>\n",
              "      <td>K. Fujikawa</td>\n",
              "      <td>1.70</td>\n",
              "      <td>66.22</td>\n",
              "    </tr>\n",
              "    <tr>\n",
              "      <th>17897</th>\n",
              "      <td>17946</td>\n",
              "      <td>D. Holland</td>\n",
              "      <td>1.78</td>\n",
              "      <td>63.96</td>\n",
              "    </tr>\n",
              "    <tr>\n",
              "      <th>17898</th>\n",
              "      <td>17947</td>\n",
              "      <td>J. Livesey</td>\n",
              "      <td>1.80</td>\n",
              "      <td>69.85</td>\n",
              "    </tr>\n",
              "    <tr>\n",
              "      <th>17899</th>\n",
              "      <td>17948</td>\n",
              "      <td>M. Baldisimo</td>\n",
              "      <td>1.68</td>\n",
              "      <td>68.04</td>\n",
              "    </tr>\n",
              "    <tr>\n",
              "      <th>17900</th>\n",
              "      <td>17949</td>\n",
              "      <td>J. Young</td>\n",
              "      <td>1.75</td>\n",
              "      <td>71.21</td>\n",
              "    </tr>\n",
              "    <tr>\n",
              "      <th>17901</th>\n",
              "      <td>17950</td>\n",
              "      <td>D. Walsh</td>\n",
              "      <td>1.85</td>\n",
              "      <td>76.20</td>\n",
              "    </tr>\n",
              "    <tr>\n",
              "      <th>17902</th>\n",
              "      <td>17951</td>\n",
              "      <td>J. Lundstram</td>\n",
              "      <td>1.75</td>\n",
              "      <td>60.78</td>\n",
              "    </tr>\n",
              "    <tr>\n",
              "      <th>17903</th>\n",
              "      <td>17952</td>\n",
              "      <td>N. Christoffersson</td>\n",
              "      <td>1.91</td>\n",
              "      <td>77.11</td>\n",
              "    </tr>\n",
              "    <tr>\n",
              "      <th>17904</th>\n",
              "      <td>17953</td>\n",
              "      <td>B. Worman</td>\n",
              "      <td>1.73</td>\n",
              "      <td>67.13</td>\n",
              "    </tr>\n",
              "    <tr>\n",
              "      <th>17905</th>\n",
              "      <td>17954</td>\n",
              "      <td>D. Walker-Rice</td>\n",
              "      <td>1.78</td>\n",
              "      <td>69.85</td>\n",
              "    </tr>\n",
              "    <tr>\n",
              "      <th>17906</th>\n",
              "      <td>17955</td>\n",
              "      <td>G. Nugent</td>\n",
              "      <td>1.78</td>\n",
              "      <td>79.83</td>\n",
              "    </tr>\n",
              "  </tbody>\n",
              "</table>\n",
              "</div>\n",
              "      <button class=\"colab-df-convert\" onclick=\"convertToInteractive('df-63cecf5e-1a0f-4ef2-b93a-b6c718971673')\"\n",
              "              title=\"Convert this dataframe to an interactive table.\"\n",
              "              style=\"display:none;\">\n",
              "        \n",
              "  <svg xmlns=\"http://www.w3.org/2000/svg\" height=\"24px\"viewBox=\"0 0 24 24\"\n",
              "       width=\"24px\">\n",
              "    <path d=\"M0 0h24v24H0V0z\" fill=\"none\"/>\n",
              "    <path d=\"M18.56 5.44l.94 2.06.94-2.06 2.06-.94-2.06-.94-.94-2.06-.94 2.06-2.06.94zm-11 1L8.5 8.5l.94-2.06 2.06-.94-2.06-.94L8.5 2.5l-.94 2.06-2.06.94zm10 10l.94 2.06.94-2.06 2.06-.94-2.06-.94-.94-2.06-.94 2.06-2.06.94z\"/><path d=\"M17.41 7.96l-1.37-1.37c-.4-.4-.92-.59-1.43-.59-.52 0-1.04.2-1.43.59L10.3 9.45l-7.72 7.72c-.78.78-.78 2.05 0 2.83L4 21.41c.39.39.9.59 1.41.59.51 0 1.02-.2 1.41-.59l7.78-7.78 2.81-2.81c.8-.78.8-2.07 0-2.86zM5.41 20L4 18.59l7.72-7.72 1.47 1.35L5.41 20z\"/>\n",
              "  </svg>\n",
              "      </button>\n",
              "      \n",
              "  <style>\n",
              "    .colab-df-container {\n",
              "      display:flex;\n",
              "      flex-wrap:wrap;\n",
              "      gap: 12px;\n",
              "    }\n",
              "\n",
              "    .colab-df-convert {\n",
              "      background-color: #E8F0FE;\n",
              "      border: none;\n",
              "      border-radius: 50%;\n",
              "      cursor: pointer;\n",
              "      display: none;\n",
              "      fill: #1967D2;\n",
              "      height: 32px;\n",
              "      padding: 0 0 0 0;\n",
              "      width: 32px;\n",
              "    }\n",
              "\n",
              "    .colab-df-convert:hover {\n",
              "      background-color: #E2EBFA;\n",
              "      box-shadow: 0px 1px 2px rgba(60, 64, 67, 0.3), 0px 1px 3px 1px rgba(60, 64, 67, 0.15);\n",
              "      fill: #174EA6;\n",
              "    }\n",
              "\n",
              "    [theme=dark] .colab-df-convert {\n",
              "      background-color: #3B4455;\n",
              "      fill: #D2E3FC;\n",
              "    }\n",
              "\n",
              "    [theme=dark] .colab-df-convert:hover {\n",
              "      background-color: #434B5C;\n",
              "      box-shadow: 0px 1px 3px 1px rgba(0, 0, 0, 0.15);\n",
              "      filter: drop-shadow(0px 1px 2px rgba(0, 0, 0, 0.3));\n",
              "      fill: #FFFFFF;\n",
              "    }\n",
              "  </style>\n",
              "\n",
              "      <script>\n",
              "        const buttonEl =\n",
              "          document.querySelector('#df-63cecf5e-1a0f-4ef2-b93a-b6c718971673 button.colab-df-convert');\n",
              "        buttonEl.style.display =\n",
              "          google.colab.kernel.accessAllowed ? 'block' : 'none';\n",
              "\n",
              "        async function convertToInteractive(key) {\n",
              "          const element = document.querySelector('#df-63cecf5e-1a0f-4ef2-b93a-b6c718971673');\n",
              "          const dataTable =\n",
              "            await google.colab.kernel.invokeFunction('convertToInteractive',\n",
              "                                                     [key], {});\n",
              "          if (!dataTable) return;\n",
              "\n",
              "          const docLinkHtml = 'Like what you see? Visit the ' +\n",
              "            '<a target=\"_blank\" href=https://colab.research.google.com/notebooks/data_table.ipynb>data table notebook</a>'\n",
              "            + ' to learn more about interactive tables.';\n",
              "          element.innerHTML = '';\n",
              "          dataTable['output_type'] = 'display_data';\n",
              "          await google.colab.output.renderOutput(dataTable, element);\n",
              "          const docLink = document.createElement('div');\n",
              "          docLink.innerHTML = docLinkHtml;\n",
              "          element.appendChild(docLink);\n",
              "        }\n",
              "      </script>\n",
              "    </div>\n",
              "  </div>\n",
              "  "
            ],
            "text/plain": [
              "           X                  Name  Estatura  PesoKgs\n",
              "17887  17936             C. Ehlich      1.78    73.03\n",
              "17888  17937            L. Collins      1.78    67.13\n",
              "17889  17938            A. Kaltner      1.78    74.84\n",
              "17890  17939            L. Watkins      1.75    79.83\n",
              "17891  17940  J. Norville-Williams      1.80    76.20\n",
              "17892  17941             S. Squire      1.85    74.84\n",
              "17893  17942            N. Fuentes      1.73    66.22\n",
              "17894  17943              J. Milli      1.91    84.82\n",
              "17895  17944            S. Griffin      1.73    63.96\n",
              "17896  17945           K. Fujikawa      1.70    66.22\n",
              "17897  17946            D. Holland      1.78    63.96\n",
              "17898  17947            J. Livesey      1.80    69.85\n",
              "17899  17948          M. Baldisimo      1.68    68.04\n",
              "17900  17949              J. Young      1.75    71.21\n",
              "17901  17950              D. Walsh      1.85    76.20\n",
              "17902  17951          J. Lundstram      1.75    60.78\n",
              "17903  17952    N. Christoffersson      1.91    77.11\n",
              "17904  17953             B. Worman      1.73    67.13\n",
              "17905  17954        D. Walker-Rice      1.78    69.85\n",
              "17906  17955             G. Nugent      1.78    79.83"
            ]
          },
          "metadata": {},
          "execution_count": 7
        }
      ]
    },
    {
      "cell_type": "markdown",
      "source": [
        "## Partir datos en datos de entrenamiento y datos de validación"
      ],
      "metadata": {
        "id": "xkhGh8g_Vpi7"
      }
    },
    {
      "cell_type": "markdown",
      "source": [
        "Las variables de interés serán Estaura y PesoKgs  de los datos de entrenamiento. \n",
        "\n",
        "De las dos variables de interés, Estatura y PesoKgs se determina que la variable predictora es Estatura y el PesoKgs es la variable de respuesta o también:\n",
        "\n",
        "* Estatura es variable independiente y\n",
        "\n",
        "* PesoKgs es variable dependiente\n",
        "\n",
        "* Es decir, la variable PesoKgs depende de la Estatura\n",
        "Con la función loc[:'atributo'] se eligen las variables de interés del conjunto de datos\n",
        "\n"
      ],
      "metadata": {
        "id": "5HyFYeOmWjkn"
      }
    },
    {
      "cell_type": "code",
      "source": [
        "\n",
        "# estatura = datos.loc[:, 'Estatura'].values\n",
        "# pesokgs = datos.loc[:, 'PesoKgs'].values\n"
      ],
      "metadata": {
        "id": "PEFiTY_yVu3o"
      },
      "execution_count": null,
      "outputs": []
    },
    {
      "cell_type": "markdown",
      "source": [
        "Preparando los datos con función array.reshape(-1, 1). -1, 1 significa que son todos los datos de un arreglo de una dimensión."
      ],
      "metadata": {
        "id": "wixil7tUdFXq"
      }
    },
    {
      "cell_type": "code",
      "source": [
        "# estatura = datos[['Estatura']].reshape(-1, 1)\n",
        "# pesokgs = pesokgs.reshape(-1, 1)\n",
        "\n",
        "estatura = datos[['Estatura']].to_numpy()\n",
        "pesokgs = datos[['PesoKgs']].to_numpy()\n",
        "\n"
      ],
      "metadata": {
        "id": "tbFE9y6odI8S"
      },
      "execution_count": null,
      "outputs": []
    },
    {
      "cell_type": "markdown",
      "source": [
        "### Datos de entrenamiento y datos de validación (test)\n",
        "\n",
        "*   Elemento de la lista\n",
        "*   Elemento de la lista\n",
        "\n",
        "\n",
        "\n",
        "Ahora que se tiene la variable independiente estarur y la variable dependiente pesokgs, el siguiente paso es dividir estos datos en conjuntos de entrenamiento y prueba o validación.\n",
        "\n",
        "Se utiiza el método *train_test_split()* que forma parte de la librería Scikit-Learn.\n",
        "\n",
        "El argumento test_size establece el 30% para datos de validación por lo que el 70% pertenece a los datos de entrenamiento"
      ],
      "metadata": {
        "id": "RvR-3YAuafup"
      }
    },
    {
      "cell_type": "code",
      "source": [
        "estatura_train, estatura_test, pesokgs_train, pesokgs_test = train_test_split(estatura, pesokgs, test_size=0.3, random_state=421)\n"
      ],
      "metadata": {
        "id": "YKsW7QBpanPo"
      },
      "execution_count": null,
      "outputs": []
    },
    {
      "cell_type": "markdown",
      "source": [
        "## Creando el modelo\n",
        "\n",
        "Se construirá el modelo usando *LinearRegression a partir* de la librería *sklearn.linear_model* con los datos de entrenamiento "
      ],
      "metadata": {
        "id": "Gl5VpsiicCux"
      }
    },
    {
      "cell_type": "code",
      "source": [
        "estatura_train"
      ],
      "metadata": {
        "colab": {
          "base_uri": "https://localhost:8080/"
        },
        "id": "aVgJxtqmigeC",
        "outputId": "4250eeb1-8a0a-4152-e444-44a034650f48"
      },
      "execution_count": null,
      "outputs": [
        {
          "output_type": "execute_result",
          "data": {
            "text/plain": [
              "array([[1.88],\n",
              "       [1.78],\n",
              "       [1.88],\n",
              "       ...,\n",
              "       [1.75],\n",
              "       [1.88],\n",
              "       [1.91]])"
            ]
          },
          "metadata": {},
          "execution_count": 12
        }
      ]
    },
    {
      "cell_type": "code",
      "source": [
        "modelo = LinearRegression()\n",
        "modelo.fit(estatura_train, pesokgs_train)"
      ],
      "metadata": {
        "colab": {
          "base_uri": "https://localhost:8080/"
        },
        "id": "Uox3Ecz9cIds",
        "outputId": "bea69164-f336-46fe-d9c1-bf71e869a5b5"
      },
      "execution_count": null,
      "outputs": [
        {
          "output_type": "execute_result",
          "data": {
            "text/plain": [
              "LinearRegression()"
            ]
          },
          "metadata": {},
          "execution_count": 13
        }
      ]
    },
    {
      "cell_type": "markdown",
      "source": [
        "### Dispersión de los datos\n",
        "Dispersión de los datos de entrenamiento construeno la linea de tendencia y haciendo un diagrama de dispersión con las variables estatura y peso de los datos de entrenamiento."
      ],
      "metadata": {
        "id": "xnC6kx47cjAR"
      }
    },
    {
      "cell_type": "code",
      "source": [
        "linea_tendencia = modelo.predict(estatura_train)\n",
        "plt.plot(estatura_train, pesokgs_train, 'o', color= 'blue')\n",
        "plt.plot(estatura_train, linea_tendencia, color=\"red\")\n"
      ],
      "metadata": {
        "colab": {
          "base_uri": "https://localhost:8080/",
          "height": 282
        },
        "id": "-WYoSjYqc5xw",
        "outputId": "2b50b2c3-1427-403e-cac6-bfd322eee959"
      },
      "execution_count": null,
      "outputs": [
        {
          "output_type": "execute_result",
          "data": {
            "text/plain": [
              "[<matplotlib.lines.Line2D at 0x7f0ceab1c890>]"
            ]
          },
          "metadata": {},
          "execution_count": 14
        },
        {
          "output_type": "display_data",
          "data": {
            "image/png": "[encoded data removed]",
            "text/plain": [
              "<Figure size 432x288 with 1 Axes>"
            ]
          },
          "metadata": {
            "needs_background": "light"
          }
        }
      ]
    },
    {
      "cell_type": "markdown",
      "source": [
        "### Coeficientes\n",
        "\n",
        "$$\n",
        "Y = a + bx\n",
        "$$\n",
        "\n",
        "ó \n",
        "\n",
        "$$\n",
        "Y = \\beta_0 + \\beta_1\\cdot x\n",
        "$$\n",
        "\n"
      ],
      "metadata": {
        "id": "Vf_li9VdoTxk"
      }
    },
    {
      "cell_type": "code",
      "source": [
        "a = modelo.intercept_\n",
        "b = modelo.coef_\n",
        "\n",
        "print(\"Valor de a: \", a)\n",
        "print(\"Valor de b; \", b)"
      ],
      "metadata": {
        "colab": {
          "base_uri": "https://localhost:8080/"
        },
        "id": "_zOfpoUnoicl",
        "outputId": "0b2d0739-86ca-49a5-fe18-9465f8ae5a31"
      },
      "execution_count": null,
      "outputs": [
        {
          "output_type": "stream",
          "name": "stdout",
          "text": [
            "Valor de a:  [-68.66661314]\n",
            "Valor de b;  [[79.42857258]]\n"
          ]
        }
      ]
    },
    {
      "cell_type": "markdown",
      "source": [
        "## Predicciones \n",
        "\n",
        "Las predicciones se hacen con el conjunto de datos de validación."
      ],
      "metadata": {
        "id": "rgwFpv2go_el"
      }
    },
    {
      "cell_type": "code",
      "source": [
        "predicciones = modelo.predict(estatura_test)\n",
        "predicciones"
      ],
      "metadata": {
        "colab": {
          "base_uri": "https://localhost:8080/"
        },
        "id": "-4YCKt3ApILr",
        "outputId": "ea34f75d-5810-4f94-f324-cc5cc62a57f4"
      },
      "execution_count": null,
      "outputs": [
        {
          "output_type": "execute_result",
          "data": {
            "text/plain": [
              "array([[84.63053195],\n",
              "       [76.68767469],\n",
              "       [76.68767469],\n",
              "       ...,\n",
              "       [78.27624614],\n",
              "       [78.27624614],\n",
              "       [78.27624614]])"
            ]
          },
          "metadata": {},
          "execution_count": 16
        }
      ]
    },
    {
      "cell_type": "code",
      "source": [
        "pesokgs_test"
      ],
      "metadata": {
        "colab": {
          "base_uri": "https://localhost:8080/"
        },
        "id": "MU33gIqVqbzO",
        "outputId": "981badaa-038a-4159-8094-68bfaf0a4d55"
      },
      "execution_count": null,
      "outputs": [
        {
          "output_type": "execute_result",
          "data": {
            "text/plain": [
              "array([[83.01],\n",
              "       [78.93],\n",
              "       [83.01],\n",
              "       ...,\n",
              "       [82.1 ],\n",
              "       [87.09],\n",
              "       [77.11]])"
            ]
          },
          "metadata": {},
          "execution_count": 17
        }
      ]
    },
    {
      "cell_type": "markdown",
      "source": [
        "Crear un *data.frame* llamado *comparaciones* a partir de la creación de un diccionario con los valores reales del conjunto de entrenamiento y las predicciones calculadas. \n",
        "\n",
        "Con la función *flatten().tolist()* convierte el arreglo a una lista de una dimensión.\n"
      ],
      "metadata": {
        "id": "AAz9UQ7ppaXU"
      }
    },
    {
      "cell_type": "code",
      "source": [
        "diccionario = {'Estatura': estatura_test.flatten().tolist(),\n",
        "                'Real' : pesokgs_test.flatten().tolist(), \n",
        "               'Predicho' : predicciones.flatten().tolist()}\n",
        "diccionario\n",
        "\n",
        "comparaciones = pd.DataFrame(diccionario)\n",
        "\n"
      ],
      "metadata": {
        "id": "vNX-fk0EphtU"
      },
      "execution_count": null,
      "outputs": []
    },
    {
      "cell_type": "code",
      "source": [
        "comparaciones.head(20)\n"
      ],
      "metadata": {
        "colab": {
          "base_uri": "https://localhost:8080/",
          "height": 677
        },
        "id": "dzGgHdXZ18kP",
        "outputId": "2d27766f-7c6f-469d-b610-d81d47114f6a"
      },
      "execution_count": null,
      "outputs": [
        {
          "output_type": "execute_result",
          "data": {
            "text/html": [
              "\n",
              "  <div id=\"df-63c49bc9-4b48-4b0c-9503-8b6af80690ae\">\n",
              "    <div class=\"colab-df-container\">\n",
              "      <div>\n",
              "<style scoped>\n",
              "    .dataframe tbody tr th:only-of-type {\n",
              "        vertical-align: middle;\n",
              "    }\n",
              "\n",
              "    .dataframe tbody tr th {\n",
              "        vertical-align: top;\n",
              "    }\n",
              "\n",
              "    .dataframe thead th {\n",
              "        text-align: right;\n",
              "    }\n",
              "</style>\n",
              "<table border=\"1\" class=\"dataframe\">\n",
              "  <thead>\n",
              "    <tr style=\"text-align: right;\">\n",
              "      <th></th>\n",
              "      <th>Estatura</th>\n",
              "      <th>Real</th>\n",
              "      <th>Predicho</th>\n",
              "    </tr>\n",
              "  </thead>\n",
              "  <tbody>\n",
              "    <tr>\n",
              "      <th>0</th>\n",
              "      <td>1.93</td>\n",
              "      <td>83.01</td>\n",
              "      <td>84.630532</td>\n",
              "    </tr>\n",
              "    <tr>\n",
              "      <th>1</th>\n",
              "      <td>1.83</td>\n",
              "      <td>78.93</td>\n",
              "      <td>76.687675</td>\n",
              "    </tr>\n",
              "    <tr>\n",
              "      <th>2</th>\n",
              "      <td>1.83</td>\n",
              "      <td>83.01</td>\n",
              "      <td>76.687675</td>\n",
              "    </tr>\n",
              "    <tr>\n",
              "      <th>3</th>\n",
              "      <td>1.75</td>\n",
              "      <td>73.94</td>\n",
              "      <td>70.333389</td>\n",
              "    </tr>\n",
              "    <tr>\n",
              "      <th>4</th>\n",
              "      <td>1.73</td>\n",
              "      <td>73.03</td>\n",
              "      <td>68.744817</td>\n",
              "    </tr>\n",
              "    <tr>\n",
              "      <th>5</th>\n",
              "      <td>1.83</td>\n",
              "      <td>82.10</td>\n",
              "      <td>76.687675</td>\n",
              "    </tr>\n",
              "    <tr>\n",
              "      <th>6</th>\n",
              "      <td>1.88</td>\n",
              "      <td>73.94</td>\n",
              "      <td>80.659103</td>\n",
              "    </tr>\n",
              "    <tr>\n",
              "      <th>7</th>\n",
              "      <td>1.88</td>\n",
              "      <td>89.81</td>\n",
              "      <td>80.659103</td>\n",
              "    </tr>\n",
              "    <tr>\n",
              "      <th>8</th>\n",
              "      <td>1.88</td>\n",
              "      <td>84.82</td>\n",
              "      <td>80.659103</td>\n",
              "    </tr>\n",
              "    <tr>\n",
              "      <th>9</th>\n",
              "      <td>1.88</td>\n",
              "      <td>73.94</td>\n",
              "      <td>80.659103</td>\n",
              "    </tr>\n",
              "    <tr>\n",
              "      <th>10</th>\n",
              "      <td>1.70</td>\n",
              "      <td>68.95</td>\n",
              "      <td>66.361960</td>\n",
              "    </tr>\n",
              "    <tr>\n",
              "      <th>11</th>\n",
              "      <td>1.85</td>\n",
              "      <td>73.94</td>\n",
              "      <td>78.276246</td>\n",
              "    </tr>\n",
              "    <tr>\n",
              "      <th>12</th>\n",
              "      <td>1.80</td>\n",
              "      <td>73.94</td>\n",
              "      <td>74.304818</td>\n",
              "    </tr>\n",
              "    <tr>\n",
              "      <th>13</th>\n",
              "      <td>1.93</td>\n",
              "      <td>83.91</td>\n",
              "      <td>84.630532</td>\n",
              "    </tr>\n",
              "    <tr>\n",
              "      <th>14</th>\n",
              "      <td>1.98</td>\n",
              "      <td>82.10</td>\n",
              "      <td>88.601961</td>\n",
              "    </tr>\n",
              "    <tr>\n",
              "      <th>15</th>\n",
              "      <td>1.83</td>\n",
              "      <td>76.20</td>\n",
              "      <td>76.687675</td>\n",
              "    </tr>\n",
              "    <tr>\n",
              "      <th>16</th>\n",
              "      <td>1.88</td>\n",
              "      <td>89.81</td>\n",
              "      <td>80.659103</td>\n",
              "    </tr>\n",
              "    <tr>\n",
              "      <th>17</th>\n",
              "      <td>1.85</td>\n",
              "      <td>78.02</td>\n",
              "      <td>78.276246</td>\n",
              "    </tr>\n",
              "    <tr>\n",
              "      <th>18</th>\n",
              "      <td>1.85</td>\n",
              "      <td>77.11</td>\n",
              "      <td>78.276246</td>\n",
              "    </tr>\n",
              "    <tr>\n",
              "      <th>19</th>\n",
              "      <td>1.75</td>\n",
              "      <td>66.22</td>\n",
              "      <td>70.333389</td>\n",
              "    </tr>\n",
              "  </tbody>\n",
              "</table>\n",
              "</div>\n",
              "      <button class=\"colab-df-convert\" onclick=\"convertToInteractive('df-63c49bc9-4b48-4b0c-9503-8b6af80690ae')\"\n",
              "              title=\"Convert this dataframe to an interactive table.\"\n",
              "              style=\"display:none;\">\n",
              "        \n",
              "  <svg xmlns=\"http://www.w3.org/2000/svg\" height=\"24px\"viewBox=\"0 0 24 24\"\n",
              "       width=\"24px\">\n",
              "    <path d=\"M0 0h24v24H0V0z\" fill=\"none\"/>\n",
              "    <path d=\"M18.56 5.44l.94 2.06.94-2.06 2.06-.94-2.06-.94-.94-2.06-.94 2.06-2.06.94zm-11 1L8.5 8.5l.94-2.06 2.06-.94-2.06-.94L8.5 2.5l-.94 2.06-2.06.94zm10 10l.94 2.06.94-2.06 2.06-.94-2.06-.94-.94-2.06-.94 2.06-2.06.94z\"/><path d=\"M17.41 7.96l-1.37-1.37c-.4-.4-.92-.59-1.43-.59-.52 0-1.04.2-1.43.59L10.3 9.45l-7.72 7.72c-.78.78-.78 2.05 0 2.83L4 21.41c.39.39.9.59 1.41.59.51 0 1.02-.2 1.41-.59l7.78-7.78 2.81-2.81c.8-.78.8-2.07 0-2.86zM5.41 20L4 18.59l7.72-7.72 1.47 1.35L5.41 20z\"/>\n",
              "  </svg>\n",
              "      </button>\n",
              "      \n",
              "  <style>\n",
              "    .colab-df-container {\n",
              "      display:flex;\n",
              "      flex-wrap:wrap;\n",
              "      gap: 12px;\n",
              "    }\n",
              "\n",
              "    .colab-df-convert {\n",
              "      background-color: #E8F0FE;\n",
              "      border: none;\n",
              "      border-radius: 50%;\n",
              "      cursor: pointer;\n",
              "      display: none;\n",
              "      fill: #1967D2;\n",
              "      height: 32px;\n",
              "      padding: 0 0 0 0;\n",
              "      width: 32px;\n",
              "    }\n",
              "\n",
              "    .colab-df-convert:hover {\n",
              "      background-color: #E2EBFA;\n",
              "      box-shadow: 0px 1px 2px rgba(60, 64, 67, 0.3), 0px 1px 3px 1px rgba(60, 64, 67, 0.15);\n",
              "      fill: #174EA6;\n",
              "    }\n",
              "\n",
              "    [theme=dark] .colab-df-convert {\n",
              "      background-color: #3B4455;\n",
              "      fill: #D2E3FC;\n",
              "    }\n",
              "\n",
              "    [theme=dark] .colab-df-convert:hover {\n",
              "      background-color: #434B5C;\n",
              "      box-shadow: 0px 1px 3px 1px rgba(0, 0, 0, 0.15);\n",
              "      filter: drop-shadow(0px 1px 2px rgba(0, 0, 0, 0.3));\n",
              "      fill: #FFFFFF;\n",
              "    }\n",
              "  </style>\n",
              "\n",
              "      <script>\n",
              "        const buttonEl =\n",
              "          document.querySelector('#df-63c49bc9-4b48-4b0c-9503-8b6af80690ae button.colab-df-convert');\n",
              "        buttonEl.style.display =\n",
              "          google.colab.kernel.accessAllowed ? 'block' : 'none';\n",
              "\n",
              "        async function convertToInteractive(key) {\n",
              "          const element = document.querySelector('#df-63c49bc9-4b48-4b0c-9503-8b6af80690ae');\n",
              "          const dataTable =\n",
              "            await google.colab.kernel.invokeFunction('convertToInteractive',\n",
              "                                                     [key], {});\n",
              "          if (!dataTable) return;\n",
              "\n",
              "          const docLinkHtml = 'Like what you see? Visit the ' +\n",
              "            '<a target=\"_blank\" href=https://colab.research.google.com/notebooks/data_table.ipynb>data table notebook</a>'\n",
              "            + ' to learn more about interactive tables.';\n",
              "          element.innerHTML = '';\n",
              "          dataTable['output_type'] = 'display_data';\n",
              "          await google.colab.output.renderOutput(dataTable, element);\n",
              "          const docLink = document.createElement('div');\n",
              "          docLink.innerHTML = docLinkHtml;\n",
              "          element.appendChild(docLink);\n",
              "        }\n",
              "      </script>\n",
              "    </div>\n",
              "  </div>\n",
              "  "
            ],
            "text/plain": [
              "    Estatura   Real   Predicho\n",
              "0       1.93  83.01  84.630532\n",
              "1       1.83  78.93  76.687675\n",
              "2       1.83  83.01  76.687675\n",
              "3       1.75  73.94  70.333389\n",
              "4       1.73  73.03  68.744817\n",
              "5       1.83  82.10  76.687675\n",
              "6       1.88  73.94  80.659103\n",
              "7       1.88  89.81  80.659103\n",
              "8       1.88  84.82  80.659103\n",
              "9       1.88  73.94  80.659103\n",
              "10      1.70  68.95  66.361960\n",
              "11      1.85  73.94  78.276246\n",
              "12      1.80  73.94  74.304818\n",
              "13      1.93  83.91  84.630532\n",
              "14      1.98  82.10  88.601961\n",
              "15      1.83  76.20  76.687675\n",
              "16      1.88  89.81  80.659103\n",
              "17      1.85  78.02  78.276246\n",
              "18      1.85  77.11  78.276246\n",
              "19      1.75  66.22  70.333389"
            ]
          },
          "metadata": {},
          "execution_count": 19
        }
      ]
    },
    {
      "cell_type": "code",
      "source": [
        "comparaciones.tail(20)"
      ],
      "metadata": {
        "colab": {
          "base_uri": "https://localhost:8080/",
          "height": 677
        },
        "id": "Y02BrDUV1-zv",
        "outputId": "7073e58a-8e1c-4e07-991d-2ad0fdacc3d4"
      },
      "execution_count": null,
      "outputs": [
        {
          "output_type": "execute_result",
          "data": {
            "text/html": [
              "\n",
              "  <div id=\"df-0f47df94-308a-42a1-82cb-1806f234b2e5\">\n",
              "    <div class=\"colab-df-container\">\n",
              "      <div>\n",
              "<style scoped>\n",
              "    .dataframe tbody tr th:only-of-type {\n",
              "        vertical-align: middle;\n",
              "    }\n",
              "\n",
              "    .dataframe tbody tr th {\n",
              "        vertical-align: top;\n",
              "    }\n",
              "\n",
              "    .dataframe thead th {\n",
              "        text-align: right;\n",
              "    }\n",
              "</style>\n",
              "<table border=\"1\" class=\"dataframe\">\n",
              "  <thead>\n",
              "    <tr style=\"text-align: right;\">\n",
              "      <th></th>\n",
              "      <th>Estatura</th>\n",
              "      <th>Real</th>\n",
              "      <th>Predicho</th>\n",
              "    </tr>\n",
              "  </thead>\n",
              "  <tbody>\n",
              "    <tr>\n",
              "      <th>5353</th>\n",
              "      <td>1.70</td>\n",
              "      <td>69.85</td>\n",
              "      <td>66.361960</td>\n",
              "    </tr>\n",
              "    <tr>\n",
              "      <th>5354</th>\n",
              "      <td>1.83</td>\n",
              "      <td>72.12</td>\n",
              "      <td>76.687675</td>\n",
              "    </tr>\n",
              "    <tr>\n",
              "      <th>5355</th>\n",
              "      <td>1.88</td>\n",
              "      <td>83.91</td>\n",
              "      <td>80.659103</td>\n",
              "    </tr>\n",
              "    <tr>\n",
              "      <th>5356</th>\n",
              "      <td>1.83</td>\n",
              "      <td>91.17</td>\n",
              "      <td>76.687675</td>\n",
              "    </tr>\n",
              "    <tr>\n",
              "      <th>5357</th>\n",
              "      <td>1.83</td>\n",
              "      <td>74.84</td>\n",
              "      <td>76.687675</td>\n",
              "    </tr>\n",
              "    <tr>\n",
              "      <th>5358</th>\n",
              "      <td>1.83</td>\n",
              "      <td>77.11</td>\n",
              "      <td>76.687675</td>\n",
              "    </tr>\n",
              "    <tr>\n",
              "      <th>5359</th>\n",
              "      <td>1.68</td>\n",
              "      <td>73.03</td>\n",
              "      <td>64.773389</td>\n",
              "    </tr>\n",
              "    <tr>\n",
              "      <th>5360</th>\n",
              "      <td>1.98</td>\n",
              "      <td>88.00</td>\n",
              "      <td>88.601961</td>\n",
              "    </tr>\n",
              "    <tr>\n",
              "      <th>5361</th>\n",
              "      <td>1.65</td>\n",
              "      <td>64.86</td>\n",
              "      <td>62.390532</td>\n",
              "    </tr>\n",
              "    <tr>\n",
              "      <th>5362</th>\n",
              "      <td>1.70</td>\n",
              "      <td>59.87</td>\n",
              "      <td>66.361960</td>\n",
              "    </tr>\n",
              "    <tr>\n",
              "      <th>5363</th>\n",
              "      <td>1.73</td>\n",
              "      <td>66.22</td>\n",
              "      <td>68.744817</td>\n",
              "    </tr>\n",
              "    <tr>\n",
              "      <th>5364</th>\n",
              "      <td>1.85</td>\n",
              "      <td>77.11</td>\n",
              "      <td>78.276246</td>\n",
              "    </tr>\n",
              "    <tr>\n",
              "      <th>5365</th>\n",
              "      <td>1.68</td>\n",
              "      <td>60.78</td>\n",
              "      <td>64.773389</td>\n",
              "    </tr>\n",
              "    <tr>\n",
              "      <th>5366</th>\n",
              "      <td>1.85</td>\n",
              "      <td>79.83</td>\n",
              "      <td>78.276246</td>\n",
              "    </tr>\n",
              "    <tr>\n",
              "      <th>5367</th>\n",
              "      <td>1.83</td>\n",
              "      <td>74.84</td>\n",
              "      <td>76.687675</td>\n",
              "    </tr>\n",
              "    <tr>\n",
              "      <th>5368</th>\n",
              "      <td>1.88</td>\n",
              "      <td>74.84</td>\n",
              "      <td>80.659103</td>\n",
              "    </tr>\n",
              "    <tr>\n",
              "      <th>5369</th>\n",
              "      <td>1.85</td>\n",
              "      <td>81.19</td>\n",
              "      <td>78.276246</td>\n",
              "    </tr>\n",
              "    <tr>\n",
              "      <th>5370</th>\n",
              "      <td>1.85</td>\n",
              "      <td>82.10</td>\n",
              "      <td>78.276246</td>\n",
              "    </tr>\n",
              "    <tr>\n",
              "      <th>5371</th>\n",
              "      <td>1.85</td>\n",
              "      <td>87.09</td>\n",
              "      <td>78.276246</td>\n",
              "    </tr>\n",
              "    <tr>\n",
              "      <th>5372</th>\n",
              "      <td>1.85</td>\n",
              "      <td>77.11</td>\n",
              "      <td>78.276246</td>\n",
              "    </tr>\n",
              "  </tbody>\n",
              "</table>\n",
              "</div>\n",
              "      <button class=\"colab-df-convert\" onclick=\"convertToInteractive('df-0f47df94-308a-42a1-82cb-1806f234b2e5')\"\n",
              "              title=\"Convert this dataframe to an interactive table.\"\n",
              "              style=\"display:none;\">\n",
              "        \n",
              "  <svg xmlns=\"http://www.w3.org/2000/svg\" height=\"24px\"viewBox=\"0 0 24 24\"\n",
              "       width=\"24px\">\n",
              "    <path d=\"M0 0h24v24H0V0z\" fill=\"none\"/>\n",
              "    <path d=\"M18.56 5.44l.94 2.06.94-2.06 2.06-.94-2.06-.94-.94-2.06-.94 2.06-2.06.94zm-11 1L8.5 8.5l.94-2.06 2.06-.94-2.06-.94L8.5 2.5l-.94 2.06-2.06.94zm10 10l.94 2.06.94-2.06 2.06-.94-2.06-.94-.94-2.06-.94 2.06-2.06.94z\"/><path d=\"M17.41 7.96l-1.37-1.37c-.4-.4-.92-.59-1.43-.59-.52 0-1.04.2-1.43.59L10.3 9.45l-7.72 7.72c-.78.78-.78 2.05 0 2.83L4 21.41c.39.39.9.59 1.41.59.51 0 1.02-.2 1.41-.59l7.78-7.78 2.81-2.81c.8-.78.8-2.07 0-2.86zM5.41 20L4 18.59l7.72-7.72 1.47 1.35L5.41 20z\"/>\n",
              "  </svg>\n",
              "      </button>\n",
              "      \n",
              "  <style>\n",
              "    .colab-df-container {\n",
              "      display:flex;\n",
              "      flex-wrap:wrap;\n",
              "      gap: 12px;\n",
              "    }\n",
              "\n",
              "    .colab-df-convert {\n",
              "      background-color: #E8F0FE;\n",
              "      border: none;\n",
              "      border-radius: 50%;\n",
              "      cursor: pointer;\n",
              "      display: none;\n",
              "      fill: #1967D2;\n",
              "      height: 32px;\n",
              "      padding: 0 0 0 0;\n",
              "      width: 32px;\n",
              "    }\n",
              "\n",
              "    .colab-df-convert:hover {\n",
              "      background-color: #E2EBFA;\n",
              "      box-shadow: 0px 1px 2px rgba(60, 64, 67, 0.3), 0px 1px 3px 1px rgba(60, 64, 67, 0.15);\n",
              "      fill: #174EA6;\n",
              "    }\n",
              "\n",
              "    [theme=dark] .colab-df-convert {\n",
              "      background-color: #3B4455;\n",
              "      fill: #D2E3FC;\n",
              "    }\n",
              "\n",
              "    [theme=dark] .colab-df-convert:hover {\n",
              "      background-color: #434B5C;\n",
              "      box-shadow: 0px 1px 3px 1px rgba(0, 0, 0, 0.15);\n",
              "      filter: drop-shadow(0px 1px 2px rgba(0, 0, 0, 0.3));\n",
              "      fill: #FFFFFF;\n",
              "    }\n",
              "  </style>\n",
              "\n",
              "      <script>\n",
              "        const buttonEl =\n",
              "          document.querySelector('#df-0f47df94-308a-42a1-82cb-1806f234b2e5 button.colab-df-convert');\n",
              "        buttonEl.style.display =\n",
              "          google.colab.kernel.accessAllowed ? 'block' : 'none';\n",
              "\n",
              "        async function convertToInteractive(key) {\n",
              "          const element = document.querySelector('#df-0f47df94-308a-42a1-82cb-1806f234b2e5');\n",
              "          const dataTable =\n",
              "            await google.colab.kernel.invokeFunction('convertToInteractive',\n",
              "                                                     [key], {});\n",
              "          if (!dataTable) return;\n",
              "\n",
              "          const docLinkHtml = 'Like what you see? Visit the ' +\n",
              "            '<a target=\"_blank\" href=https://colab.research.google.com/notebooks/data_table.ipynb>data table notebook</a>'\n",
              "            + ' to learn more about interactive tables.';\n",
              "          element.innerHTML = '';\n",
              "          dataTable['output_type'] = 'display_data';\n",
              "          await google.colab.output.renderOutput(dataTable, element);\n",
              "          const docLink = document.createElement('div');\n",
              "          docLink.innerHTML = docLinkHtml;\n",
              "          element.appendChild(docLink);\n",
              "        }\n",
              "      </script>\n",
              "    </div>\n",
              "  </div>\n",
              "  "
            ],
            "text/plain": [
              "      Estatura   Real   Predicho\n",
              "5353      1.70  69.85  66.361960\n",
              "5354      1.83  72.12  76.687675\n",
              "5355      1.88  83.91  80.659103\n",
              "5356      1.83  91.17  76.687675\n",
              "5357      1.83  74.84  76.687675\n",
              "5358      1.83  77.11  76.687675\n",
              "5359      1.68  73.03  64.773389\n",
              "5360      1.98  88.00  88.601961\n",
              "5361      1.65  64.86  62.390532\n",
              "5362      1.70  59.87  66.361960\n",
              "5363      1.73  66.22  68.744817\n",
              "5364      1.85  77.11  78.276246\n",
              "5365      1.68  60.78  64.773389\n",
              "5366      1.85  79.83  78.276246\n",
              "5367      1.83  74.84  76.687675\n",
              "5368      1.88  74.84  80.659103\n",
              "5369      1.85  81.19  78.276246\n",
              "5370      1.85  82.10  78.276246\n",
              "5371      1.85  87.09  78.276246\n",
              "5372      1.85  77.11  78.276246"
            ]
          },
          "metadata": {},
          "execution_count": 20
        }
      ]
    },
    {
      "cell_type": "markdown",
      "source": [
        "## Evaluando el modelo\n",
        "\n",
        "Se evalúa el modelo de regresión lineal simple: \n",
        "\n",
        "$$\n",
        "MAE = Pendiente ...\n",
        "$$\n",
        "\n",
        "$$\n",
        "MSE = \\frac{\\sum(predicho_i - real_i)^{2}}{n}\n",
        "$$\n",
        "\n",
        "$$\n",
        "RMSE = \\sqrt{\\frac{\\sum(predicho_i - real_i)^{2}}{n}}\n",
        "$$\n",
        "\n",
        "$$\n",
        "\\text{Multipel R Squared } = R^2 = cor(x, y)^2 \\text{; de Pearson}\n",
        "$$\n",
        "\n"
      ],
      "metadata": {
        "id": "hAtG181me8FZ"
      }
    },
    {
      "cell_type": "code",
      "source": [
        "print('Mean Absolute Error: MAE', metrics.mean_absolute_error(pesokgs_test, predicciones))\n",
        "print('Mean Squared Error: MSE', metrics.mean_squared_error(pesokgs_test, predicciones))\n",
        "print('Root Mean Squared Error RMSE:', np.sqrt(metrics.mean_squared_error(pesokgs_test, predicciones)))\n",
        "\n",
        "r = np.corrcoef(estatura_train.flatten().tolist(), pesokgs_train.flatten().tolist())\n",
        "r = r ** 2\n",
        "r = r.reshape(-1,2)\n",
        "r = r[0, 1]\n",
        "print('Multiple R Square :', np.round(r, 4) )\n",
        "\n",
        "\n"
      ],
      "metadata": {
        "colab": {
          "base_uri": "https://localhost:8080/"
        },
        "id": "kfiq2hiAfD29",
        "outputId": "b551f67e-6bf8-4700-d00c-b2b6f85daf23"
      },
      "execution_count": null,
      "outputs": [
        {
          "output_type": "stream",
          "name": "stdout",
          "text": [
            "Mean Absolute Error: MAE 3.630688528691699\n",
            "Mean Squared Error: MSE 21.767950064390153\n",
            "Root Mean Squared Error RMSE: 4.6656135785542885\n",
            "Multiple R Square : 0.572\n"
          ]
        }
      ]
    },
    {
      "cell_type": "markdown",
      "source": [
        "# Interpretación\n",
        "\n",
        "El análisis de datos que hicimos fue con el conjunto de datos de FIFA. Los datos se encuentran en la dirección \"https://raw.githubusercontent.com/rpizarrog/Analisis-Inteligente-de-datos/main/datos/datos.limpios.csv\" y fue de los datos de fifa pero aun mas limpios. Nuestro propósito fue hacer una regresión lineal simple con estos datos. La variable independiente en este análisis es estatura de un jugador y la variable dependiente es PesoKgs que será Valor en formato numérico. Realizamos la correlación entre estaos 2 datos y nos dio el resultado en **\"RMSE 4.6656135785542885\"** en este caso realizando el analisis en python lo cual tambien nos indica que es una correlacion positiva considerable. El valor Multiple R-squared es 0.572. Podemos decir que para la correlacion de los valores, el Valor de **\"a: -68.66661314\"** y el\n",
        "Valor de **\"b; 79.42857258\"**, para este caso significa que se hubiera establecido el modelo en el cual se acepta si hay un 70% o mas . El valor de la variable Estatura representa tan solo el **\"57.2%\"** del valor del PesoKgs. Entonces la variable predictiva Estatura si son altamente y estadísticamente significativas por debajo del 0.001 o con un nivel de confianza mayor al 99.9% El modelo predice positivamente considerable como se ve en la correlacion, hay probabilidad que otra variable tenga más relación con el Peso para tener un índice mayor de correlación. La diferencia es que hay mayor indice de correlacion.\n",
        "Pero en este caso los datos cambiaron ya que modifique la semilla por mi numero de control, son los ultimos 4 digitos el cual fue \"0421\", en este caso el valor del 0, no lo reconoce, entonces solo se dejo como semilla \"421\", puede afectar un poco el analisis ya que solo son 3 digitos con los cuales se hizo la comparacion, podemos decir que si cambiaron notablemente los valores registrados sobre todo en **\"Multiple R Square : 0.572\"**"
      ],
      "metadata": {
        "id": "RbWG_TMifWK6"
      }
    },
    {
      "cell_type": "markdown",
      "source": [
        "# Bibliografía\n",
        "\n",
        "[https://pharos.sh/regresion-lineal-en-python-con-scikit-learn/](https://pharos.sh/regresion-lineal-en-python-con-scikit-learn/)"
      ],
      "metadata": {
        "id": "rUULD4RtetkE"
      }
    }
  ]
}