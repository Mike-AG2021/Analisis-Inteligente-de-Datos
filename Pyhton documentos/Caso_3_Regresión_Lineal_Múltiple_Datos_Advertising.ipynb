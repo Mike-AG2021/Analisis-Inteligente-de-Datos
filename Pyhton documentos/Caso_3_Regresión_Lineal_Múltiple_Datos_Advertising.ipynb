{
  "nbformat": 4,
  "nbformat_minor": 0,
  "metadata": {
    "colab": {
      "name": "Caso 3. Regresión Lineal Múltiple. Datos Advertising.ipynb",
      "provenance": [],
      "include_colab_link": true
    },
    "kernelspec": {
      "name": "python3",
      "display_name": "Python 3"
    },
    "language_info": {
      "name": "python"
    }
  },
  "cells": [
    {
      "cell_type": "markdown",
      "metadata": {
        "id": "view-in-github",
        "colab_type": "text"
      },
      "source": [
        "<a href=\"https://colab.research.google.com/github/Mike-AG2021/Analisis-Inteligente-de-Datos/blob/main/Pyhton%20documentos/Caso_3_Regresi%C3%B3n_Lineal_M%C3%BAltiple_Datos_Advertising.ipynb\" target=\"_parent\"><img src=\"https://colab.research.google.com/assets/colab-badge.svg\" alt=\"Open In Colab\"/></a>"
      ]
    },
    {
      "cell_type": "markdown",
      "source": [
        "# Author: \"RUBEN PIZARRO GURROLA\"\n",
        "# Date: \"16-03-2022\"\n"
      ],
      "metadata": {
        "id": "4MvCisFkjlun"
      }
    },
    {
      "cell_type": "markdown",
      "source": [
        "# Objetivo\n",
        "\n",
        "Construir y evaluar un modelo de regresión lineal múltiple para realizar predicciones."
      ],
      "metadata": {
        "id": "CzqcEcWIj1R-"
      }
    },
    {
      "cell_type": "markdown",
      "source": [
        "# Descripción\n",
        "\n",
        "* Se cargan las librerías necesarias\n",
        "\n",
        "* Se cargan los datos Se exploran los datos\n",
        "\n",
        "* Se crear los datos de entrenamiento y validación 70% y 30% respectivamente\n",
        "* Se construye el modelo con datos de entrenamiento\n",
        "* Se evalúa el modelo\n",
        "* Se hacen predicciones\n",
        "* Se visualiza las prediciones vs los valores reales\n",
        "* Se describe e intrepreta el modelo\n",
        "\n",
        "## Las métricas a valorar serán:\n",
        "\n",
        "* Que los coeficientes sean estadísticamente significativos por encima del 95%.\n",
        "\n",
        "* R Squared y R Square Ajustado el modelo se acepta si sobrepasa en el 80%.\n",
        "\n",
        "* *rmse* comparado con otro modelo mismos datos se acepta o se establece que un modelo es mejor que otro."
      ],
      "metadata": {
        "id": "JalKS51Mj6V2"
      }
    },
    {
      "cell_type": "markdown",
      "source": [
        "# Fundamento teórico\n",
        "\n",
        "En la mayoría de los problemas de investigación en los que se aplica el análisis de regresión se necesita más de una variable independiente para el modelo de regresión. La complejidad de la mayoría de mecanismos científicos es tal que, con el fin de predecir una respuesta importante, se requiere un modelo de regresión múltiple. Cuando un modelo es lineal en los coeficientes se denomina modelo de regresión lineal múltiple.\n",
        "\n",
        "Para el caso de k variables independientes, el modelo que da x1,x2,...,xk, y y como la variable dependiente.x1,x,...,xk son las variable s que afectan a la variable dependiente en el modelo de regresión lineal múltiple. (Walpole, Myers, and Myers 2012a)\n",
        "\n",
        "Muchos problemas de investigación y de la industria, requieren la estimación de las relaciones existentes entre el patrón de variabilidad de una variable aleatoria y los valores de una o más variables aleatorias. (Urrutia Mosquera 2011)\n",
        "\n",
        "Al generar un modelo de regresión lineal múltiple es importante identificar los estadísticos de R2, que se denomina coeficiente de determinación y es una medida de la proporción de la variabilidad explicada por el modelo ajustado.\n",
        "\n",
        "De igual forma, el valor de R2 ajustado o coeficiente de determinación ajustado, es una variación de R2 que proporciona un ajuste para los grados de libertad (Walpole, Myers, and Myers 2012b). R Ajustado está diseñado para proporcionar un estadístico que castigue un modelo sobreajustado, de manera que se puede esperar que favorezca al modelo.(Walpole, Myers, and Myers 2012).\n",
        "\n",
        "Una variable **Y** puede predecirse conforme y de cuerdo con la siguiente fórmula de la regresión múltiple.\n",
        "\n",
        "$$\n",
        "Y = b_0 + b_1{x_1} + b_2{x_2} + b_3{x_3}+ .....b_k{x_k}\n",
        "$$\n",
        "\n",
        "\n"
      ],
      "metadata": {
        "id": "bV-dzNtfkV0w"
      }
    },
    {
      "cell_type": "markdown",
      "source": [
        "# Desarrollo\n",
        "\n"
      ],
      "metadata": {
        "id": "jjlcA6TMk8Z4"
      }
    },
    {
      "cell_type": "markdown",
      "source": [
        "## Cargar librerías\n",
        "\n"
      ],
      "metadata": {
        "id": "o1ir8kqLk-aP"
      }
    },
    {
      "cell_type": "code",
      "source": [
        "import pandas as pd\n",
        "import numpy as np\n",
        "import statsmodels.api as sm # Estadístias R Adjused\n",
        "import seaborn as sns  # Gráficos\n",
        "from sklearn import linear_model\n",
        "from sklearn.linear_model import LinearRegression\n",
        "from sklearn.preprocessing import PolynomialFeatures # Polinomial\n",
        "\n",
        "import matplotlib.pyplot as plt\n",
        "from sklearn.model_selection import train_test_split\n",
        "from sklearn import metrics\n",
        "from sklearn.metrics import mean_squared_error, r2_score"
      ],
      "metadata": {
        "colab": {
          "base_uri": "https://localhost:8080/"
        },
        "id": "XqckRWP8lM05",
        "outputId": "fd730216-8a8e-4a28-e481-56a05f270975"
      },
      "execution_count": null,
      "outputs": [
        {
          "output_type": "stream",
          "name": "stderr",
          "text": [
            "/usr/local/lib/python3.7/dist-packages/statsmodels/tools/_testing.py:19: FutureWarning: pandas.util.testing is deprecated. Use the functions in the public API at pandas.testing instead.\n",
            "  import pandas.util.testing as tm\n"
          ]
        }
      ]
    },
    {
      "cell_type": "markdown",
      "source": [
        "## Cargar datos\n",
        "\n"
      ],
      "metadata": {
        "id": "rg2BCN_BlA46"
      }
    },
    {
      "cell_type": "code",
      "source": [
        "datos = datos = pd.read_csv(\"https://raw.githubusercontent.com/rpizarrog/Analisis-Inteligente-de-datos/main/datos/Advertising.csv\")\n",
        "datos"
      ],
      "metadata": {
        "colab": {
          "base_uri": "https://localhost:8080/",
          "height": 423
        },
        "id": "rN6BVH0ilbme",
        "outputId": "07313a33-5f1b-4af5-aad0-cb23ee877753"
      },
      "execution_count": null,
      "outputs": [
        {
          "output_type": "execute_result",
          "data": {
            "text/plain": [
              "     Unnamed: 0     TV  Radio  Newspaper  Sales\n",
              "0             1  230.1   37.8       69.2   22.1\n",
              "1             2   44.5   39.3       45.1   10.4\n",
              "2             3   17.2   45.9       69.3    9.3\n",
              "3             4  151.5   41.3       58.5   18.5\n",
              "4             5  180.8   10.8       58.4   12.9\n",
              "..          ...    ...    ...        ...    ...\n",
              "195         196   38.2    3.7       13.8    7.6\n",
              "196         197   94.2    4.9        8.1    9.7\n",
              "197         198  177.0    9.3        6.4   12.8\n",
              "198         199  283.6   42.0       66.2   25.5\n",
              "199         200  232.1    8.6        8.7   13.4\n",
              "\n",
              "[200 rows x 5 columns]"
            ],
            "text/html": [
              "\n",
              "  <div id=\"df-34014773-7961-4e70-a1b4-dafe0d38698b\">\n",
              "    <div class=\"colab-df-container\">\n",
              "      <div>\n",
              "<style scoped>\n",
              "    .dataframe tbody tr th:only-of-type {\n",
              "        vertical-align: middle;\n",
              "    }\n",
              "\n",
              "    .dataframe tbody tr th {\n",
              "        vertical-align: top;\n",
              "    }\n",
              "\n",
              "    .dataframe thead th {\n",
              "        text-align: right;\n",
              "    }\n",
              "</style>\n",
              "<table border=\"1\" class=\"dataframe\">\n",
              "  <thead>\n",
              "    <tr style=\"text-align: right;\">\n",
              "      <th></th>\n",
              "      <th>Unnamed: 0</th>\n",
              "      <th>TV</th>\n",
              "      <th>Radio</th>\n",
              "      <th>Newspaper</th>\n",
              "      <th>Sales</th>\n",
              "    </tr>\n",
              "  </thead>\n",
              "  <tbody>\n",
              "    <tr>\n",
              "      <th>0</th>\n",
              "      <td>1</td>\n",
              "      <td>230.1</td>\n",
              "      <td>37.8</td>\n",
              "      <td>69.2</td>\n",
              "      <td>22.1</td>\n",
              "    </tr>\n",
              "    <tr>\n",
              "      <th>1</th>\n",
              "      <td>2</td>\n",
              "      <td>44.5</td>\n",
              "      <td>39.3</td>\n",
              "      <td>45.1</td>\n",
              "      <td>10.4</td>\n",
              "    </tr>\n",
              "    <tr>\n",
              "      <th>2</th>\n",
              "      <td>3</td>\n",
              "      <td>17.2</td>\n",
              "      <td>45.9</td>\n",
              "      <td>69.3</td>\n",
              "      <td>9.3</td>\n",
              "    </tr>\n",
              "    <tr>\n",
              "      <th>3</th>\n",
              "      <td>4</td>\n",
              "      <td>151.5</td>\n",
              "      <td>41.3</td>\n",
              "      <td>58.5</td>\n",
              "      <td>18.5</td>\n",
              "    </tr>\n",
              "    <tr>\n",
              "      <th>4</th>\n",
              "      <td>5</td>\n",
              "      <td>180.8</td>\n",
              "      <td>10.8</td>\n",
              "      <td>58.4</td>\n",
              "      <td>12.9</td>\n",
              "    </tr>\n",
              "    <tr>\n",
              "      <th>...</th>\n",
              "      <td>...</td>\n",
              "      <td>...</td>\n",
              "      <td>...</td>\n",
              "      <td>...</td>\n",
              "      <td>...</td>\n",
              "    </tr>\n",
              "    <tr>\n",
              "      <th>195</th>\n",
              "      <td>196</td>\n",
              "      <td>38.2</td>\n",
              "      <td>3.7</td>\n",
              "      <td>13.8</td>\n",
              "      <td>7.6</td>\n",
              "    </tr>\n",
              "    <tr>\n",
              "      <th>196</th>\n",
              "      <td>197</td>\n",
              "      <td>94.2</td>\n",
              "      <td>4.9</td>\n",
              "      <td>8.1</td>\n",
              "      <td>9.7</td>\n",
              "    </tr>\n",
              "    <tr>\n",
              "      <th>197</th>\n",
              "      <td>198</td>\n",
              "      <td>177.0</td>\n",
              "      <td>9.3</td>\n",
              "      <td>6.4</td>\n",
              "      <td>12.8</td>\n",
              "    </tr>\n",
              "    <tr>\n",
              "      <th>198</th>\n",
              "      <td>199</td>\n",
              "      <td>283.6</td>\n",
              "      <td>42.0</td>\n",
              "      <td>66.2</td>\n",
              "      <td>25.5</td>\n",
              "    </tr>\n",
              "    <tr>\n",
              "      <th>199</th>\n",
              "      <td>200</td>\n",
              "      <td>232.1</td>\n",
              "      <td>8.6</td>\n",
              "      <td>8.7</td>\n",
              "      <td>13.4</td>\n",
              "    </tr>\n",
              "  </tbody>\n",
              "</table>\n",
              "<p>200 rows × 5 columns</p>\n",
              "</div>\n",
              "      <button class=\"colab-df-convert\" onclick=\"convertToInteractive('df-34014773-7961-4e70-a1b4-dafe0d38698b')\"\n",
              "              title=\"Convert this dataframe to an interactive table.\"\n",
              "              style=\"display:none;\">\n",
              "        \n",
              "  <svg xmlns=\"http://www.w3.org/2000/svg\" height=\"24px\"viewBox=\"0 0 24 24\"\n",
              "       width=\"24px\">\n",
              "    <path d=\"M0 0h24v24H0V0z\" fill=\"none\"/>\n",
              "    <path d=\"M18.56 5.44l.94 2.06.94-2.06 2.06-.94-2.06-.94-.94-2.06-.94 2.06-2.06.94zm-11 1L8.5 8.5l.94-2.06 2.06-.94-2.06-.94L8.5 2.5l-.94 2.06-2.06.94zm10 10l.94 2.06.94-2.06 2.06-.94-2.06-.94-.94-2.06-.94 2.06-2.06.94z\"/><path d=\"M17.41 7.96l-1.37-1.37c-.4-.4-.92-.59-1.43-.59-.52 0-1.04.2-1.43.59L10.3 9.45l-7.72 7.72c-.78.78-.78 2.05 0 2.83L4 21.41c.39.39.9.59 1.41.59.51 0 1.02-.2 1.41-.59l7.78-7.78 2.81-2.81c.8-.78.8-2.07 0-2.86zM5.41 20L4 18.59l7.72-7.72 1.47 1.35L5.41 20z\"/>\n",
              "  </svg>\n",
              "      </button>\n",
              "      \n",
              "  <style>\n",
              "    .colab-df-container {\n",
              "      display:flex;\n",
              "      flex-wrap:wrap;\n",
              "      gap: 12px;\n",
              "    }\n",
              "\n",
              "    .colab-df-convert {\n",
              "      background-color: #E8F0FE;\n",
              "      border: none;\n",
              "      border-radius: 50%;\n",
              "      cursor: pointer;\n",
              "      display: none;\n",
              "      fill: #1967D2;\n",
              "      height: 32px;\n",
              "      padding: 0 0 0 0;\n",
              "      width: 32px;\n",
              "    }\n",
              "\n",
              "    .colab-df-convert:hover {\n",
              "      background-color: #E2EBFA;\n",
              "      box-shadow: 0px 1px 2px rgba(60, 64, 67, 0.3), 0px 1px 3px 1px rgba(60, 64, 67, 0.15);\n",
              "      fill: #174EA6;\n",
              "    }\n",
              "\n",
              "    [theme=dark] .colab-df-convert {\n",
              "      background-color: #3B4455;\n",
              "      fill: #D2E3FC;\n",
              "    }\n",
              "\n",
              "    [theme=dark] .colab-df-convert:hover {\n",
              "      background-color: #434B5C;\n",
              "      box-shadow: 0px 1px 3px 1px rgba(0, 0, 0, 0.15);\n",
              "      filter: drop-shadow(0px 1px 2px rgba(0, 0, 0, 0.3));\n",
              "      fill: #FFFFFF;\n",
              "    }\n",
              "  </style>\n",
              "\n",
              "      <script>\n",
              "        const buttonEl =\n",
              "          document.querySelector('#df-34014773-7961-4e70-a1b4-dafe0d38698b button.colab-df-convert');\n",
              "        buttonEl.style.display =\n",
              "          google.colab.kernel.accessAllowed ? 'block' : 'none';\n",
              "\n",
              "        async function convertToInteractive(key) {\n",
              "          const element = document.querySelector('#df-34014773-7961-4e70-a1b4-dafe0d38698b');\n",
              "          const dataTable =\n",
              "            await google.colab.kernel.invokeFunction('convertToInteractive',\n",
              "                                                     [key], {});\n",
              "          if (!dataTable) return;\n",
              "\n",
              "          const docLinkHtml = 'Like what you see? Visit the ' +\n",
              "            '<a target=\"_blank\" href=https://colab.research.google.com/notebooks/data_table.ipynb>data table notebook</a>'\n",
              "            + ' to learn more about interactive tables.';\n",
              "          element.innerHTML = '';\n",
              "          dataTable['output_type'] = 'display_data';\n",
              "          await google.colab.output.renderOutput(dataTable, element);\n",
              "          const docLink = document.createElement('div');\n",
              "          docLink.innerHTML = docLinkHtml;\n",
              "          element.appendChild(docLink);\n",
              "        }\n",
              "      </script>\n",
              "    </div>\n",
              "  </div>\n",
              "  "
            ]
          },
          "metadata": {},
          "execution_count": 12
        }
      ]
    },
    {
      "cell_type": "markdown",
      "source": [
        "## Explorar datos\n"
      ],
      "metadata": {
        "id": "oWuJWXgUlC7P"
      }
    },
    {
      "cell_type": "code",
      "source": [
        "print(\"Observaciones y variables: \", datos.shape)\n",
        "print(\"Columnas y tipo de dato\")\n",
        "# datos.columns\n",
        "datos.dtypes\n"
      ],
      "metadata": {
        "colab": {
          "base_uri": "https://localhost:8080/"
        },
        "id": "CE9VJG0clhT-",
        "outputId": "01041497-177f-442f-e0d6-dfb84dc716c3"
      },
      "execution_count": null,
      "outputs": [
        {
          "output_type": "stream",
          "name": "stdout",
          "text": [
            "Observaciones y variables:  (200, 5)\n",
            "Columnas y tipo de dato\n"
          ]
        },
        {
          "output_type": "execute_result",
          "data": {
            "text/plain": [
              "Unnamed: 0      int64\n",
              "TV            float64\n",
              "Radio         float64\n",
              "Newspaper     float64\n",
              "Sales         float64\n",
              "dtype: object"
            ]
          },
          "metadata": {},
          "execution_count": 10
        }
      ]
    },
    {
      "cell_type": "markdown",
      "source": [
        "Se describen las variables independientes: TV, Radio Newpaper y la variable dependiente Sales.\n",
        "\n",
        "Valor de etiqueta o variable objetivo deendiente(ventas):\n",
        "que significa el volumen de ventas del producto correspondiente\n",
        "\n",
        "Las variables independientes: (TV, Radio, Periódico):\n",
        "\n",
        "TV: para un solo producto en un mercado determinado, el costo de la publicidad en TV (en miles)\n",
        "Radio: costos de publicidad invertidos en medios de difusión\n",
        "Periódico: costos publicitarios para medios periodísticos"
      ],
      "metadata": {
        "id": "2sw__pc5jq7_"
      }
    },
    {
      "cell_type": "code",
      "source": [
        "datos[['TV','Radio', 'Newspaper', 'Sales']].describe()"
      ],
      "metadata": {
        "colab": {
          "base_uri": "https://localhost:8080/",
          "height": 300
        },
        "id": "8nlEMy3Dlo83",
        "outputId": "18e693bf-fe65-4dd4-ca2a-e1c0ece9f052"
      },
      "execution_count": null,
      "outputs": [
        {
          "output_type": "execute_result",
          "data": {
            "text/plain": [
              "               TV       Radio   Newspaper       Sales\n",
              "count  200.000000  200.000000  200.000000  200.000000\n",
              "mean   147.042500   23.264000   30.554000   14.022500\n",
              "std     85.854236   14.846809   21.778621    5.217457\n",
              "min      0.700000    0.000000    0.300000    1.600000\n",
              "25%     74.375000    9.975000   12.750000   10.375000\n",
              "50%    149.750000   22.900000   25.750000   12.900000\n",
              "75%    218.825000   36.525000   45.100000   17.400000\n",
              "max    296.400000   49.600000  114.000000   27.000000"
            ],
            "text/html": [
              "\n",
              "  <div id=\"df-8e9d52a3-dc7b-48f8-937f-f8c830cc0ae9\">\n",
              "    <div class=\"colab-df-container\">\n",
              "      <div>\n",
              "<style scoped>\n",
              "    .dataframe tbody tr th:only-of-type {\n",
              "        vertical-align: middle;\n",
              "    }\n",
              "\n",
              "    .dataframe tbody tr th {\n",
              "        vertical-align: top;\n",
              "    }\n",
              "\n",
              "    .dataframe thead th {\n",
              "        text-align: right;\n",
              "    }\n",
              "</style>\n",
              "<table border=\"1\" class=\"dataframe\">\n",
              "  <thead>\n",
              "    <tr style=\"text-align: right;\">\n",
              "      <th></th>\n",
              "      <th>TV</th>\n",
              "      <th>Radio</th>\n",
              "      <th>Newspaper</th>\n",
              "      <th>Sales</th>\n",
              "    </tr>\n",
              "  </thead>\n",
              "  <tbody>\n",
              "    <tr>\n",
              "      <th>count</th>\n",
              "      <td>200.000000</td>\n",
              "      <td>200.000000</td>\n",
              "      <td>200.000000</td>\n",
              "      <td>200.000000</td>\n",
              "    </tr>\n",
              "    <tr>\n",
              "      <th>mean</th>\n",
              "      <td>147.042500</td>\n",
              "      <td>23.264000</td>\n",
              "      <td>30.554000</td>\n",
              "      <td>14.022500</td>\n",
              "    </tr>\n",
              "    <tr>\n",
              "      <th>std</th>\n",
              "      <td>85.854236</td>\n",
              "      <td>14.846809</td>\n",
              "      <td>21.778621</td>\n",
              "      <td>5.217457</td>\n",
              "    </tr>\n",
              "    <tr>\n",
              "      <th>min</th>\n",
              "      <td>0.700000</td>\n",
              "      <td>0.000000</td>\n",
              "      <td>0.300000</td>\n",
              "      <td>1.600000</td>\n",
              "    </tr>\n",
              "    <tr>\n",
              "      <th>25%</th>\n",
              "      <td>74.375000</td>\n",
              "      <td>9.975000</td>\n",
              "      <td>12.750000</td>\n",
              "      <td>10.375000</td>\n",
              "    </tr>\n",
              "    <tr>\n",
              "      <th>50%</th>\n",
              "      <td>149.750000</td>\n",
              "      <td>22.900000</td>\n",
              "      <td>25.750000</td>\n",
              "      <td>12.900000</td>\n",
              "    </tr>\n",
              "    <tr>\n",
              "      <th>75%</th>\n",
              "      <td>218.825000</td>\n",
              "      <td>36.525000</td>\n",
              "      <td>45.100000</td>\n",
              "      <td>17.400000</td>\n",
              "    </tr>\n",
              "    <tr>\n",
              "      <th>max</th>\n",
              "      <td>296.400000</td>\n",
              "      <td>49.600000</td>\n",
              "      <td>114.000000</td>\n",
              "      <td>27.000000</td>\n",
              "    </tr>\n",
              "  </tbody>\n",
              "</table>\n",
              "</div>\n",
              "      <button class=\"colab-df-convert\" onclick=\"convertToInteractive('df-8e9d52a3-dc7b-48f8-937f-f8c830cc0ae9')\"\n",
              "              title=\"Convert this dataframe to an interactive table.\"\n",
              "              style=\"display:none;\">\n",
              "        \n",
              "  <svg xmlns=\"http://www.w3.org/2000/svg\" height=\"24px\"viewBox=\"0 0 24 24\"\n",
              "       width=\"24px\">\n",
              "    <path d=\"M0 0h24v24H0V0z\" fill=\"none\"/>\n",
              "    <path d=\"M18.56 5.44l.94 2.06.94-2.06 2.06-.94-2.06-.94-.94-2.06-.94 2.06-2.06.94zm-11 1L8.5 8.5l.94-2.06 2.06-.94-2.06-.94L8.5 2.5l-.94 2.06-2.06.94zm10 10l.94 2.06.94-2.06 2.06-.94-2.06-.94-.94-2.06-.94 2.06-2.06.94z\"/><path d=\"M17.41 7.96l-1.37-1.37c-.4-.4-.92-.59-1.43-.59-.52 0-1.04.2-1.43.59L10.3 9.45l-7.72 7.72c-.78.78-.78 2.05 0 2.83L4 21.41c.39.39.9.59 1.41.59.51 0 1.02-.2 1.41-.59l7.78-7.78 2.81-2.81c.8-.78.8-2.07 0-2.86zM5.41 20L4 18.59l7.72-7.72 1.47 1.35L5.41 20z\"/>\n",
              "  </svg>\n",
              "      </button>\n",
              "      \n",
              "  <style>\n",
              "    .colab-df-container {\n",
              "      display:flex;\n",
              "      flex-wrap:wrap;\n",
              "      gap: 12px;\n",
              "    }\n",
              "\n",
              "    .colab-df-convert {\n",
              "      background-color: #E8F0FE;\n",
              "      border: none;\n",
              "      border-radius: 50%;\n",
              "      cursor: pointer;\n",
              "      display: none;\n",
              "      fill: #1967D2;\n",
              "      height: 32px;\n",
              "      padding: 0 0 0 0;\n",
              "      width: 32px;\n",
              "    }\n",
              "\n",
              "    .colab-df-convert:hover {\n",
              "      background-color: #E2EBFA;\n",
              "      box-shadow: 0px 1px 2px rgba(60, 64, 67, 0.3), 0px 1px 3px 1px rgba(60, 64, 67, 0.15);\n",
              "      fill: #174EA6;\n",
              "    }\n",
              "\n",
              "    [theme=dark] .colab-df-convert {\n",
              "      background-color: #3B4455;\n",
              "      fill: #D2E3FC;\n",
              "    }\n",
              "\n",
              "    [theme=dark] .colab-df-convert:hover {\n",
              "      background-color: #434B5C;\n",
              "      box-shadow: 0px 1px 3px 1px rgba(0, 0, 0, 0.15);\n",
              "      filter: drop-shadow(0px 1px 2px rgba(0, 0, 0, 0.3));\n",
              "      fill: #FFFFFF;\n",
              "    }\n",
              "  </style>\n",
              "\n",
              "      <script>\n",
              "        const buttonEl =\n",
              "          document.querySelector('#df-8e9d52a3-dc7b-48f8-937f-f8c830cc0ae9 button.colab-df-convert');\n",
              "        buttonEl.style.display =\n",
              "          google.colab.kernel.accessAllowed ? 'block' : 'none';\n",
              "\n",
              "        async function convertToInteractive(key) {\n",
              "          const element = document.querySelector('#df-8e9d52a3-dc7b-48f8-937f-f8c830cc0ae9');\n",
              "          const dataTable =\n",
              "            await google.colab.kernel.invokeFunction('convertToInteractive',\n",
              "                                                     [key], {});\n",
              "          if (!dataTable) return;\n",
              "\n",
              "          const docLinkHtml = 'Like what you see? Visit the ' +\n",
              "            '<a target=\"_blank\" href=https://colab.research.google.com/notebooks/data_table.ipynb>data table notebook</a>'\n",
              "            + ' to learn more about interactive tables.';\n",
              "          element.innerHTML = '';\n",
              "          dataTable['output_type'] = 'display_data';\n",
              "          await google.colab.output.renderOutput(dataTable, element);\n",
              "          const docLink = document.createElement('div');\n",
              "          docLink.innerHTML = docLinkHtml;\n",
              "          element.appendChild(docLink);\n",
              "        }\n",
              "      </script>\n",
              "    </div>\n",
              "  </div>\n",
              "  "
            ]
          },
          "metadata": {},
          "execution_count": 17
        }
      ]
    },
    {
      "cell_type": "code",
      "source": [
        ""
      ],
      "metadata": {
        "id": "1f9TMGvijp5n"
      },
      "execution_count": null,
      "outputs": []
    },
    {
      "cell_type": "markdown",
      "source": [
        "### Dispersión de la variables con respecto a Sales o venras\n"
      ],
      "metadata": {
        "id": "R_mqy3FhoCFx"
      }
    },
    {
      "cell_type": "code",
      "source": [
        "\n",
        "sns.pairplot(datos, x_vars=['TV','Radio','Newspaper'], y_vars='Sales', size=7, aspect=0.8,kind = 'reg')\n",
        "plt.savefig(\"pairplot.jpg\")\n",
        "plt.show()"
      ],
      "metadata": {
        "colab": {
          "base_uri": "https://localhost:8080/",
          "height": 441
        },
        "id": "MQTrlk2ZoGAq",
        "outputId": "40729661-4143-44fe-bc7a-972bebd37e83"
      },
      "execution_count": null,
      "outputs": [
        {
          "output_type": "stream",
          "name": "stderr",
          "text": [
            "/usr/local/lib/python3.7/dist-packages/seaborn/axisgrid.py:2076: UserWarning: The `size` parameter has been renamed to `height`; please update your code.\n",
            "  warnings.warn(msg, UserWarning)\n"
          ]
        },
        {
          "output_type": "display_data",
          "data": {
            "text/plain": [
              "<Figure size 1209.6x504 with 3 Axes>"
            ],
            "image/png": "[encoded data removed]"
          },
          "metadata": {
            "needs_background": "light"
          }
        }
      ]
    },
    {
      "cell_type": "markdown",
      "source": [
        "Se observa la relación lineal entre las variables independientes con respecto a ventas, de tal forma que es posible estimar visualmente que la variable Newspaper tal vez tenga poco impacto en las ventas esto por la alta dispersión de los datos. Sin embargo participará en el modelo de regresión lineal múltiple.\n"
      ],
      "metadata": {
        "id": "SOt5LG91onFP"
      }
    },
    {
      "cell_type": "markdown",
      "source": [
        "## Datos de entrenamiento y datos de validación \n"
      ],
      "metadata": {
        "id": "XzjXEppYpEg3"
      }
    },
    {
      "cell_type": "markdown",
      "source": [
        "Se identifican las variables que participan en el la partición de los datos de entrenamiento y validación.\n",
        "\n",
        "Se parten los datos 70% datos de entrenamiento y 30% datos de validación\n"
      ],
      "metadata": {
        "id": "Qmx22FFhpHaW"
      }
    },
    {
      "cell_type": "code",
      "source": [
        "datos.iloc[:, 4:5]"
      ],
      "metadata": {
        "colab": {
          "base_uri": "https://localhost:8080/",
          "height": 423
        },
        "id": "o4xOag3owuIH",
        "outputId": "abc1c4a9-2c2d-44b3-cbb2-b6dc48a38cc1"
      },
      "execution_count": null,
      "outputs": [
        {
          "output_type": "execute_result",
          "data": {
            "text/plain": [
              "     Sales\n",
              "0     22.1\n",
              "1     10.4\n",
              "2      9.3\n",
              "3     18.5\n",
              "4     12.9\n",
              "..     ...\n",
              "195    7.6\n",
              "196    9.7\n",
              "197   12.8\n",
              "198   25.5\n",
              "199   13.4\n",
              "\n",
              "[200 rows x 1 columns]"
            ],
            "text/html": [
              "\n",
              "  <div id=\"df-a32a3a43-060e-4d89-9ac5-7cda4783992d\">\n",
              "    <div class=\"colab-df-container\">\n",
              "      <div>\n",
              "<style scoped>\n",
              "    .dataframe tbody tr th:only-of-type {\n",
              "        vertical-align: middle;\n",
              "    }\n",
              "\n",
              "    .dataframe tbody tr th {\n",
              "        vertical-align: top;\n",
              "    }\n",
              "\n",
              "    .dataframe thead th {\n",
              "        text-align: right;\n",
              "    }\n",
              "</style>\n",
              "<table border=\"1\" class=\"dataframe\">\n",
              "  <thead>\n",
              "    <tr style=\"text-align: right;\">\n",
              "      <th></th>\n",
              "      <th>Sales</th>\n",
              "    </tr>\n",
              "  </thead>\n",
              "  <tbody>\n",
              "    <tr>\n",
              "      <th>0</th>\n",
              "      <td>22.1</td>\n",
              "    </tr>\n",
              "    <tr>\n",
              "      <th>1</th>\n",
              "      <td>10.4</td>\n",
              "    </tr>\n",
              "    <tr>\n",
              "      <th>2</th>\n",
              "      <td>9.3</td>\n",
              "    </tr>\n",
              "    <tr>\n",
              "      <th>3</th>\n",
              "      <td>18.5</td>\n",
              "    </tr>\n",
              "    <tr>\n",
              "      <th>4</th>\n",
              "      <td>12.9</td>\n",
              "    </tr>\n",
              "    <tr>\n",
              "      <th>...</th>\n",
              "      <td>...</td>\n",
              "    </tr>\n",
              "    <tr>\n",
              "      <th>195</th>\n",
              "      <td>7.6</td>\n",
              "    </tr>\n",
              "    <tr>\n",
              "      <th>196</th>\n",
              "      <td>9.7</td>\n",
              "    </tr>\n",
              "    <tr>\n",
              "      <th>197</th>\n",
              "      <td>12.8</td>\n",
              "    </tr>\n",
              "    <tr>\n",
              "      <th>198</th>\n",
              "      <td>25.5</td>\n",
              "    </tr>\n",
              "    <tr>\n",
              "      <th>199</th>\n",
              "      <td>13.4</td>\n",
              "    </tr>\n",
              "  </tbody>\n",
              "</table>\n",
              "<p>200 rows × 1 columns</p>\n",
              "</div>\n",
              "      <button class=\"colab-df-convert\" onclick=\"convertToInteractive('df-a32a3a43-060e-4d89-9ac5-7cda4783992d')\"\n",
              "              title=\"Convert this dataframe to an interactive table.\"\n",
              "              style=\"display:none;\">\n",
              "        \n",
              "  <svg xmlns=\"http://www.w3.org/2000/svg\" height=\"24px\"viewBox=\"0 0 24 24\"\n",
              "       width=\"24px\">\n",
              "    <path d=\"M0 0h24v24H0V0z\" fill=\"none\"/>\n",
              "    <path d=\"M18.56 5.44l.94 2.06.94-2.06 2.06-.94-2.06-.94-.94-2.06-.94 2.06-2.06.94zm-11 1L8.5 8.5l.94-2.06 2.06-.94-2.06-.94L8.5 2.5l-.94 2.06-2.06.94zm10 10l.94 2.06.94-2.06 2.06-.94-2.06-.94-.94-2.06-.94 2.06-2.06.94z\"/><path d=\"M17.41 7.96l-1.37-1.37c-.4-.4-.92-.59-1.43-.59-.52 0-1.04.2-1.43.59L10.3 9.45l-7.72 7.72c-.78.78-.78 2.05 0 2.83L4 21.41c.39.39.9.59 1.41.59.51 0 1.02-.2 1.41-.59l7.78-7.78 2.81-2.81c.8-.78.8-2.07 0-2.86zM5.41 20L4 18.59l7.72-7.72 1.47 1.35L5.41 20z\"/>\n",
              "  </svg>\n",
              "      </button>\n",
              "      \n",
              "  <style>\n",
              "    .colab-df-container {\n",
              "      display:flex;\n",
              "      flex-wrap:wrap;\n",
              "      gap: 12px;\n",
              "    }\n",
              "\n",
              "    .colab-df-convert {\n",
              "      background-color: #E8F0FE;\n",
              "      border: none;\n",
              "      border-radius: 50%;\n",
              "      cursor: pointer;\n",
              "      display: none;\n",
              "      fill: #1967D2;\n",
              "      height: 32px;\n",
              "      padding: 0 0 0 0;\n",
              "      width: 32px;\n",
              "    }\n",
              "\n",
              "    .colab-df-convert:hover {\n",
              "      background-color: #E2EBFA;\n",
              "      box-shadow: 0px 1px 2px rgba(60, 64, 67, 0.3), 0px 1px 3px 1px rgba(60, 64, 67, 0.15);\n",
              "      fill: #174EA6;\n",
              "    }\n",
              "\n",
              "    [theme=dark] .colab-df-convert {\n",
              "      background-color: #3B4455;\n",
              "      fill: #D2E3FC;\n",
              "    }\n",
              "\n",
              "    [theme=dark] .colab-df-convert:hover {\n",
              "      background-color: #434B5C;\n",
              "      box-shadow: 0px 1px 3px 1px rgba(0, 0, 0, 0.15);\n",
              "      filter: drop-shadow(0px 1px 2px rgba(0, 0, 0, 0.3));\n",
              "      fill: #FFFFFF;\n",
              "    }\n",
              "  </style>\n",
              "\n",
              "      <script>\n",
              "        const buttonEl =\n",
              "          document.querySelector('#df-a32a3a43-060e-4d89-9ac5-7cda4783992d button.colab-df-convert');\n",
              "        buttonEl.style.display =\n",
              "          google.colab.kernel.accessAllowed ? 'block' : 'none';\n",
              "\n",
              "        async function convertToInteractive(key) {\n",
              "          const element = document.querySelector('#df-a32a3a43-060e-4d89-9ac5-7cda4783992d');\n",
              "          const dataTable =\n",
              "            await google.colab.kernel.invokeFunction('convertToInteractive',\n",
              "                                                     [key], {});\n",
              "          if (!dataTable) return;\n",
              "\n",
              "          const docLinkHtml = 'Like what you see? Visit the ' +\n",
              "            '<a target=\"_blank\" href=https://colab.research.google.com/notebooks/data_table.ipynb>data table notebook</a>'\n",
              "            + ' to learn more about interactive tables.';\n",
              "          element.innerHTML = '';\n",
              "          dataTable['output_type'] = 'display_data';\n",
              "          await google.colab.output.renderOutput(dataTable, element);\n",
              "          const docLink = document.createElement('div');\n",
              "          docLink.innerHTML = docLinkHtml;\n",
              "          element.appendChild(docLink);\n",
              "        }\n",
              "      </script>\n",
              "    </div>\n",
              "  </div>\n",
              "  "
            ]
          },
          "metadata": {},
          "execution_count": 85
        }
      ]
    },
    {
      "cell_type": "code",
      "source": [
        "print(\"Variables independientes \")\n",
        "X_independientes = datos.iloc[:,1:4]\n",
        "X_independientes\n",
        "\n",
        "\n"
      ],
      "metadata": {
        "colab": {
          "base_uri": "https://localhost:8080/",
          "height": 441
        },
        "id": "BLoaopOkp1sI",
        "outputId": "ce7ee577-1404-448e-efac-06680e019b6b"
      },
      "execution_count": null,
      "outputs": [
        {
          "output_type": "stream",
          "name": "stdout",
          "text": [
            "Variables independientes \n"
          ]
        },
        {
          "output_type": "execute_result",
          "data": {
            "text/plain": [
              "        TV  Radio  Newspaper\n",
              "0    230.1   37.8       69.2\n",
              "1     44.5   39.3       45.1\n",
              "2     17.2   45.9       69.3\n",
              "3    151.5   41.3       58.5\n",
              "4    180.8   10.8       58.4\n",
              "..     ...    ...        ...\n",
              "195   38.2    3.7       13.8\n",
              "196   94.2    4.9        8.1\n",
              "197  177.0    9.3        6.4\n",
              "198  283.6   42.0       66.2\n",
              "199  232.1    8.6        8.7\n",
              "\n",
              "[200 rows x 3 columns]"
            ],
            "text/html": [
              "\n",
              "  <div id=\"df-d713b0da-32c2-408d-b0d0-efc67864f399\">\n",
              "    <div class=\"colab-df-container\">\n",
              "      <div>\n",
              "<style scoped>\n",
              "    .dataframe tbody tr th:only-of-type {\n",
              "        vertical-align: middle;\n",
              "    }\n",
              "\n",
              "    .dataframe tbody tr th {\n",
              "        vertical-align: top;\n",
              "    }\n",
              "\n",
              "    .dataframe thead th {\n",
              "        text-align: right;\n",
              "    }\n",
              "</style>\n",
              "<table border=\"1\" class=\"dataframe\">\n",
              "  <thead>\n",
              "    <tr style=\"text-align: right;\">\n",
              "      <th></th>\n",
              "      <th>TV</th>\n",
              "      <th>Radio</th>\n",
              "      <th>Newspaper</th>\n",
              "    </tr>\n",
              "  </thead>\n",
              "  <tbody>\n",
              "    <tr>\n",
              "      <th>0</th>\n",
              "      <td>230.1</td>\n",
              "      <td>37.8</td>\n",
              "      <td>69.2</td>\n",
              "    </tr>\n",
              "    <tr>\n",
              "      <th>1</th>\n",
              "      <td>44.5</td>\n",
              "      <td>39.3</td>\n",
              "      <td>45.1</td>\n",
              "    </tr>\n",
              "    <tr>\n",
              "      <th>2</th>\n",
              "      <td>17.2</td>\n",
              "      <td>45.9</td>\n",
              "      <td>69.3</td>\n",
              "    </tr>\n",
              "    <tr>\n",
              "      <th>3</th>\n",
              "      <td>151.5</td>\n",
              "      <td>41.3</td>\n",
              "      <td>58.5</td>\n",
              "    </tr>\n",
              "    <tr>\n",
              "      <th>4</th>\n",
              "      <td>180.8</td>\n",
              "      <td>10.8</td>\n",
              "      <td>58.4</td>\n",
              "    </tr>\n",
              "    <tr>\n",
              "      <th>...</th>\n",
              "      <td>...</td>\n",
              "      <td>...</td>\n",
              "      <td>...</td>\n",
              "    </tr>\n",
              "    <tr>\n",
              "      <th>195</th>\n",
              "      <td>38.2</td>\n",
              "      <td>3.7</td>\n",
              "      <td>13.8</td>\n",
              "    </tr>\n",
              "    <tr>\n",
              "      <th>196</th>\n",
              "      <td>94.2</td>\n",
              "      <td>4.9</td>\n",
              "      <td>8.1</td>\n",
              "    </tr>\n",
              "    <tr>\n",
              "      <th>197</th>\n",
              "      <td>177.0</td>\n",
              "      <td>9.3</td>\n",
              "      <td>6.4</td>\n",
              "    </tr>\n",
              "    <tr>\n",
              "      <th>198</th>\n",
              "      <td>283.6</td>\n",
              "      <td>42.0</td>\n",
              "      <td>66.2</td>\n",
              "    </tr>\n",
              "    <tr>\n",
              "      <th>199</th>\n",
              "      <td>232.1</td>\n",
              "      <td>8.6</td>\n",
              "      <td>8.7</td>\n",
              "    </tr>\n",
              "  </tbody>\n",
              "</table>\n",
              "<p>200 rows × 3 columns</p>\n",
              "</div>\n",
              "      <button class=\"colab-df-convert\" onclick=\"convertToInteractive('df-d713b0da-32c2-408d-b0d0-efc67864f399')\"\n",
              "              title=\"Convert this dataframe to an interactive table.\"\n",
              "              style=\"display:none;\">\n",
              "        \n",
              "  <svg xmlns=\"http://www.w3.org/2000/svg\" height=\"24px\"viewBox=\"0 0 24 24\"\n",
              "       width=\"24px\">\n",
              "    <path d=\"M0 0h24v24H0V0z\" fill=\"none\"/>\n",
              "    <path d=\"M18.56 5.44l.94 2.06.94-2.06 2.06-.94-2.06-.94-.94-2.06-.94 2.06-2.06.94zm-11 1L8.5 8.5l.94-2.06 2.06-.94-2.06-.94L8.5 2.5l-.94 2.06-2.06.94zm10 10l.94 2.06.94-2.06 2.06-.94-2.06-.94-.94-2.06-.94 2.06-2.06.94z\"/><path d=\"M17.41 7.96l-1.37-1.37c-.4-.4-.92-.59-1.43-.59-.52 0-1.04.2-1.43.59L10.3 9.45l-7.72 7.72c-.78.78-.78 2.05 0 2.83L4 21.41c.39.39.9.59 1.41.59.51 0 1.02-.2 1.41-.59l7.78-7.78 2.81-2.81c.8-.78.8-2.07 0-2.86zM5.41 20L4 18.59l7.72-7.72 1.47 1.35L5.41 20z\"/>\n",
              "  </svg>\n",
              "      </button>\n",
              "      \n",
              "  <style>\n",
              "    .colab-df-container {\n",
              "      display:flex;\n",
              "      flex-wrap:wrap;\n",
              "      gap: 12px;\n",
              "    }\n",
              "\n",
              "    .colab-df-convert {\n",
              "      background-color: #E8F0FE;\n",
              "      border: none;\n",
              "      border-radius: 50%;\n",
              "      cursor: pointer;\n",
              "      display: none;\n",
              "      fill: #1967D2;\n",
              "      height: 32px;\n",
              "      padding: 0 0 0 0;\n",
              "      width: 32px;\n",
              "    }\n",
              "\n",
              "    .colab-df-convert:hover {\n",
              "      background-color: #E2EBFA;\n",
              "      box-shadow: 0px 1px 2px rgba(60, 64, 67, 0.3), 0px 1px 3px 1px rgba(60, 64, 67, 0.15);\n",
              "      fill: #174EA6;\n",
              "    }\n",
              "\n",
              "    [theme=dark] .colab-df-convert {\n",
              "      background-color: #3B4455;\n",
              "      fill: #D2E3FC;\n",
              "    }\n",
              "\n",
              "    [theme=dark] .colab-df-convert:hover {\n",
              "      background-color: #434B5C;\n",
              "      box-shadow: 0px 1px 3px 1px rgba(0, 0, 0, 0.15);\n",
              "      filter: drop-shadow(0px 1px 2px rgba(0, 0, 0, 0.3));\n",
              "      fill: #FFFFFF;\n",
              "    }\n",
              "  </style>\n",
              "\n",
              "      <script>\n",
              "        const buttonEl =\n",
              "          document.querySelector('#df-d713b0da-32c2-408d-b0d0-efc67864f399 button.colab-df-convert');\n",
              "        buttonEl.style.display =\n",
              "          google.colab.kernel.accessAllowed ? 'block' : 'none';\n",
              "\n",
              "        async function convertToInteractive(key) {\n",
              "          const element = document.querySelector('#df-d713b0da-32c2-408d-b0d0-efc67864f399');\n",
              "          const dataTable =\n",
              "            await google.colab.kernel.invokeFunction('convertToInteractive',\n",
              "                                                     [key], {});\n",
              "          if (!dataTable) return;\n",
              "\n",
              "          const docLinkHtml = 'Like what you see? Visit the ' +\n",
              "            '<a target=\"_blank\" href=https://colab.research.google.com/notebooks/data_table.ipynb>data table notebook</a>'\n",
              "            + ' to learn more about interactive tables.';\n",
              "          element.innerHTML = '';\n",
              "          dataTable['output_type'] = 'display_data';\n",
              "          await google.colab.output.renderOutput(dataTable, element);\n",
              "          const docLink = document.createElement('div');\n",
              "          docLink.innerHTML = docLinkHtml;\n",
              "          element.appendChild(docLink);\n",
              "        }\n",
              "      </script>\n",
              "    </div>\n",
              "  </div>\n",
              "  "
            ]
          },
          "metadata": {},
          "execution_count": 242
        }
      ]
    },
    {
      "cell_type": "code",
      "source": [
        "print (\"Variable dependiente\")\n",
        "Y_dependiente = datos.iloc[:, 4:5]\n",
        "Y_dependiente"
      ],
      "metadata": {
        "colab": {
          "base_uri": "https://localhost:8080/",
          "height": 441
        },
        "id": "z5rtzG_DHNUu",
        "outputId": "2014be22-4209-4ecb-9976-17fdc2d92770"
      },
      "execution_count": null,
      "outputs": [
        {
          "output_type": "stream",
          "name": "stdout",
          "text": [
            "Variable dependiente\n"
          ]
        },
        {
          "output_type": "execute_result",
          "data": {
            "text/plain": [
              "     Sales\n",
              "0     22.1\n",
              "1     10.4\n",
              "2      9.3\n",
              "3     18.5\n",
              "4     12.9\n",
              "..     ...\n",
              "195    7.6\n",
              "196    9.7\n",
              "197   12.8\n",
              "198   25.5\n",
              "199   13.4\n",
              "\n",
              "[200 rows x 1 columns]"
            ],
            "text/html": [
              "\n",
              "  <div id=\"df-70a1d947-067d-4c83-8c19-4c1bc5431e71\">\n",
              "    <div class=\"colab-df-container\">\n",
              "      <div>\n",
              "<style scoped>\n",
              "    .dataframe tbody tr th:only-of-type {\n",
              "        vertical-align: middle;\n",
              "    }\n",
              "\n",
              "    .dataframe tbody tr th {\n",
              "        vertical-align: top;\n",
              "    }\n",
              "\n",
              "    .dataframe thead th {\n",
              "        text-align: right;\n",
              "    }\n",
              "</style>\n",
              "<table border=\"1\" class=\"dataframe\">\n",
              "  <thead>\n",
              "    <tr style=\"text-align: right;\">\n",
              "      <th></th>\n",
              "      <th>Sales</th>\n",
              "    </tr>\n",
              "  </thead>\n",
              "  <tbody>\n",
              "    <tr>\n",
              "      <th>0</th>\n",
              "      <td>22.1</td>\n",
              "    </tr>\n",
              "    <tr>\n",
              "      <th>1</th>\n",
              "      <td>10.4</td>\n",
              "    </tr>\n",
              "    <tr>\n",
              "      <th>2</th>\n",
              "      <td>9.3</td>\n",
              "    </tr>\n",
              "    <tr>\n",
              "      <th>3</th>\n",
              "      <td>18.5</td>\n",
              "    </tr>\n",
              "    <tr>\n",
              "      <th>4</th>\n",
              "      <td>12.9</td>\n",
              "    </tr>\n",
              "    <tr>\n",
              "      <th>...</th>\n",
              "      <td>...</td>\n",
              "    </tr>\n",
              "    <tr>\n",
              "      <th>195</th>\n",
              "      <td>7.6</td>\n",
              "    </tr>\n",
              "    <tr>\n",
              "      <th>196</th>\n",
              "      <td>9.7</td>\n",
              "    </tr>\n",
              "    <tr>\n",
              "      <th>197</th>\n",
              "      <td>12.8</td>\n",
              "    </tr>\n",
              "    <tr>\n",
              "      <th>198</th>\n",
              "      <td>25.5</td>\n",
              "    </tr>\n",
              "    <tr>\n",
              "      <th>199</th>\n",
              "      <td>13.4</td>\n",
              "    </tr>\n",
              "  </tbody>\n",
              "</table>\n",
              "<p>200 rows × 1 columns</p>\n",
              "</div>\n",
              "      <button class=\"colab-df-convert\" onclick=\"convertToInteractive('df-70a1d947-067d-4c83-8c19-4c1bc5431e71')\"\n",
              "              title=\"Convert this dataframe to an interactive table.\"\n",
              "              style=\"display:none;\">\n",
              "        \n",
              "  <svg xmlns=\"http://www.w3.org/2000/svg\" height=\"24px\"viewBox=\"0 0 24 24\"\n",
              "       width=\"24px\">\n",
              "    <path d=\"M0 0h24v24H0V0z\" fill=\"none\"/>\n",
              "    <path d=\"M18.56 5.44l.94 2.06.94-2.06 2.06-.94-2.06-.94-.94-2.06-.94 2.06-2.06.94zm-11 1L8.5 8.5l.94-2.06 2.06-.94-2.06-.94L8.5 2.5l-.94 2.06-2.06.94zm10 10l.94 2.06.94-2.06 2.06-.94-2.06-.94-.94-2.06-.94 2.06-2.06.94z\"/><path d=\"M17.41 7.96l-1.37-1.37c-.4-.4-.92-.59-1.43-.59-.52 0-1.04.2-1.43.59L10.3 9.45l-7.72 7.72c-.78.78-.78 2.05 0 2.83L4 21.41c.39.39.9.59 1.41.59.51 0 1.02-.2 1.41-.59l7.78-7.78 2.81-2.81c.8-.78.8-2.07 0-2.86zM5.41 20L4 18.59l7.72-7.72 1.47 1.35L5.41 20z\"/>\n",
              "  </svg>\n",
              "      </button>\n",
              "      \n",
              "  <style>\n",
              "    .colab-df-container {\n",
              "      display:flex;\n",
              "      flex-wrap:wrap;\n",
              "      gap: 12px;\n",
              "    }\n",
              "\n",
              "    .colab-df-convert {\n",
              "      background-color: #E8F0FE;\n",
              "      border: none;\n",
              "      border-radius: 50%;\n",
              "      cursor: pointer;\n",
              "      display: none;\n",
              "      fill: #1967D2;\n",
              "      height: 32px;\n",
              "      padding: 0 0 0 0;\n",
              "      width: 32px;\n",
              "    }\n",
              "\n",
              "    .colab-df-convert:hover {\n",
              "      background-color: #E2EBFA;\n",
              "      box-shadow: 0px 1px 2px rgba(60, 64, 67, 0.3), 0px 1px 3px 1px rgba(60, 64, 67, 0.15);\n",
              "      fill: #174EA6;\n",
              "    }\n",
              "\n",
              "    [theme=dark] .colab-df-convert {\n",
              "      background-color: #3B4455;\n",
              "      fill: #D2E3FC;\n",
              "    }\n",
              "\n",
              "    [theme=dark] .colab-df-convert:hover {\n",
              "      background-color: #434B5C;\n",
              "      box-shadow: 0px 1px 3px 1px rgba(0, 0, 0, 0.15);\n",
              "      filter: drop-shadow(0px 1px 2px rgba(0, 0, 0, 0.3));\n",
              "      fill: #FFFFFF;\n",
              "    }\n",
              "  </style>\n",
              "\n",
              "      <script>\n",
              "        const buttonEl =\n",
              "          document.querySelector('#df-70a1d947-067d-4c83-8c19-4c1bc5431e71 button.colab-df-convert');\n",
              "        buttonEl.style.display =\n",
              "          google.colab.kernel.accessAllowed ? 'block' : 'none';\n",
              "\n",
              "        async function convertToInteractive(key) {\n",
              "          const element = document.querySelector('#df-70a1d947-067d-4c83-8c19-4c1bc5431e71');\n",
              "          const dataTable =\n",
              "            await google.colab.kernel.invokeFunction('convertToInteractive',\n",
              "                                                     [key], {});\n",
              "          if (!dataTable) return;\n",
              "\n",
              "          const docLinkHtml = 'Like what you see? Visit the ' +\n",
              "            '<a target=\"_blank\" href=https://colab.research.google.com/notebooks/data_table.ipynb>data table notebook</a>'\n",
              "            + ' to learn more about interactive tables.';\n",
              "          element.innerHTML = '';\n",
              "          dataTable['output_type'] = 'display_data';\n",
              "          await google.colab.output.renderOutput(dataTable, element);\n",
              "          const docLink = document.createElement('div');\n",
              "          docLink.innerHTML = docLinkHtml;\n",
              "          element.appendChild(docLink);\n",
              "        }\n",
              "      </script>\n",
              "    </div>\n",
              "  </div>\n",
              "  "
            ]
          },
          "metadata": {},
          "execution_count": 241
        }
      ]
    },
    {
      "cell_type": "code",
      "source": [
        "\n",
        "X_entrena,X_valida,Y_entrena,Y_valida = train_test_split(X_independientes, Y_dependiente,train_size=.70,  random_state=2022)\n",
        " \n",
        "\n"
      ],
      "metadata": {
        "id": "Yb0TOjVMpI82"
      },
      "execution_count": null,
      "outputs": []
    },
    {
      "cell_type": "markdown",
      "source": [
        "### Datos de entrenamiento\n",
        "\n",
        "Variables independientes\n"
      ],
      "metadata": {
        "id": "jvkhnYV0x1uO"
      }
    },
    {
      "cell_type": "code",
      "source": [
        "print(\"Estructura de datos de entrenamiento... \", X_entrena.shape)\n",
        "print(X_entrena)\n",
        "print(X_entrena[['TV']], X_entrena[['Radio']], X_entrena[['Newspaper']])\n"
      ],
      "metadata": {
        "colab": {
          "base_uri": "https://localhost:8080/"
        },
        "id": "5RoiP479x3rP",
        "outputId": "4a8be498-5d39-4895-b8bf-05a57c27f892"
      },
      "execution_count": null,
      "outputs": [
        {
          "output_type": "stream",
          "name": "stdout",
          "text": [
            "Estructura de datos de entrenamiento...  (140, 3)\n",
            "        TV  Radio  Newspaper\n",
            "51   100.4    9.6        3.6\n",
            "101  296.4   36.3      100.9\n",
            "85   193.2   18.4       65.7\n",
            "193  166.8   42.0        3.6\n",
            "5      8.7   48.9       75.0\n",
            "..     ...    ...        ...\n",
            "183  287.6   43.0       71.8\n",
            "177  170.2    7.8       35.2\n",
            "112  175.7   15.4        2.4\n",
            "173  168.4    7.1       12.8\n",
            "125   87.2   11.8       25.9\n",
            "\n",
            "[140 rows x 3 columns]\n",
            "        TV\n",
            "51   100.4\n",
            "101  296.4\n",
            "85   193.2\n",
            "193  166.8\n",
            "5      8.7\n",
            "..     ...\n",
            "183  287.6\n",
            "177  170.2\n",
            "112  175.7\n",
            "173  168.4\n",
            "125   87.2\n",
            "\n",
            "[140 rows x 1 columns]      Radio\n",
            "51     9.6\n",
            "101   36.3\n",
            "85    18.4\n",
            "193   42.0\n",
            "5     48.9\n",
            "..     ...\n",
            "183   43.0\n",
            "177    7.8\n",
            "112   15.4\n",
            "173    7.1\n",
            "125   11.8\n",
            "\n",
            "[140 rows x 1 columns]      Newspaper\n",
            "51         3.6\n",
            "101      100.9\n",
            "85        65.7\n",
            "193        3.6\n",
            "5         75.0\n",
            "..         ...\n",
            "183       71.8\n",
            "177       35.2\n",
            "112        2.4\n",
            "173       12.8\n",
            "125       25.9\n",
            "\n",
            "[140 rows x 1 columns]\n"
          ]
        }
      ]
    },
    {
      "cell_type": "markdown",
      "source": [
        "## Creando el modelo\n",
        "Crear a partir de los datos de entrenamiento el modelo de regresión lineal múltiple.\n",
        "\n",
        "Se muestran los coeficientes: \n",
        "\n"
      ],
      "metadata": {
        "id": "pKRzMXkyHa1G"
      }
    },
    {
      "cell_type": "code",
      "source": [
        "modelo_rm = LinearRegression()\n",
        " \n",
        "modelo_rm.fit(X_entrena,Y_entrena)\n",
        " \n",
        "print (\"Intercepción o b0\") \n",
        "b0 = modelo_rm.intercept_\n",
        "print (b0)\n",
        "\n",
        "print (\"Coeficientes: b1, b2 y b3\") \n",
        "# print (modelo_rm.coef_)\n",
        "b1 = modelo_rm.coef_[0, 0:1]\n",
        "b2 = modelo_rm.coef_[0, 1:2]\n",
        "b3 = modelo_rm.coef_[0, 2:3]\n",
        "print (b1, b2, b3)\n"
      ],
      "metadata": {
        "colab": {
          "base_uri": "https://localhost:8080/"
        },
        "id": "6oxvW4hfHhMW",
        "outputId": "393db6a1-317a-4929-fdb1-b55ace7c3c48"
      },
      "execution_count": null,
      "outputs": [
        {
          "output_type": "stream",
          "name": "stdout",
          "text": [
            "Intercepción o b0\n",
            "[2.9176993]\n",
            "Coeficientes: b1, b2 y b3\n",
            "[0.04560508] [0.18901996] [-0.00196361]\n"
          ]
        }
      ]
    },
    {
      "cell_type": "markdown",
      "source": [
        ""
      ],
      "metadata": {
        "id": "FvbdW2Zdmw9s"
      }
    },
    {
      "cell_type": "markdown",
      "source": [
        "$$PrediccionY = b_0 + b_1{x_1} + b_2{x_2} + b_3{x_3}$$\n"
      ],
      "metadata": {
        "id": "F2B0v-erIbvG"
      }
    },
    {
      "cell_type": "markdown",
      "source": [
        "## R Square y R Square ajustado a a partir del modelo\n",
        "\n",
        "Sobrepasa el 80% de tal forma que el el modelo **SE ACEPA** por este criterio"
      ],
      "metadata": {
        "id": "s04ZxhJVmz-k"
      }
    },
    {
      "cell_type": "code",
      "source": [
        "print(modelo_rm.score(X_entrena, Y_entrena))"
      ],
      "metadata": {
        "colab": {
          "base_uri": "https://localhost:8080/"
        },
        "id": "DTPmWLanm49D",
        "outputId": "697ea52b-7ced-487c-b576-80fbce3cff94"
      },
      "execution_count": null,
      "outputs": [
        {
          "output_type": "stream",
          "name": "stdout",
          "text": [
            "0.8789152518594444\n"
          ]
        }
      ]
    },
    {
      "cell_type": "code",
      "source": [
        ""
      ],
      "metadata": {
        "id": "Twjwhx1ARVG9"
      },
      "execution_count": null,
      "outputs": []
    },
    {
      "cell_type": "markdown",
      "source": [
        "## Predicciones\n",
        "\n",
        "Se generan las predicciones a partir de los datos de validación, por lo que resulta las estimaciones con la función *predict()* del modelo de regresión múltiple."
      ],
      "metadata": {
        "id": "CYfEDBy-Sc_P"
      }
    },
    {
      "cell_type": "code",
      "source": [
        "predicciones = modelo_rm.predict(X_valida)\n",
        "print(predicciones[:-1])\n",
        "print(predicciones.shape)"
      ],
      "metadata": {
        "colab": {
          "base_uri": "https://localhost:8080/"
        },
        "id": "NIAjTag4ShRU",
        "outputId": "65c61b9d-dcff-48e7-91e5-01c32b781d17"
      },
      "execution_count": null,
      "outputs": [
        {
          "output_type": "stream",
          "name": "stdout",
          "text": [
            "[[21.83261188]\n",
            " [ 6.4277089 ]\n",
            " [18.45948501]\n",
            " [15.47588869]\n",
            " [24.02449808]\n",
            " [18.29426092]\n",
            " [13.84931373]\n",
            " [ 9.94735024]\n",
            " [ 7.57747879]\n",
            " [13.98767217]\n",
            " [ 7.57513461]\n",
            " [17.56332247]\n",
            " [14.27717687]\n",
            " [15.04742636]\n",
            " [18.00884466]\n",
            " [12.33391457]\n",
            " [23.35895084]\n",
            " [18.15991368]\n",
            " [21.04944641]\n",
            " [19.34370985]\n",
            " [ 3.70488128]\n",
            " [ 6.98099145]\n",
            " [ 7.05154864]\n",
            " [16.30582273]\n",
            " [ 7.3544544 ]\n",
            " [19.0622407 ]\n",
            " [14.70288818]\n",
            " [23.12658945]\n",
            " [21.66635916]\n",
            " [20.71587189]\n",
            " [10.1250497 ]\n",
            " [ 8.79720573]\n",
            " [11.91864325]\n",
            " [13.88931833]\n",
            " [21.53986369]\n",
            " [ 9.65755715]\n",
            " [12.72569829]\n",
            " [18.92079402]\n",
            " [ 8.39051662]\n",
            " [11.76788471]\n",
            " [17.27399069]\n",
            " [ 8.43800138]\n",
            " [17.08880043]\n",
            " [ 6.52408183]\n",
            " [20.74525868]\n",
            " [14.65434577]\n",
            " [11.27966473]\n",
            " [12.73511659]\n",
            " [13.49616337]\n",
            " [ 7.82056806]\n",
            " [11.40497183]\n",
            " [ 6.49979936]\n",
            " [13.67721317]\n",
            " [ 6.07872675]\n",
            " [10.33736038]\n",
            " [ 9.8611886 ]\n",
            " [ 9.83494926]\n",
            " [17.86131305]\n",
            " [20.42050073]]\n",
            "(60, 1)\n"
          ]
        }
      ]
    },
    {
      "cell_type": "markdown",
      "source": [
        "## Determinando métricas\n",
        "\n",
        "Crear un data.frame llamado comparaciones a partir de la creación de un diccionario con los valores reales del conjunto de entrenamiento y las predicciones calculadas.\n",
        "\n",
        "Se usa el *type()* para conocer el tipo de estructura de datos\n",
        "\n",
        "Se usa el *assign()* para agregar columnas al df comparaciones\n",
        "\n",
        "Se usa *flatten().tolist()* para convertir a una lsita de una dimensión.\n",
        "\n",
        "Al final se tiene un *data.frame * llamado comparaciones que las últimas columnas tienen los valores reales de 'Sales' y las predicciiones en la variable 'Predicho'.\n"
      ],
      "metadata": {
        "id": "lrqxb2xtS33m"
      }
    },
    {
      "cell_type": "code",
      "source": [
        "print(type(X_valida))\n",
        "# print(X_valida)\n",
        "\n",
        "print(type(predicciones))\n",
        "# print(predicciones)\n",
        "\n",
        "\n",
        "comparaciones = pd.DataFrame(X_valida)\n",
        "comparaciones = comparaciones.assign(Sales_Real = Y_valida)\n",
        "comparaciones = comparaciones.assign(Predicho = predicciones.flatten().tolist())\n",
        "print(comparaciones)"
      ],
      "metadata": {
        "colab": {
          "base_uri": "https://localhost:8080/"
        },
        "id": "c6PJyA_YS8F-",
        "outputId": "d8ca7867-fd09-4f1e-af51-2c2d9cef9468"
      },
      "execution_count": null,
      "outputs": [
        {
          "output_type": "stream",
          "name": "stdout",
          "text": [
            "<class 'pandas.core.frame.DataFrame'>\n",
            "<class 'numpy.ndarray'>\n",
            "        TV  Radio  Newspaper  Sales_Real   Predicho\n",
            "58   210.8   49.6       37.7        23.8  21.832612\n",
            "22    13.2   15.9       49.6         5.6   6.427709\n",
            "184  253.8   21.3       30.0        17.6  18.459485\n",
            "131  265.2    2.9       43.0        12.7  15.475889\n",
            "98   289.7   42.3       51.2        25.4  24.024498\n",
            "141  193.7   35.4       75.6        19.2  18.294261\n",
            "181  218.5    5.4       27.4        12.2  13.849314\n",
            "157  149.8    1.3       24.3        10.1   9.947350\n",
            "172   19.6   20.1       17.0         7.6   7.577479\n",
            "135   48.3   47.0        8.5        11.6  13.987672\n",
            "32    97.2    1.5       30.0         9.6   7.575135\n",
            "102  280.2   10.1       21.4        14.8  17.563322\n",
            "171  164.5   20.9       47.4        14.5  14.277177\n",
            "123  123.1   34.6       12.4        15.2  15.047426\n",
            "20   218.4   27.7       53.4        18.0  18.008845\n",
            "159  131.7   18.4       34.6        12.9  12.333915\n",
            "36   266.9   43.8        5.0        25.4  23.358951\n",
            "153  171.3   39.7       37.7        19.0  18.159914\n",
            "69   216.8   43.9       27.2        22.3  21.049446\n",
            "124  229.5   32.3       74.2        19.7  19.343710\n",
            "8      8.6    2.1        1.0         4.8   3.704881\n",
            "10    66.1    5.8       24.2         8.6   6.980991\n",
            "107   90.4    0.3       23.2         8.7   7.051549\n",
            "40   202.5   22.3       31.6        16.6  16.305823\n",
            "170   50.0   11.6       18.4         8.4   7.354454\n",
            "92   217.7   33.5       59.0        19.4  19.062241\n",
            "103  187.9   17.2       17.9        14.7  14.702888\n",
            "17   281.4   39.6       55.8        24.4  23.126589\n",
            "47   239.9   41.5       18.5        23.2  21.666359\n",
            "84   213.5   43.0       33.8        21.7  20.715872\n",
            "82    75.3   20.3       32.5        11.3  10.125050\n",
            "78     5.4   29.9        9.4         5.3   8.797206\n",
            "116  139.2   14.3       25.6        12.2  11.918643\n",
            "43   206.9    8.4       26.4        12.9  13.889318\n",
            "30   292.9   28.3       43.2        21.4  21.539864\n",
            "145  140.3    1.9        9.0        10.3   9.657557\n",
            "57   136.2   19.2       16.6        13.2  12.725698\n",
            "68   237.4   27.5       11.0        18.9  18.920794\n",
            "191   75.5   10.8        6.0         9.9   8.390517\n",
            "134   36.9   38.6       65.6        10.8  11.767885\n",
            "74   213.4   24.6       13.1        17.0  17.273991\n",
            "132    8.4   27.2        2.1         5.7   8.438001\n",
            "168  215.4   23.6       57.6        17.1  17.088800\n",
            "117   76.4    0.8       14.8         9.4   6.524082\n",
            "137  273.7   28.9       59.7        20.8  20.745259\n",
            "110  225.8    8.2       56.5        13.4  14.654346\n",
            "31   112.9   17.4       38.6        11.9  11.279665\n",
            "197  177.0    9.3        6.4        12.8  12.735117\n",
            "161   85.7   35.8       49.3        13.3  13.496163\n",
            "65    69.0    9.3        0.9         9.3   7.820568\n",
            "80    76.4   26.7       22.3        11.8  11.404972\n",
            "182   56.2    5.7       29.7         8.7   6.499799\n",
            "174  222.4    3.4       13.1        11.5  13.677213\n",
            "106   25.0   11.0       29.7         7.2   6.078727\n",
            "158   11.7   36.9       45.2         7.3  10.337360\n",
            "38    43.1   26.7       35.1        10.1   9.861189\n",
            "73   129.4    5.7       31.3        11.0   9.834949\n",
            "105  137.9   46.4       59.0        19.2  17.861313\n",
            "0    230.1   37.8       69.2        22.1  20.420501\n",
            "89   109.8   47.8       51.4        16.7  16.859362\n"
          ]
        }
      ]
    },
    {
      "cell_type": "markdown",
      "source": [
        "#### R Square\n",
        "\n",
        "Se obtienen el R Square con las predicciones"
      ],
      "metadata": {
        "id": "HFSdOMhsllw9"
      }
    },
    {
      "cell_type": "code",
      "source": [
        "print('R Square :', r2_score(comparaciones['Sales_Real'], comparaciones['Predicho'] ))\n"
      ],
      "metadata": {
        "colab": {
          "base_uri": "https://localhost:8080/"
        },
        "id": "sUtKqB-4lntE",
        "outputId": "63177a88-c8ed-48cd-e0f6-001098703dc2"
      },
      "execution_count": null,
      "outputs": [
        {
          "output_type": "stream",
          "name": "stdout",
          "text": [
            "R Square : 0.9332340109009485\n"
          ]
        }
      ]
    },
    {
      "cell_type": "markdown",
      "source": [
        "El valor de *R Square* ESTÁ POR ENCIMA del 80%, por lo cual, por este criterio el modelo **SI SE ACEPTA.**"
      ],
      "metadata": {
        "id": "rjmpOJX7l1S7"
      }
    },
    {
      "cell_type": "markdown",
      "source": [
        "#### rmse\n",
        "\n",
        "$$\n",
        "rmse = \\sqrt{\\frac{\\sum(predicho_i - real_i)^{2}}{n}}\n",
        "$$\n",
        "\n",
        "\n"
      ],
      "metadata": {
        "id": "OVV6VLqeqTVc"
      }
    },
    {
      "cell_type": "code",
      "source": [
        "print('Mean Squared Error: MSE', metrics.mean_squared_error(Y_valida, predicciones))\n",
        "print('Root Mean Squared Error RMSE:', np.sqrt(metrics.mean_squared_error(Y_valida, predicciones)))\n"
      ],
      "metadata": {
        "colab": {
          "base_uri": "https://localhost:8080/"
        },
        "id": "aLSUj7feqiRW",
        "outputId": "76ee90ba-d98f-4d62-e002-479bb13b9316"
      },
      "execution_count": null,
      "outputs": [
        {
          "output_type": "stream",
          "name": "stdout",
          "text": [
            "Mean Squared Error: MSE 2.007882522104384\n",
            "Root Mean Squared Error RMSE: 1.4169977142198869\n"
          ]
        }
      ]
    },
    {
      "cell_type": "markdown",
      "source": [
        "Habrá que comparar e valor de RMSE con otro modelo y será más eficiente aquel que se acerque a cero\n"
      ],
      "metadata": {
        "id": "OZ98uBrYq5ml"
      }
    },
    {
      "cell_type": "markdown",
      "source": [
        "### Valores Reales Sales Vs Prediciones\n",
        "\n",
        "Se visualiza y se compara los valores reales contra las predicciones\n",
        "\n",
        "Se extraen los valores reales, en 'rojo' los valores rales de las ventas *Sales*\n",
        "\n",
        "En azul las predicciones\n",
        "\n"
      ],
      "metadata": {
        "id": "h7ZnL_6BrCJj"
      }
    },
    {
      "cell_type": "code",
      "source": [
        "y1 = Y_valida.values\n",
        "y2 = predicciones.flatten().tolist()\n",
        "# Plot list 'y'\n",
        "plt.plot(y1, 'b')\n",
        "plt.plot(y2, 'r')\n",
        "\n",
        "\n",
        "# Plot axes labels and show the plot\n",
        "plt.xlabel('Observaciones')\n",
        "plt.ylabel('Sales Reales Vs Predicciones')\n",
        "plt.show()"
      ],
      "metadata": {
        "colab": {
          "base_uri": "https://localhost:8080/",
          "height": 279
        },
        "id": "KyHLszNVrRst",
        "outputId": "a07f076e-2a12-4a23-d09e-fcca32abd8a6"
      },
      "execution_count": null,
      "outputs": [
        {
          "output_type": "display_data",
          "data": {
            "text/plain": [
              "<Figure size 432x288 with 1 Axes>"
            ],
            "image/png": "[encoded data removed]"
          },
          "metadata": {
            "needs_background": "light"
          }
        }
      ]
    },
    {
      "cell_type": "markdown",
      "source": [
        "# Interpretación "
      ],
      "metadata": {
        "id": "c_VbxKgzqXfc"
      }
    }
  ]
}