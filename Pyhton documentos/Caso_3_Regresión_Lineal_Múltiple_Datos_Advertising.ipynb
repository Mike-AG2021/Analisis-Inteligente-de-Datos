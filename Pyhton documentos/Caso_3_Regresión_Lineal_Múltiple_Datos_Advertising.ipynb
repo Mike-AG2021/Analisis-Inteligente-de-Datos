{
  "nbformat": 4,
  "nbformat_minor": 0,
  "metadata": {
    "colab": {
      "name": "Caso 3. Regresión Lineal Múltiple. Datos Advertising.ipynb",
      "provenance": [],
      "collapsed_sections": [],
      "include_colab_link": true
    },
    "kernelspec": {
      "name": "python3",
      "display_name": "Python 3"
    },
    "language_info": {
      "name": "python"
    }
  },
  "cells": [
    {
      "cell_type": "markdown",
      "metadata": {
        "id": "view-in-github",
        "colab_type": "text"
      },
      "source": [
        "<a href=\"https://colab.research.google.com/github/Mike-AG2021/Analisis-Inteligente-de-Datos/blob/main/Pyhton%20documentos/Caso_3_Regresi%C3%B3n_Lineal_M%C3%BAltiple_Datos_Advertising.ipynb\" target=\"_parent\"><img src=\"https://colab.research.google.com/assets/colab-badge.svg\" alt=\"Open In Colab\"/></a>"
      ]
    },
    {
      "cell_type": "markdown",
      "source": [
        "# Author: \"Jesús Miguel Acosta Gurrola\"\n",
        "# Date: \"17/03/2022\"\n"
      ],
      "metadata": {
        "id": "4MvCisFkjlun"
      }
    },
    {
      "cell_type": "markdown",
      "source": [
        "# Objetivo\n",
        "\n",
        "Construir y evaluar un modelo de regresión lineal múltiple para realizar predicciones."
      ],
      "metadata": {
        "id": "CzqcEcWIj1R-"
      }
    },
    {
      "cell_type": "markdown",
      "source": [
        "# Descripción\n",
        "\n",
        "* Se cargan las librerías necesarias\n",
        "\n",
        "* Se cargan los datos Se exploran los datos\n",
        "\n",
        "* Se crear los datos de entrenamiento y validación 70% y 30% respectivamente\n",
        "* Se construye el modelo con datos de entrenamiento\n",
        "* Se evalúa el modelo\n",
        "* Se hacen predicciones\n",
        "* Se visualiza las prediciones vs los valores reales\n",
        "* Se describe e intrepreta el modelo\n",
        "\n",
        "## Las métricas a valorar serán:\n",
        "\n",
        "* Que los coeficientes sean estadísticamente significativos por encima del 95%.\n",
        "\n",
        "* R Squared y R Square Ajustado el modelo se acepta si sobrepasa en el 80%.\n",
        "\n",
        "* *rmse* comparado con otro modelo mismos datos se acepta o se establece que un modelo es mejor que otro."
      ],
      "metadata": {
        "id": "JalKS51Mj6V2"
      }
    },
    {
      "cell_type": "markdown",
      "source": [
        "# Fundamento teórico\n",
        "\n",
        "En la mayoría de los problemas de investigación en los que se aplica el análisis de regresión se necesita más de una variable independiente para el modelo de regresión. La complejidad de la mayoría de mecanismos científicos es tal que, con el fin de predecir una respuesta importante, se requiere un modelo de regresión múltiple. Cuando un modelo es lineal en los coeficientes se denomina modelo de regresión lineal múltiple.\n",
        "\n",
        "Para el caso de k variables independientes, el modelo que da x1,x2,...,xk, y y como la variable dependiente.x1,x,...,xk son las variable s que afectan a la variable dependiente en el modelo de regresión lineal múltiple. (Walpole, Myers, and Myers 2012a)\n",
        "\n",
        "Muchos problemas de investigación y de la industria, requieren la estimación de las relaciones existentes entre el patrón de variabilidad de una variable aleatoria y los valores de una o más variables aleatorias. (Urrutia Mosquera 2011)\n",
        "\n",
        "Al generar un modelo de regresión lineal múltiple es importante identificar los estadísticos de R2, que se denomina coeficiente de determinación y es una medida de la proporción de la variabilidad explicada por el modelo ajustado.\n",
        "\n",
        "De igual forma, el valor de R2 ajustado o coeficiente de determinación ajustado, es una variación de R2 que proporciona un ajuste para los grados de libertad (Walpole, Myers, and Myers 2012b). R Ajustado está diseñado para proporcionar un estadístico que castigue un modelo sobreajustado, de manera que se puede esperar que favorezca al modelo.(Walpole, Myers, and Myers 2012).\n",
        "\n",
        "Una variable **Y** puede predecirse conforme y de cuerdo con la siguiente fórmula de la regresión múltiple.\n",
        "\n",
        "$$\n",
        "Y = b_0 + b_1{x_1} + b_2{x_2} + b_3{x_3}+ .....b_k{x_k}\n",
        "$$\n",
        "\n",
        "\n"
      ],
      "metadata": {
        "id": "bV-dzNtfkV0w"
      }
    },
    {
      "cell_type": "markdown",
      "source": [
        "# Desarrollo\n",
        "\n"
      ],
      "metadata": {
        "id": "jjlcA6TMk8Z4"
      }
    },
    {
      "cell_type": "markdown",
      "source": [
        "## Cargar librerías\n",
        "\n"
      ],
      "metadata": {
        "id": "o1ir8kqLk-aP"
      }
    },
    {
      "cell_type": "code",
      "source": [
        "import pandas as pd\n",
        "import numpy as np\n",
        "import statsmodels.api as sm # Estadístias R Adjused\n",
        "import seaborn as sns  # Gráficos\n",
        "from sklearn import linear_model\n",
        "from sklearn.linear_model import LinearRegression\n",
        "from sklearn.preprocessing import PolynomialFeatures # Polinomial\n",
        "\n",
        "import matplotlib.pyplot as plt\n",
        "from sklearn.model_selection import train_test_split\n",
        "from sklearn import metrics\n",
        "from sklearn.metrics import mean_squared_error, r2_score"
      ],
      "metadata": {
        "colab": {
          "base_uri": "https://localhost:8080/"
        },
        "id": "XqckRWP8lM05",
        "outputId": "ca0119e6-b329-43ad-fd0d-6b95998c9557"
      },
      "execution_count": null,
      "outputs": [
        {
          "output_type": "stream",
          "name": "stderr",
          "text": [
            "/usr/local/lib/python3.7/dist-packages/statsmodels/tools/_testing.py:19: FutureWarning: pandas.util.testing is deprecated. Use the functions in the public API at pandas.testing instead.\n",
            "  import pandas.util.testing as tm\n"
          ]
        }
      ]
    },
    {
      "cell_type": "markdown",
      "source": [
        "## Cargar datos\n",
        "\n"
      ],
      "metadata": {
        "id": "rg2BCN_BlA46"
      }
    },
    {
      "cell_type": "code",
      "source": [
        "datos = datos = pd.read_csv(\"https://raw.githubusercontent.com/rpizarrog/Analisis-Inteligente-de-datos/main/datos/Advertising.csv\")\n",
        "datos"
      ],
      "metadata": {
        "colab": {
          "base_uri": "https://localhost:8080/",
          "height": 424
        },
        "id": "rN6BVH0ilbme",
        "outputId": "47ad304f-1644-488c-dd33-823c278c2d11"
      },
      "execution_count": null,
      "outputs": [
        {
          "output_type": "execute_result",
          "data": {
            "text/plain": [
              "     Unnamed: 0     TV  Radio  Newspaper  Sales\n",
              "0             1  230.1   37.8       69.2   22.1\n",
              "1             2   44.5   39.3       45.1   10.4\n",
              "2             3   17.2   45.9       69.3    9.3\n",
              "3             4  151.5   41.3       58.5   18.5\n",
              "4             5  180.8   10.8       58.4   12.9\n",
              "..          ...    ...    ...        ...    ...\n",
              "195         196   38.2    3.7       13.8    7.6\n",
              "196         197   94.2    4.9        8.1    9.7\n",
              "197         198  177.0    9.3        6.4   12.8\n",
              "198         199  283.6   42.0       66.2   25.5\n",
              "199         200  232.1    8.6        8.7   13.4\n",
              "\n",
              "[200 rows x 5 columns]"
            ],
            "text/html": [
              "\n",
              "  <div id=\"df-b96215ba-5872-4e3f-8712-325b75a39a7a\">\n",
              "    <div class=\"colab-df-container\">\n",
              "      <div>\n",
              "<style scoped>\n",
              "    .dataframe tbody tr th:only-of-type {\n",
              "        vertical-align: middle;\n",
              "    }\n",
              "\n",
              "    .dataframe tbody tr th {\n",
              "        vertical-align: top;\n",
              "    }\n",
              "\n",
              "    .dataframe thead th {\n",
              "        text-align: right;\n",
              "    }\n",
              "</style>\n",
              "<table border=\"1\" class=\"dataframe\">\n",
              "  <thead>\n",
              "    <tr style=\"text-align: right;\">\n",
              "      <th></th>\n",
              "      <th>Unnamed: 0</th>\n",
              "      <th>TV</th>\n",
              "      <th>Radio</th>\n",
              "      <th>Newspaper</th>\n",
              "      <th>Sales</th>\n",
              "    </tr>\n",
              "  </thead>\n",
              "  <tbody>\n",
              "    <tr>\n",
              "      <th>0</th>\n",
              "      <td>1</td>\n",
              "      <td>230.1</td>\n",
              "      <td>37.8</td>\n",
              "      <td>69.2</td>\n",
              "      <td>22.1</td>\n",
              "    </tr>\n",
              "    <tr>\n",
              "      <th>1</th>\n",
              "      <td>2</td>\n",
              "      <td>44.5</td>\n",
              "      <td>39.3</td>\n",
              "      <td>45.1</td>\n",
              "      <td>10.4</td>\n",
              "    </tr>\n",
              "    <tr>\n",
              "      <th>2</th>\n",
              "      <td>3</td>\n",
              "      <td>17.2</td>\n",
              "      <td>45.9</td>\n",
              "      <td>69.3</td>\n",
              "      <td>9.3</td>\n",
              "    </tr>\n",
              "    <tr>\n",
              "      <th>3</th>\n",
              "      <td>4</td>\n",
              "      <td>151.5</td>\n",
              "      <td>41.3</td>\n",
              "      <td>58.5</td>\n",
              "      <td>18.5</td>\n",
              "    </tr>\n",
              "    <tr>\n",
              "      <th>4</th>\n",
              "      <td>5</td>\n",
              "      <td>180.8</td>\n",
              "      <td>10.8</td>\n",
              "      <td>58.4</td>\n",
              "      <td>12.9</td>\n",
              "    </tr>\n",
              "    <tr>\n",
              "      <th>...</th>\n",
              "      <td>...</td>\n",
              "      <td>...</td>\n",
              "      <td>...</td>\n",
              "      <td>...</td>\n",
              "      <td>...</td>\n",
              "    </tr>\n",
              "    <tr>\n",
              "      <th>195</th>\n",
              "      <td>196</td>\n",
              "      <td>38.2</td>\n",
              "      <td>3.7</td>\n",
              "      <td>13.8</td>\n",
              "      <td>7.6</td>\n",
              "    </tr>\n",
              "    <tr>\n",
              "      <th>196</th>\n",
              "      <td>197</td>\n",
              "      <td>94.2</td>\n",
              "      <td>4.9</td>\n",
              "      <td>8.1</td>\n",
              "      <td>9.7</td>\n",
              "    </tr>\n",
              "    <tr>\n",
              "      <th>197</th>\n",
              "      <td>198</td>\n",
              "      <td>177.0</td>\n",
              "      <td>9.3</td>\n",
              "      <td>6.4</td>\n",
              "      <td>12.8</td>\n",
              "    </tr>\n",
              "    <tr>\n",
              "      <th>198</th>\n",
              "      <td>199</td>\n",
              "      <td>283.6</td>\n",
              "      <td>42.0</td>\n",
              "      <td>66.2</td>\n",
              "      <td>25.5</td>\n",
              "    </tr>\n",
              "    <tr>\n",
              "      <th>199</th>\n",
              "      <td>200</td>\n",
              "      <td>232.1</td>\n",
              "      <td>8.6</td>\n",
              "      <td>8.7</td>\n",
              "      <td>13.4</td>\n",
              "    </tr>\n",
              "  </tbody>\n",
              "</table>\n",
              "<p>200 rows × 5 columns</p>\n",
              "</div>\n",
              "      <button class=\"colab-df-convert\" onclick=\"convertToInteractive('df-b96215ba-5872-4e3f-8712-325b75a39a7a')\"\n",
              "              title=\"Convert this dataframe to an interactive table.\"\n",
              "              style=\"display:none;\">\n",
              "        \n",
              "  <svg xmlns=\"http://www.w3.org/2000/svg\" height=\"24px\"viewBox=\"0 0 24 24\"\n",
              "       width=\"24px\">\n",
              "    <path d=\"M0 0h24v24H0V0z\" fill=\"none\"/>\n",
              "    <path d=\"M18.56 5.44l.94 2.06.94-2.06 2.06-.94-2.06-.94-.94-2.06-.94 2.06-2.06.94zm-11 1L8.5 8.5l.94-2.06 2.06-.94-2.06-.94L8.5 2.5l-.94 2.06-2.06.94zm10 10l.94 2.06.94-2.06 2.06-.94-2.06-.94-.94-2.06-.94 2.06-2.06.94z\"/><path d=\"M17.41 7.96l-1.37-1.37c-.4-.4-.92-.59-1.43-.59-.52 0-1.04.2-1.43.59L10.3 9.45l-7.72 7.72c-.78.78-.78 2.05 0 2.83L4 21.41c.39.39.9.59 1.41.59.51 0 1.02-.2 1.41-.59l7.78-7.78 2.81-2.81c.8-.78.8-2.07 0-2.86zM5.41 20L4 18.59l7.72-7.72 1.47 1.35L5.41 20z\"/>\n",
              "  </svg>\n",
              "      </button>\n",
              "      \n",
              "  <style>\n",
              "    .colab-df-container {\n",
              "      display:flex;\n",
              "      flex-wrap:wrap;\n",
              "      gap: 12px;\n",
              "    }\n",
              "\n",
              "    .colab-df-convert {\n",
              "      background-color: #E8F0FE;\n",
              "      border: none;\n",
              "      border-radius: 50%;\n",
              "      cursor: pointer;\n",
              "      display: none;\n",
              "      fill: #1967D2;\n",
              "      height: 32px;\n",
              "      padding: 0 0 0 0;\n",
              "      width: 32px;\n",
              "    }\n",
              "\n",
              "    .colab-df-convert:hover {\n",
              "      background-color: #E2EBFA;\n",
              "      box-shadow: 0px 1px 2px rgba(60, 64, 67, 0.3), 0px 1px 3px 1px rgba(60, 64, 67, 0.15);\n",
              "      fill: #174EA6;\n",
              "    }\n",
              "\n",
              "    [theme=dark] .colab-df-convert {\n",
              "      background-color: #3B4455;\n",
              "      fill: #D2E3FC;\n",
              "    }\n",
              "\n",
              "    [theme=dark] .colab-df-convert:hover {\n",
              "      background-color: #434B5C;\n",
              "      box-shadow: 0px 1px 3px 1px rgba(0, 0, 0, 0.15);\n",
              "      filter: drop-shadow(0px 1px 2px rgba(0, 0, 0, 0.3));\n",
              "      fill: #FFFFFF;\n",
              "    }\n",
              "  </style>\n",
              "\n",
              "      <script>\n",
              "        const buttonEl =\n",
              "          document.querySelector('#df-b96215ba-5872-4e3f-8712-325b75a39a7a button.colab-df-convert');\n",
              "        buttonEl.style.display =\n",
              "          google.colab.kernel.accessAllowed ? 'block' : 'none';\n",
              "\n",
              "        async function convertToInteractive(key) {\n",
              "          const element = document.querySelector('#df-b96215ba-5872-4e3f-8712-325b75a39a7a');\n",
              "          const dataTable =\n",
              "            await google.colab.kernel.invokeFunction('convertToInteractive',\n",
              "                                                     [key], {});\n",
              "          if (!dataTable) return;\n",
              "\n",
              "          const docLinkHtml = 'Like what you see? Visit the ' +\n",
              "            '<a target=\"_blank\" href=https://colab.research.google.com/notebooks/data_table.ipynb>data table notebook</a>'\n",
              "            + ' to learn more about interactive tables.';\n",
              "          element.innerHTML = '';\n",
              "          dataTable['output_type'] = 'display_data';\n",
              "          await google.colab.output.renderOutput(dataTable, element);\n",
              "          const docLink = document.createElement('div');\n",
              "          docLink.innerHTML = docLinkHtml;\n",
              "          element.appendChild(docLink);\n",
              "        }\n",
              "      </script>\n",
              "    </div>\n",
              "  </div>\n",
              "  "
            ]
          },
          "metadata": {},
          "execution_count": 2
        }
      ]
    },
    {
      "cell_type": "markdown",
      "source": [
        "## Explorar datos\n"
      ],
      "metadata": {
        "id": "oWuJWXgUlC7P"
      }
    },
    {
      "cell_type": "code",
      "source": [
        "print(\"Observaciones y variables: \", datos.shape)\n",
        "print(\"Columnas y tipo de dato\")\n",
        "# datos.columns\n",
        "datos.dtypes\n"
      ],
      "metadata": {
        "colab": {
          "base_uri": "https://localhost:8080/"
        },
        "id": "CE9VJG0clhT-",
        "outputId": "53f5eced-ce8f-48e7-d682-af6b05dc5c3a"
      },
      "execution_count": null,
      "outputs": [
        {
          "output_type": "stream",
          "name": "stdout",
          "text": [
            "Observaciones y variables:  (200, 5)\n",
            "Columnas y tipo de dato\n"
          ]
        },
        {
          "output_type": "execute_result",
          "data": {
            "text/plain": [
              "Unnamed: 0      int64\n",
              "TV            float64\n",
              "Radio         float64\n",
              "Newspaper     float64\n",
              "Sales         float64\n",
              "dtype: object"
            ]
          },
          "metadata": {},
          "execution_count": 3
        }
      ]
    },
    {
      "cell_type": "markdown",
      "source": [
        "Se describen las variables independientes: TV, Radio Newpaper y la variable dependiente Sales.\n",
        "\n",
        "Valor de etiqueta o variable objetivo deendiente(ventas):\n",
        "que significa el volumen de ventas del producto correspondiente\n",
        "\n",
        "Las variables independientes: (TV, Radio, Periódico):\n",
        "\n",
        "TV: para un solo producto en un mercado determinado, el costo de la publicidad en TV (en miles)\n",
        "Radio: costos de publicidad invertidos en medios de difusión\n",
        "Periódico: costos publicitarios para medios periodísticos"
      ],
      "metadata": {
        "id": "2sw__pc5jq7_"
      }
    },
    {
      "cell_type": "code",
      "source": [
        "datos[['TV','Radio', 'Newspaper', 'Sales']].describe()"
      ],
      "metadata": {
        "colab": {
          "base_uri": "https://localhost:8080/",
          "height": 300
        },
        "id": "8nlEMy3Dlo83",
        "outputId": "8b1f80e0-5984-46d4-baf4-cd804c50a2c7"
      },
      "execution_count": null,
      "outputs": [
        {
          "output_type": "execute_result",
          "data": {
            "text/plain": [
              "               TV       Radio   Newspaper       Sales\n",
              "count  200.000000  200.000000  200.000000  200.000000\n",
              "mean   147.042500   23.264000   30.554000   14.022500\n",
              "std     85.854236   14.846809   21.778621    5.217457\n",
              "min      0.700000    0.000000    0.300000    1.600000\n",
              "25%     74.375000    9.975000   12.750000   10.375000\n",
              "50%    149.750000   22.900000   25.750000   12.900000\n",
              "75%    218.825000   36.525000   45.100000   17.400000\n",
              "max    296.400000   49.600000  114.000000   27.000000"
            ],
            "text/html": [
              "\n",
              "  <div id=\"df-3df46991-b563-4ed2-88c0-ca5ce92c0df1\">\n",
              "    <div class=\"colab-df-container\">\n",
              "      <div>\n",
              "<style scoped>\n",
              "    .dataframe tbody tr th:only-of-type {\n",
              "        vertical-align: middle;\n",
              "    }\n",
              "\n",
              "    .dataframe tbody tr th {\n",
              "        vertical-align: top;\n",
              "    }\n",
              "\n",
              "    .dataframe thead th {\n",
              "        text-align: right;\n",
              "    }\n",
              "</style>\n",
              "<table border=\"1\" class=\"dataframe\">\n",
              "  <thead>\n",
              "    <tr style=\"text-align: right;\">\n",
              "      <th></th>\n",
              "      <th>TV</th>\n",
              "      <th>Radio</th>\n",
              "      <th>Newspaper</th>\n",
              "      <th>Sales</th>\n",
              "    </tr>\n",
              "  </thead>\n",
              "  <tbody>\n",
              "    <tr>\n",
              "      <th>count</th>\n",
              "      <td>200.000000</td>\n",
              "      <td>200.000000</td>\n",
              "      <td>200.000000</td>\n",
              "      <td>200.000000</td>\n",
              "    </tr>\n",
              "    <tr>\n",
              "      <th>mean</th>\n",
              "      <td>147.042500</td>\n",
              "      <td>23.264000</td>\n",
              "      <td>30.554000</td>\n",
              "      <td>14.022500</td>\n",
              "    </tr>\n",
              "    <tr>\n",
              "      <th>std</th>\n",
              "      <td>85.854236</td>\n",
              "      <td>14.846809</td>\n",
              "      <td>21.778621</td>\n",
              "      <td>5.217457</td>\n",
              "    </tr>\n",
              "    <tr>\n",
              "      <th>min</th>\n",
              "      <td>0.700000</td>\n",
              "      <td>0.000000</td>\n",
              "      <td>0.300000</td>\n",
              "      <td>1.600000</td>\n",
              "    </tr>\n",
              "    <tr>\n",
              "      <th>25%</th>\n",
              "      <td>74.375000</td>\n",
              "      <td>9.975000</td>\n",
              "      <td>12.750000</td>\n",
              "      <td>10.375000</td>\n",
              "    </tr>\n",
              "    <tr>\n",
              "      <th>50%</th>\n",
              "      <td>149.750000</td>\n",
              "      <td>22.900000</td>\n",
              "      <td>25.750000</td>\n",
              "      <td>12.900000</td>\n",
              "    </tr>\n",
              "    <tr>\n",
              "      <th>75%</th>\n",
              "      <td>218.825000</td>\n",
              "      <td>36.525000</td>\n",
              "      <td>45.100000</td>\n",
              "      <td>17.400000</td>\n",
              "    </tr>\n",
              "    <tr>\n",
              "      <th>max</th>\n",
              "      <td>296.400000</td>\n",
              "      <td>49.600000</td>\n",
              "      <td>114.000000</td>\n",
              "      <td>27.000000</td>\n",
              "    </tr>\n",
              "  </tbody>\n",
              "</table>\n",
              "</div>\n",
              "      <button class=\"colab-df-convert\" onclick=\"convertToInteractive('df-3df46991-b563-4ed2-88c0-ca5ce92c0df1')\"\n",
              "              title=\"Convert this dataframe to an interactive table.\"\n",
              "              style=\"display:none;\">\n",
              "        \n",
              "  <svg xmlns=\"http://www.w3.org/2000/svg\" height=\"24px\"viewBox=\"0 0 24 24\"\n",
              "       width=\"24px\">\n",
              "    <path d=\"M0 0h24v24H0V0z\" fill=\"none\"/>\n",
              "    <path d=\"M18.56 5.44l.94 2.06.94-2.06 2.06-.94-2.06-.94-.94-2.06-.94 2.06-2.06.94zm-11 1L8.5 8.5l.94-2.06 2.06-.94-2.06-.94L8.5 2.5l-.94 2.06-2.06.94zm10 10l.94 2.06.94-2.06 2.06-.94-2.06-.94-.94-2.06-.94 2.06-2.06.94z\"/><path d=\"M17.41 7.96l-1.37-1.37c-.4-.4-.92-.59-1.43-.59-.52 0-1.04.2-1.43.59L10.3 9.45l-7.72 7.72c-.78.78-.78 2.05 0 2.83L4 21.41c.39.39.9.59 1.41.59.51 0 1.02-.2 1.41-.59l7.78-7.78 2.81-2.81c.8-.78.8-2.07 0-2.86zM5.41 20L4 18.59l7.72-7.72 1.47 1.35L5.41 20z\"/>\n",
              "  </svg>\n",
              "      </button>\n",
              "      \n",
              "  <style>\n",
              "    .colab-df-container {\n",
              "      display:flex;\n",
              "      flex-wrap:wrap;\n",
              "      gap: 12px;\n",
              "    }\n",
              "\n",
              "    .colab-df-convert {\n",
              "      background-color: #E8F0FE;\n",
              "      border: none;\n",
              "      border-radius: 50%;\n",
              "      cursor: pointer;\n",
              "      display: none;\n",
              "      fill: #1967D2;\n",
              "      height: 32px;\n",
              "      padding: 0 0 0 0;\n",
              "      width: 32px;\n",
              "    }\n",
              "\n",
              "    .colab-df-convert:hover {\n",
              "      background-color: #E2EBFA;\n",
              "      box-shadow: 0px 1px 2px rgba(60, 64, 67, 0.3), 0px 1px 3px 1px rgba(60, 64, 67, 0.15);\n",
              "      fill: #174EA6;\n",
              "    }\n",
              "\n",
              "    [theme=dark] .colab-df-convert {\n",
              "      background-color: #3B4455;\n",
              "      fill: #D2E3FC;\n",
              "    }\n",
              "\n",
              "    [theme=dark] .colab-df-convert:hover {\n",
              "      background-color: #434B5C;\n",
              "      box-shadow: 0px 1px 3px 1px rgba(0, 0, 0, 0.15);\n",
              "      filter: drop-shadow(0px 1px 2px rgba(0, 0, 0, 0.3));\n",
              "      fill: #FFFFFF;\n",
              "    }\n",
              "  </style>\n",
              "\n",
              "      <script>\n",
              "        const buttonEl =\n",
              "          document.querySelector('#df-3df46991-b563-4ed2-88c0-ca5ce92c0df1 button.colab-df-convert');\n",
              "        buttonEl.style.display =\n",
              "          google.colab.kernel.accessAllowed ? 'block' : 'none';\n",
              "\n",
              "        async function convertToInteractive(key) {\n",
              "          const element = document.querySelector('#df-3df46991-b563-4ed2-88c0-ca5ce92c0df1');\n",
              "          const dataTable =\n",
              "            await google.colab.kernel.invokeFunction('convertToInteractive',\n",
              "                                                     [key], {});\n",
              "          if (!dataTable) return;\n",
              "\n",
              "          const docLinkHtml = 'Like what you see? Visit the ' +\n",
              "            '<a target=\"_blank\" href=https://colab.research.google.com/notebooks/data_table.ipynb>data table notebook</a>'\n",
              "            + ' to learn more about interactive tables.';\n",
              "          element.innerHTML = '';\n",
              "          dataTable['output_type'] = 'display_data';\n",
              "          await google.colab.output.renderOutput(dataTable, element);\n",
              "          const docLink = document.createElement('div');\n",
              "          docLink.innerHTML = docLinkHtml;\n",
              "          element.appendChild(docLink);\n",
              "        }\n",
              "      </script>\n",
              "    </div>\n",
              "  </div>\n",
              "  "
            ]
          },
          "metadata": {},
          "execution_count": 4
        }
      ]
    },
    {
      "cell_type": "markdown",
      "source": [
        "### Dispersión de la variables con respecto a Sales o venras\n"
      ],
      "metadata": {
        "id": "R_mqy3FhoCFx"
      }
    },
    {
      "cell_type": "code",
      "source": [
        "\n",
        "sns.pairplot(datos, x_vars=['TV','Radio','Newspaper'], y_vars='Sales', size=7, aspect=0.8,kind = 'reg')\n",
        "plt.savefig(\"pairplot.jpg\")\n",
        "plt.show()"
      ],
      "metadata": {
        "colab": {
          "base_uri": "https://localhost:8080/",
          "height": 550
        },
        "id": "MQTrlk2ZoGAq",
        "outputId": "2efb698f-aae0-4556-8211-08051ac9589e"
      },
      "execution_count": null,
      "outputs": [
        {
          "output_type": "stream",
          "name": "stderr",
          "text": [
            "/usr/local/lib/python3.7/dist-packages/seaborn/axisgrid.py:2076: UserWarning: The `size` parameter has been renamed to `height`; please update your code.\n",
            "  warnings.warn(msg, UserWarning)\n"
          ]
        },
        {
          "output_type": "display_data",
          "data": {
            "text/plain": [
              "<Figure size 1209.6x504 with 3 Axes>"
            ],
            "image/png": "[encoded data removed]"
          },
          "metadata": {
            "needs_background": "light"
          }
        }
      ]
    },
    {
      "cell_type": "markdown",
      "source": [
        "Se observa la relación lineal entre las variables independientes con respecto a ventas, de tal forma que es posible estimar visualmente que la variable Newspaper tal vez tenga poco impacto en las ventas esto por la alta dispersión de los datos. Sin embargo participará en el modelo de regresión lineal múltiple.\n"
      ],
      "metadata": {
        "id": "SOt5LG91onFP"
      }
    },
    {
      "cell_type": "markdown",
      "source": [
        "## Datos de entrenamiento y datos de validación \n"
      ],
      "metadata": {
        "id": "XzjXEppYpEg3"
      }
    },
    {
      "cell_type": "markdown",
      "source": [
        "Se identifican las variables que participan en el la partición de los datos de entrenamiento y validación.\n",
        "\n",
        "Se parten los datos 70% datos de entrenamiento y 30% datos de validación\n"
      ],
      "metadata": {
        "id": "Qmx22FFhpHaW"
      }
    },
    {
      "cell_type": "code",
      "source": [
        "datos.iloc[:, 4:5]"
      ],
      "metadata": {
        "colab": {
          "base_uri": "https://localhost:8080/",
          "height": 424
        },
        "id": "o4xOag3owuIH",
        "outputId": "5c687602-99db-477c-80d1-812a1eb563f3"
      },
      "execution_count": null,
      "outputs": [
        {
          "output_type": "execute_result",
          "data": {
            "text/plain": [
              "     Sales\n",
              "0     22.1\n",
              "1     10.4\n",
              "2      9.3\n",
              "3     18.5\n",
              "4     12.9\n",
              "..     ...\n",
              "195    7.6\n",
              "196    9.7\n",
              "197   12.8\n",
              "198   25.5\n",
              "199   13.4\n",
              "\n",
              "[200 rows x 1 columns]"
            ],
            "text/html": [
              "\n",
              "  <div id=\"df-dbd4cb8f-db0f-451d-a36a-114fe0c6b529\">\n",
              "    <div class=\"colab-df-container\">\n",
              "      <div>\n",
              "<style scoped>\n",
              "    .dataframe tbody tr th:only-of-type {\n",
              "        vertical-align: middle;\n",
              "    }\n",
              "\n",
              "    .dataframe tbody tr th {\n",
              "        vertical-align: top;\n",
              "    }\n",
              "\n",
              "    .dataframe thead th {\n",
              "        text-align: right;\n",
              "    }\n",
              "</style>\n",
              "<table border=\"1\" class=\"dataframe\">\n",
              "  <thead>\n",
              "    <tr style=\"text-align: right;\">\n",
              "      <th></th>\n",
              "      <th>Sales</th>\n",
              "    </tr>\n",
              "  </thead>\n",
              "  <tbody>\n",
              "    <tr>\n",
              "      <th>0</th>\n",
              "      <td>22.1</td>\n",
              "    </tr>\n",
              "    <tr>\n",
              "      <th>1</th>\n",
              "      <td>10.4</td>\n",
              "    </tr>\n",
              "    <tr>\n",
              "      <th>2</th>\n",
              "      <td>9.3</td>\n",
              "    </tr>\n",
              "    <tr>\n",
              "      <th>3</th>\n",
              "      <td>18.5</td>\n",
              "    </tr>\n",
              "    <tr>\n",
              "      <th>4</th>\n",
              "      <td>12.9</td>\n",
              "    </tr>\n",
              "    <tr>\n",
              "      <th>...</th>\n",
              "      <td>...</td>\n",
              "    </tr>\n",
              "    <tr>\n",
              "      <th>195</th>\n",
              "      <td>7.6</td>\n",
              "    </tr>\n",
              "    <tr>\n",
              "      <th>196</th>\n",
              "      <td>9.7</td>\n",
              "    </tr>\n",
              "    <tr>\n",
              "      <th>197</th>\n",
              "      <td>12.8</td>\n",
              "    </tr>\n",
              "    <tr>\n",
              "      <th>198</th>\n",
              "      <td>25.5</td>\n",
              "    </tr>\n",
              "    <tr>\n",
              "      <th>199</th>\n",
              "      <td>13.4</td>\n",
              "    </tr>\n",
              "  </tbody>\n",
              "</table>\n",
              "<p>200 rows × 1 columns</p>\n",
              "</div>\n",
              "      <button class=\"colab-df-convert\" onclick=\"convertToInteractive('df-dbd4cb8f-db0f-451d-a36a-114fe0c6b529')\"\n",
              "              title=\"Convert this dataframe to an interactive table.\"\n",
              "              style=\"display:none;\">\n",
              "        \n",
              "  <svg xmlns=\"http://www.w3.org/2000/svg\" height=\"24px\"viewBox=\"0 0 24 24\"\n",
              "       width=\"24px\">\n",
              "    <path d=\"M0 0h24v24H0V0z\" fill=\"none\"/>\n",
              "    <path d=\"M18.56 5.44l.94 2.06.94-2.06 2.06-.94-2.06-.94-.94-2.06-.94 2.06-2.06.94zm-11 1L8.5 8.5l.94-2.06 2.06-.94-2.06-.94L8.5 2.5l-.94 2.06-2.06.94zm10 10l.94 2.06.94-2.06 2.06-.94-2.06-.94-.94-2.06-.94 2.06-2.06.94z\"/><path d=\"M17.41 7.96l-1.37-1.37c-.4-.4-.92-.59-1.43-.59-.52 0-1.04.2-1.43.59L10.3 9.45l-7.72 7.72c-.78.78-.78 2.05 0 2.83L4 21.41c.39.39.9.59 1.41.59.51 0 1.02-.2 1.41-.59l7.78-7.78 2.81-2.81c.8-.78.8-2.07 0-2.86zM5.41 20L4 18.59l7.72-7.72 1.47 1.35L5.41 20z\"/>\n",
              "  </svg>\n",
              "      </button>\n",
              "      \n",
              "  <style>\n",
              "    .colab-df-container {\n",
              "      display:flex;\n",
              "      flex-wrap:wrap;\n",
              "      gap: 12px;\n",
              "    }\n",
              "\n",
              "    .colab-df-convert {\n",
              "      background-color: #E8F0FE;\n",
              "      border: none;\n",
              "      border-radius: 50%;\n",
              "      cursor: pointer;\n",
              "      display: none;\n",
              "      fill: #1967D2;\n",
              "      height: 32px;\n",
              "      padding: 0 0 0 0;\n",
              "      width: 32px;\n",
              "    }\n",
              "\n",
              "    .colab-df-convert:hover {\n",
              "      background-color: #E2EBFA;\n",
              "      box-shadow: 0px 1px 2px rgba(60, 64, 67, 0.3), 0px 1px 3px 1px rgba(60, 64, 67, 0.15);\n",
              "      fill: #174EA6;\n",
              "    }\n",
              "\n",
              "    [theme=dark] .colab-df-convert {\n",
              "      background-color: #3B4455;\n",
              "      fill: #D2E3FC;\n",
              "    }\n",
              "\n",
              "    [theme=dark] .colab-df-convert:hover {\n",
              "      background-color: #434B5C;\n",
              "      box-shadow: 0px 1px 3px 1px rgba(0, 0, 0, 0.15);\n",
              "      filter: drop-shadow(0px 1px 2px rgba(0, 0, 0, 0.3));\n",
              "      fill: #FFFFFF;\n",
              "    }\n",
              "  </style>\n",
              "\n",
              "      <script>\n",
              "        const buttonEl =\n",
              "          document.querySelector('#df-dbd4cb8f-db0f-451d-a36a-114fe0c6b529 button.colab-df-convert');\n",
              "        buttonEl.style.display =\n",
              "          google.colab.kernel.accessAllowed ? 'block' : 'none';\n",
              "\n",
              "        async function convertToInteractive(key) {\n",
              "          const element = document.querySelector('#df-dbd4cb8f-db0f-451d-a36a-114fe0c6b529');\n",
              "          const dataTable =\n",
              "            await google.colab.kernel.invokeFunction('convertToInteractive',\n",
              "                                                     [key], {});\n",
              "          if (!dataTable) return;\n",
              "\n",
              "          const docLinkHtml = 'Like what you see? Visit the ' +\n",
              "            '<a target=\"_blank\" href=https://colab.research.google.com/notebooks/data_table.ipynb>data table notebook</a>'\n",
              "            + ' to learn more about interactive tables.';\n",
              "          element.innerHTML = '';\n",
              "          dataTable['output_type'] = 'display_data';\n",
              "          await google.colab.output.renderOutput(dataTable, element);\n",
              "          const docLink = document.createElement('div');\n",
              "          docLink.innerHTML = docLinkHtml;\n",
              "          element.appendChild(docLink);\n",
              "        }\n",
              "      </script>\n",
              "    </div>\n",
              "  </div>\n",
              "  "
            ]
          },
          "metadata": {},
          "execution_count": 6
        }
      ]
    },
    {
      "cell_type": "code",
      "source": [
        "print(\"Variables independientes \")\n",
        "X_independientes = datos.iloc[:,1:4]\n",
        "X_independientes\n",
        "\n",
        "\n"
      ],
      "metadata": {
        "colab": {
          "base_uri": "https://localhost:8080/",
          "height": 441
        },
        "id": "BLoaopOkp1sI",
        "outputId": "01848a33-9471-47e8-ad15-ce0b1ff2c172"
      },
      "execution_count": null,
      "outputs": [
        {
          "output_type": "stream",
          "name": "stdout",
          "text": [
            "Variables independientes \n"
          ]
        },
        {
          "output_type": "execute_result",
          "data": {
            "text/plain": [
              "        TV  Radio  Newspaper\n",
              "0    230.1   37.8       69.2\n",
              "1     44.5   39.3       45.1\n",
              "2     17.2   45.9       69.3\n",
              "3    151.5   41.3       58.5\n",
              "4    180.8   10.8       58.4\n",
              "..     ...    ...        ...\n",
              "195   38.2    3.7       13.8\n",
              "196   94.2    4.9        8.1\n",
              "197  177.0    9.3        6.4\n",
              "198  283.6   42.0       66.2\n",
              "199  232.1    8.6        8.7\n",
              "\n",
              "[200 rows x 3 columns]"
            ],
            "text/html": [
              "\n",
              "  <div id=\"df-21007c4f-8e59-47b8-b526-01fa2af7c3c9\">\n",
              "    <div class=\"colab-df-container\">\n",
              "      <div>\n",
              "<style scoped>\n",
              "    .dataframe tbody tr th:only-of-type {\n",
              "        vertical-align: middle;\n",
              "    }\n",
              "\n",
              "    .dataframe tbody tr th {\n",
              "        vertical-align: top;\n",
              "    }\n",
              "\n",
              "    .dataframe thead th {\n",
              "        text-align: right;\n",
              "    }\n",
              "</style>\n",
              "<table border=\"1\" class=\"dataframe\">\n",
              "  <thead>\n",
              "    <tr style=\"text-align: right;\">\n",
              "      <th></th>\n",
              "      <th>TV</th>\n",
              "      <th>Radio</th>\n",
              "      <th>Newspaper</th>\n",
              "    </tr>\n",
              "  </thead>\n",
              "  <tbody>\n",
              "    <tr>\n",
              "      <th>0</th>\n",
              "      <td>230.1</td>\n",
              "      <td>37.8</td>\n",
              "      <td>69.2</td>\n",
              "    </tr>\n",
              "    <tr>\n",
              "      <th>1</th>\n",
              "      <td>44.5</td>\n",
              "      <td>39.3</td>\n",
              "      <td>45.1</td>\n",
              "    </tr>\n",
              "    <tr>\n",
              "      <th>2</th>\n",
              "      <td>17.2</td>\n",
              "      <td>45.9</td>\n",
              "      <td>69.3</td>\n",
              "    </tr>\n",
              "    <tr>\n",
              "      <th>3</th>\n",
              "      <td>151.5</td>\n",
              "      <td>41.3</td>\n",
              "      <td>58.5</td>\n",
              "    </tr>\n",
              "    <tr>\n",
              "      <th>4</th>\n",
              "      <td>180.8</td>\n",
              "      <td>10.8</td>\n",
              "      <td>58.4</td>\n",
              "    </tr>\n",
              "    <tr>\n",
              "      <th>...</th>\n",
              "      <td>...</td>\n",
              "      <td>...</td>\n",
              "      <td>...</td>\n",
              "    </tr>\n",
              "    <tr>\n",
              "      <th>195</th>\n",
              "      <td>38.2</td>\n",
              "      <td>3.7</td>\n",
              "      <td>13.8</td>\n",
              "    </tr>\n",
              "    <tr>\n",
              "      <th>196</th>\n",
              "      <td>94.2</td>\n",
              "      <td>4.9</td>\n",
              "      <td>8.1</td>\n",
              "    </tr>\n",
              "    <tr>\n",
              "      <th>197</th>\n",
              "      <td>177.0</td>\n",
              "      <td>9.3</td>\n",
              "      <td>6.4</td>\n",
              "    </tr>\n",
              "    <tr>\n",
              "      <th>198</th>\n",
              "      <td>283.6</td>\n",
              "      <td>42.0</td>\n",
              "      <td>66.2</td>\n",
              "    </tr>\n",
              "    <tr>\n",
              "      <th>199</th>\n",
              "      <td>232.1</td>\n",
              "      <td>8.6</td>\n",
              "      <td>8.7</td>\n",
              "    </tr>\n",
              "  </tbody>\n",
              "</table>\n",
              "<p>200 rows × 3 columns</p>\n",
              "</div>\n",
              "      <button class=\"colab-df-convert\" onclick=\"convertToInteractive('df-21007c4f-8e59-47b8-b526-01fa2af7c3c9')\"\n",
              "              title=\"Convert this dataframe to an interactive table.\"\n",
              "              style=\"display:none;\">\n",
              "        \n",
              "  <svg xmlns=\"http://www.w3.org/2000/svg\" height=\"24px\"viewBox=\"0 0 24 24\"\n",
              "       width=\"24px\">\n",
              "    <path d=\"M0 0h24v24H0V0z\" fill=\"none\"/>\n",
              "    <path d=\"M18.56 5.44l.94 2.06.94-2.06 2.06-.94-2.06-.94-.94-2.06-.94 2.06-2.06.94zm-11 1L8.5 8.5l.94-2.06 2.06-.94-2.06-.94L8.5 2.5l-.94 2.06-2.06.94zm10 10l.94 2.06.94-2.06 2.06-.94-2.06-.94-.94-2.06-.94 2.06-2.06.94z\"/><path d=\"M17.41 7.96l-1.37-1.37c-.4-.4-.92-.59-1.43-.59-.52 0-1.04.2-1.43.59L10.3 9.45l-7.72 7.72c-.78.78-.78 2.05 0 2.83L4 21.41c.39.39.9.59 1.41.59.51 0 1.02-.2 1.41-.59l7.78-7.78 2.81-2.81c.8-.78.8-2.07 0-2.86zM5.41 20L4 18.59l7.72-7.72 1.47 1.35L5.41 20z\"/>\n",
              "  </svg>\n",
              "      </button>\n",
              "      \n",
              "  <style>\n",
              "    .colab-df-container {\n",
              "      display:flex;\n",
              "      flex-wrap:wrap;\n",
              "      gap: 12px;\n",
              "    }\n",
              "\n",
              "    .colab-df-convert {\n",
              "      background-color: #E8F0FE;\n",
              "      border: none;\n",
              "      border-radius: 50%;\n",
              "      cursor: pointer;\n",
              "      display: none;\n",
              "      fill: #1967D2;\n",
              "      height: 32px;\n",
              "      padding: 0 0 0 0;\n",
              "      width: 32px;\n",
              "    }\n",
              "\n",
              "    .colab-df-convert:hover {\n",
              "      background-color: #E2EBFA;\n",
              "      box-shadow: 0px 1px 2px rgba(60, 64, 67, 0.3), 0px 1px 3px 1px rgba(60, 64, 67, 0.15);\n",
              "      fill: #174EA6;\n",
              "    }\n",
              "\n",
              "    [theme=dark] .colab-df-convert {\n",
              "      background-color: #3B4455;\n",
              "      fill: #D2E3FC;\n",
              "    }\n",
              "\n",
              "    [theme=dark] .colab-df-convert:hover {\n",
              "      background-color: #434B5C;\n",
              "      box-shadow: 0px 1px 3px 1px rgba(0, 0, 0, 0.15);\n",
              "      filter: drop-shadow(0px 1px 2px rgba(0, 0, 0, 0.3));\n",
              "      fill: #FFFFFF;\n",
              "    }\n",
              "  </style>\n",
              "\n",
              "      <script>\n",
              "        const buttonEl =\n",
              "          document.querySelector('#df-21007c4f-8e59-47b8-b526-01fa2af7c3c9 button.colab-df-convert');\n",
              "        buttonEl.style.display =\n",
              "          google.colab.kernel.accessAllowed ? 'block' : 'none';\n",
              "\n",
              "        async function convertToInteractive(key) {\n",
              "          const element = document.querySelector('#df-21007c4f-8e59-47b8-b526-01fa2af7c3c9');\n",
              "          const dataTable =\n",
              "            await google.colab.kernel.invokeFunction('convertToInteractive',\n",
              "                                                     [key], {});\n",
              "          if (!dataTable) return;\n",
              "\n",
              "          const docLinkHtml = 'Like what you see? Visit the ' +\n",
              "            '<a target=\"_blank\" href=https://colab.research.google.com/notebooks/data_table.ipynb>data table notebook</a>'\n",
              "            + ' to learn more about interactive tables.';\n",
              "          element.innerHTML = '';\n",
              "          dataTable['output_type'] = 'display_data';\n",
              "          await google.colab.output.renderOutput(dataTable, element);\n",
              "          const docLink = document.createElement('div');\n",
              "          docLink.innerHTML = docLinkHtml;\n",
              "          element.appendChild(docLink);\n",
              "        }\n",
              "      </script>\n",
              "    </div>\n",
              "  </div>\n",
              "  "
            ]
          },
          "metadata": {},
          "execution_count": 7
        }
      ]
    },
    {
      "cell_type": "code",
      "source": [
        "print (\"Variable dependiente\")\n",
        "Y_dependiente = datos.iloc[:, 4:5]\n",
        "Y_dependiente"
      ],
      "metadata": {
        "colab": {
          "base_uri": "https://localhost:8080/",
          "height": 441
        },
        "id": "z5rtzG_DHNUu",
        "outputId": "5bd6aa06-dd83-4094-c5de-af80e6b898bd"
      },
      "execution_count": null,
      "outputs": [
        {
          "output_type": "stream",
          "name": "stdout",
          "text": [
            "Variable dependiente\n"
          ]
        },
        {
          "output_type": "execute_result",
          "data": {
            "text/plain": [
              "     Sales\n",
              "0     22.1\n",
              "1     10.4\n",
              "2      9.3\n",
              "3     18.5\n",
              "4     12.9\n",
              "..     ...\n",
              "195    7.6\n",
              "196    9.7\n",
              "197   12.8\n",
              "198   25.5\n",
              "199   13.4\n",
              "\n",
              "[200 rows x 1 columns]"
            ],
            "text/html": [
              "\n",
              "  <div id=\"df-437a6489-c15e-432c-a8d5-8cb5fe6585bf\">\n",
              "    <div class=\"colab-df-container\">\n",
              "      <div>\n",
              "<style scoped>\n",
              "    .dataframe tbody tr th:only-of-type {\n",
              "        vertical-align: middle;\n",
              "    }\n",
              "\n",
              "    .dataframe tbody tr th {\n",
              "        vertical-align: top;\n",
              "    }\n",
              "\n",
              "    .dataframe thead th {\n",
              "        text-align: right;\n",
              "    }\n",
              "</style>\n",
              "<table border=\"1\" class=\"dataframe\">\n",
              "  <thead>\n",
              "    <tr style=\"text-align: right;\">\n",
              "      <th></th>\n",
              "      <th>Sales</th>\n",
              "    </tr>\n",
              "  </thead>\n",
              "  <tbody>\n",
              "    <tr>\n",
              "      <th>0</th>\n",
              "      <td>22.1</td>\n",
              "    </tr>\n",
              "    <tr>\n",
              "      <th>1</th>\n",
              "      <td>10.4</td>\n",
              "    </tr>\n",
              "    <tr>\n",
              "      <th>2</th>\n",
              "      <td>9.3</td>\n",
              "    </tr>\n",
              "    <tr>\n",
              "      <th>3</th>\n",
              "      <td>18.5</td>\n",
              "    </tr>\n",
              "    <tr>\n",
              "      <th>4</th>\n",
              "      <td>12.9</td>\n",
              "    </tr>\n",
              "    <tr>\n",
              "      <th>...</th>\n",
              "      <td>...</td>\n",
              "    </tr>\n",
              "    <tr>\n",
              "      <th>195</th>\n",
              "      <td>7.6</td>\n",
              "    </tr>\n",
              "    <tr>\n",
              "      <th>196</th>\n",
              "      <td>9.7</td>\n",
              "    </tr>\n",
              "    <tr>\n",
              "      <th>197</th>\n",
              "      <td>12.8</td>\n",
              "    </tr>\n",
              "    <tr>\n",
              "      <th>198</th>\n",
              "      <td>25.5</td>\n",
              "    </tr>\n",
              "    <tr>\n",
              "      <th>199</th>\n",
              "      <td>13.4</td>\n",
              "    </tr>\n",
              "  </tbody>\n",
              "</table>\n",
              "<p>200 rows × 1 columns</p>\n",
              "</div>\n",
              "      <button class=\"colab-df-convert\" onclick=\"convertToInteractive('df-437a6489-c15e-432c-a8d5-8cb5fe6585bf')\"\n",
              "              title=\"Convert this dataframe to an interactive table.\"\n",
              "              style=\"display:none;\">\n",
              "        \n",
              "  <svg xmlns=\"http://www.w3.org/2000/svg\" height=\"24px\"viewBox=\"0 0 24 24\"\n",
              "       width=\"24px\">\n",
              "    <path d=\"M0 0h24v24H0V0z\" fill=\"none\"/>\n",
              "    <path d=\"M18.56 5.44l.94 2.06.94-2.06 2.06-.94-2.06-.94-.94-2.06-.94 2.06-2.06.94zm-11 1L8.5 8.5l.94-2.06 2.06-.94-2.06-.94L8.5 2.5l-.94 2.06-2.06.94zm10 10l.94 2.06.94-2.06 2.06-.94-2.06-.94-.94-2.06-.94 2.06-2.06.94z\"/><path d=\"M17.41 7.96l-1.37-1.37c-.4-.4-.92-.59-1.43-.59-.52 0-1.04.2-1.43.59L10.3 9.45l-7.72 7.72c-.78.78-.78 2.05 0 2.83L4 21.41c.39.39.9.59 1.41.59.51 0 1.02-.2 1.41-.59l7.78-7.78 2.81-2.81c.8-.78.8-2.07 0-2.86zM5.41 20L4 18.59l7.72-7.72 1.47 1.35L5.41 20z\"/>\n",
              "  </svg>\n",
              "      </button>\n",
              "      \n",
              "  <style>\n",
              "    .colab-df-container {\n",
              "      display:flex;\n",
              "      flex-wrap:wrap;\n",
              "      gap: 12px;\n",
              "    }\n",
              "\n",
              "    .colab-df-convert {\n",
              "      background-color: #E8F0FE;\n",
              "      border: none;\n",
              "      border-radius: 50%;\n",
              "      cursor: pointer;\n",
              "      display: none;\n",
              "      fill: #1967D2;\n",
              "      height: 32px;\n",
              "      padding: 0 0 0 0;\n",
              "      width: 32px;\n",
              "    }\n",
              "\n",
              "    .colab-df-convert:hover {\n",
              "      background-color: #E2EBFA;\n",
              "      box-shadow: 0px 1px 2px rgba(60, 64, 67, 0.3), 0px 1px 3px 1px rgba(60, 64, 67, 0.15);\n",
              "      fill: #174EA6;\n",
              "    }\n",
              "\n",
              "    [theme=dark] .colab-df-convert {\n",
              "      background-color: #3B4455;\n",
              "      fill: #D2E3FC;\n",
              "    }\n",
              "\n",
              "    [theme=dark] .colab-df-convert:hover {\n",
              "      background-color: #434B5C;\n",
              "      box-shadow: 0px 1px 3px 1px rgba(0, 0, 0, 0.15);\n",
              "      filter: drop-shadow(0px 1px 2px rgba(0, 0, 0, 0.3));\n",
              "      fill: #FFFFFF;\n",
              "    }\n",
              "  </style>\n",
              "\n",
              "      <script>\n",
              "        const buttonEl =\n",
              "          document.querySelector('#df-437a6489-c15e-432c-a8d5-8cb5fe6585bf button.colab-df-convert');\n",
              "        buttonEl.style.display =\n",
              "          google.colab.kernel.accessAllowed ? 'block' : 'none';\n",
              "\n",
              "        async function convertToInteractive(key) {\n",
              "          const element = document.querySelector('#df-437a6489-c15e-432c-a8d5-8cb5fe6585bf');\n",
              "          const dataTable =\n",
              "            await google.colab.kernel.invokeFunction('convertToInteractive',\n",
              "                                                     [key], {});\n",
              "          if (!dataTable) return;\n",
              "\n",
              "          const docLinkHtml = 'Like what you see? Visit the ' +\n",
              "            '<a target=\"_blank\" href=https://colab.research.google.com/notebooks/data_table.ipynb>data table notebook</a>'\n",
              "            + ' to learn more about interactive tables.';\n",
              "          element.innerHTML = '';\n",
              "          dataTable['output_type'] = 'display_data';\n",
              "          await google.colab.output.renderOutput(dataTable, element);\n",
              "          const docLink = document.createElement('div');\n",
              "          docLink.innerHTML = docLinkHtml;\n",
              "          element.appendChild(docLink);\n",
              "        }\n",
              "      </script>\n",
              "    </div>\n",
              "  </div>\n",
              "  "
            ]
          },
          "metadata": {},
          "execution_count": 8
        }
      ]
    },
    {
      "cell_type": "code",
      "source": [
        "\n",
        "X_entrena,X_valida,Y_entrena,Y_valida = train_test_split(X_independientes, Y_dependiente,train_size=.70,  random_state=4421)\n",
        " \n",
        "\n"
      ],
      "metadata": {
        "id": "Yb0TOjVMpI82"
      },
      "execution_count": null,
      "outputs": []
    },
    {
      "cell_type": "markdown",
      "source": [
        "### Datos de entrenamiento\n",
        "\n",
        "Variables independientes\n"
      ],
      "metadata": {
        "id": "jvkhnYV0x1uO"
      }
    },
    {
      "cell_type": "code",
      "source": [
        "print(\"Estructura de datos de entrenamiento... \", X_entrena.shape)\n",
        "print(X_entrena)\n",
        "print(X_entrena[['TV']], X_entrena[['Radio']], X_entrena[['Newspaper']])\n"
      ],
      "metadata": {
        "colab": {
          "base_uri": "https://localhost:8080/"
        },
        "id": "5RoiP479x3rP",
        "outputId": "5475a585-0630-4a5d-e147-9bdade4cf890"
      },
      "execution_count": null,
      "outputs": [
        {
          "output_type": "stream",
          "name": "stdout",
          "text": [
            "Estructura de datos de entrenamiento...  (140, 3)\n",
            "        TV  Radio  Newspaper\n",
            "2     17.2   45.9       69.3\n",
            "133  219.8   33.5       45.1\n",
            "10    66.1    5.8       24.2\n",
            "110  225.8    8.2       56.5\n",
            "5      8.7   48.9       75.0\n",
            "..     ...    ...        ...\n",
            "22    13.2   15.9       49.6\n",
            "56     7.3   28.1       41.4\n",
            "157  149.8    1.3       24.3\n",
            "185  205.0   45.1       19.6\n",
            "30   292.9   28.3       43.2\n",
            "\n",
            "[140 rows x 3 columns]\n",
            "        TV\n",
            "2     17.2\n",
            "133  219.8\n",
            "10    66.1\n",
            "110  225.8\n",
            "5      8.7\n",
            "..     ...\n",
            "22    13.2\n",
            "56     7.3\n",
            "157  149.8\n",
            "185  205.0\n",
            "30   292.9\n",
            "\n",
            "[140 rows x 1 columns]      Radio\n",
            "2     45.9\n",
            "133   33.5\n",
            "10     5.8\n",
            "110    8.2\n",
            "5     48.9\n",
            "..     ...\n",
            "22    15.9\n",
            "56    28.1\n",
            "157    1.3\n",
            "185   45.1\n",
            "30    28.3\n",
            "\n",
            "[140 rows x 1 columns]      Newspaper\n",
            "2         69.3\n",
            "133       45.1\n",
            "10        24.2\n",
            "110       56.5\n",
            "5         75.0\n",
            "..         ...\n",
            "22        49.6\n",
            "56        41.4\n",
            "157       24.3\n",
            "185       19.6\n",
            "30        43.2\n",
            "\n",
            "[140 rows x 1 columns]\n"
          ]
        }
      ]
    },
    {
      "cell_type": "markdown",
      "source": [
        "## Creando el modelo\n",
        "Crear a partir de los datos de entrenamiento el modelo de regresión lineal múltiple.\n",
        "\n",
        "Se muestran los coeficientes: \n",
        "\n"
      ],
      "metadata": {
        "id": "pKRzMXkyHa1G"
      }
    },
    {
      "cell_type": "code",
      "source": [
        "modelo_rm = LinearRegression()\n",
        " \n",
        "modelo_rm.fit(X_entrena,Y_entrena)\n",
        " \n",
        "print (\"Intercepción o b0\") \n",
        "b0 = modelo_rm.intercept_\n",
        "print (b0)\n",
        "\n",
        "print (\"Coeficientes: b1, b2 y b3\") \n",
        "# print (modelo_rm.coef_)\n",
        "b1 = modelo_rm.coef_[0, 0:1]\n",
        "b2 = modelo_rm.coef_[0, 1:2]\n",
        "b3 = modelo_rm.coef_[0, 2:3]\n",
        "print (b1, b2, b3)\n"
      ],
      "metadata": {
        "colab": {
          "base_uri": "https://localhost:8080/"
        },
        "id": "6oxvW4hfHhMW",
        "outputId": "fbfdeea0-1fd9-4fec-e387-30ac7b43e597"
      },
      "execution_count": null,
      "outputs": [
        {
          "output_type": "stream",
          "name": "stdout",
          "text": [
            "Intercepción o b0\n",
            "[2.99933863]\n",
            "Coeficientes: b1, b2 y b3\n",
            "[0.04578156] [0.19228539] [-0.0076749]\n"
          ]
        }
      ]
    },
    {
      "cell_type": "markdown",
      "source": [
        ""
      ],
      "metadata": {
        "id": "FvbdW2Zdmw9s"
      }
    },
    {
      "cell_type": "markdown",
      "source": [
        "$$PrediccionY = b_0 + b_1{x_1} + b_2{x_2} + b_3{x_3}$$\n"
      ],
      "metadata": {
        "id": "F2B0v-erIbvG"
      }
    },
    {
      "cell_type": "markdown",
      "source": [
        "## R Square y R Square ajustado a a partir del modelo\n",
        "\n",
        "Sobrepasa el 80% de tal forma que el el modelo **SE ACEPA** por este criterio"
      ],
      "metadata": {
        "id": "s04ZxhJVmz-k"
      }
    },
    {
      "cell_type": "code",
      "source": [
        "print(modelo_rm.score(X_entrena, Y_entrena))"
      ],
      "metadata": {
        "colab": {
          "base_uri": "https://localhost:8080/"
        },
        "id": "DTPmWLanm49D",
        "outputId": "7f2a3d2c-87d5-488d-d796-72fefa646c20"
      },
      "execution_count": null,
      "outputs": [
        {
          "output_type": "stream",
          "name": "stdout",
          "text": [
            "0.9036747498931927\n"
          ]
        }
      ]
    },
    {
      "cell_type": "markdown",
      "source": [
        "## Predicciones\n",
        "\n",
        "Se generan las predicciones a partir de los datos de validación, por lo que resulta las estimaciones con la función *predict()* del modelo de regresión múltiple."
      ],
      "metadata": {
        "id": "CYfEDBy-Sc_P"
      }
    },
    {
      "cell_type": "code",
      "source": [
        "predicciones = modelo_rm.predict(X_valida)\n",
        "print(predicciones[:-1])\n",
        "print(predicciones.shape)"
      ],
      "metadata": {
        "colab": {
          "base_uri": "https://localhost:8080/"
        },
        "id": "NIAjTag4ShRU",
        "outputId": "60c77560-871b-428c-ed82-d6df7be1b476"
      },
      "execution_count": null,
      "outputs": [
        {
          "output_type": "stream",
          "name": "stdout",
          "text": [
            "[[16.31554142]\n",
            " [13.73438625]\n",
            " [14.14140344]\n",
            " [16.65214843]\n",
            " [ 6.53728939]\n",
            " [17.60517073]\n",
            " [ 5.66897981]\n",
            " [18.48412981]\n",
            " [20.44109624]\n",
            " [ 9.15479357]\n",
            " [14.26694071]\n",
            " [17.78183833]\n",
            " [ 8.62009962]\n",
            " [12.36854026]\n",
            " [ 6.00251424]\n",
            " [ 9.7803366 ]\n",
            " [19.00232586]\n",
            " [11.38178971]\n",
            " [12.7630549 ]\n",
            " [11.45991927]\n",
            " [15.56737626]\n",
            " [ 8.48647908]\n",
            " [17.42764947]\n",
            " [ 4.40711757]\n",
            " [11.92533507]\n",
            " [ 9.0616781 ]\n",
            " [19.14754647]\n",
            " [21.82019248]\n",
            " [17.22798772]\n",
            " [15.32840244]\n",
            " [20.62084245]\n",
            " [16.14568302]\n",
            " [20.62860713]\n",
            " [10.42357667]\n",
            " [20.02269596]\n",
            " [18.2465554 ]\n",
            " [23.60216217]\n",
            " [23.06851095]\n",
            " [23.88332847]\n",
            " [24.00297301]\n",
            " [14.18276464]\n",
            " [19.79211937]\n",
            " [10.33238076]\n",
            " [17.50393154]\n",
            " [12.47702696]\n",
            " [14.4829224 ]\n",
            " [ 8.9949468 ]\n",
            " [16.41704052]\n",
            " [13.88412282]\n",
            " [18.18610571]\n",
            " [14.18537916]\n",
            " [15.10035129]\n",
            " [10.57911559]\n",
            " [10.10064902]\n",
            " [16.0560401 ]\n",
            " [13.98593367]\n",
            " [ 8.13387489]\n",
            " [ 9.58551285]\n",
            " [16.47411083]]\n",
            "(60, 1)\n"
          ]
        }
      ]
    },
    {
      "cell_type": "markdown",
      "source": [
        "## Determinando métricas\n",
        "\n",
        "Crear un data.frame llamado comparaciones a partir de la creación de un diccionario con los valores reales del conjunto de entrenamiento y las predicciones calculadas.\n",
        "\n",
        "Se usa el *type()* para conocer el tipo de estructura de datos\n",
        "\n",
        "Se usa el *assign()* para agregar columnas al df comparaciones\n",
        "\n",
        "Se usa *flatten().tolist()* para convertir a una lsita de una dimensión.\n",
        "\n",
        "Al final se tiene un *data.frame * llamado comparaciones que las últimas columnas tienen los valores reales de 'Sales' y las predicciiones en la variable 'Predicho'.\n"
      ],
      "metadata": {
        "id": "lrqxb2xtS33m"
      }
    },
    {
      "cell_type": "code",
      "source": [
        "print(type(X_valida))\n",
        "# print(X_valida)\n",
        "\n",
        "print(type(predicciones))\n",
        "# print(predicciones)\n",
        "\n",
        "\n",
        "comparaciones = pd.DataFrame(X_valida)\n",
        "comparaciones = comparaciones.assign(Sales_Real = Y_valida)\n",
        "comparaciones = comparaciones.assign(Predicho = predicciones.flatten().tolist())\n",
        "print(comparaciones)"
      ],
      "metadata": {
        "colab": {
          "base_uri": "https://localhost:8080/"
        },
        "id": "c6PJyA_YS8F-",
        "outputId": "a9b74654-d7d6-4ce4-ff58-3a41fd661125"
      },
      "execution_count": null,
      "outputs": [
        {
          "output_type": "stream",
          "name": "stdout",
          "text": [
            "<class 'pandas.core.frame.DataFrame'>\n",
            "<class 'numpy.ndarray'>\n",
            "        TV  Radio  Newspaper  Sales_Real   Predicho\n",
            "40   202.5   22.3       31.6        16.6  16.315541\n",
            "174  222.4    3.4       13.1        11.5  13.734386\n",
            "160  172.5   18.1       30.7        14.4  14.141403\n",
            "194  149.7   35.6        6.0        17.3  16.652148\n",
            "117   76.4    0.8       14.8         9.4   6.537289\n",
            "102  280.2   10.1       21.4        14.8  17.605171\n",
            "60    53.5    2.0       21.4         8.1   5.668980\n",
            "184  253.8   21.3       30.0        17.6  18.484130\n",
            "39   228.0   37.7       32.0        21.5  20.441096\n",
            "66    31.5   24.6        2.2         9.5   9.154794\n",
            "120  141.3   26.8       46.2        15.5  14.266941\n",
            "105  137.9   46.4       59.0        19.2  17.781838\n",
            "143  104.6    5.7       34.4        10.4   8.620100\n",
            "179  165.6   10.0       17.6        12.6  12.368540\n",
            "189   18.7   12.1       23.4         6.7   6.002514\n",
            "151  121.0    8.4       48.7        11.6   9.780337\n",
            "33   265.6   20.0        0.3        17.4  19.002326\n",
            "88    88.3   25.5       73.4        12.9  11.381790\n",
            "115   75.1   35.0       52.7        12.6  12.763055\n",
            "80    76.4   26.7       22.3        11.8  11.459919\n",
            "37    74.7   49.4       45.7        14.7  15.567376\n",
            "191   75.5   10.8        6.0         9.9   8.486479\n",
            "3    151.5   41.3       58.5        18.5  17.427649\n",
            "76    27.5    1.6       20.7         6.9   4.407118\n",
            "116  139.2   14.3       25.6        12.2  11.925335\n",
            "125   87.2   11.8       25.9        10.6   9.061678\n",
            "124  229.5   32.3       74.2        19.7  19.147546\n",
            "47   239.9   41.5       18.5        23.2  21.820192\n",
            "41   177.0   33.4       38.7        17.1  17.227988\n",
            "146  240.1    7.3        8.7        13.2  15.328402\n",
            "52   216.4   41.7       39.6        22.6  20.620842\n",
            "95   163.3   31.6       52.9        16.9  16.145683\n",
            "137  273.7   28.9       59.7        20.8  20.628607\n",
            "72    26.8   33.0       19.3         8.8  10.423577\n",
            "176  248.4   30.2       20.3        20.2  20.022696\n",
            "59   210.7   29.5        9.3        18.4  18.246555\n",
            "36   266.9   43.8        5.0        25.4  23.602162\n",
            "17   281.4   39.6       55.8        24.4  23.068511\n",
            "183  287.6   43.0       71.8        26.2  23.883328\n",
            "98   289.7   42.3       51.2        25.4  24.002973\n",
            "135   48.3   47.0        8.5        11.6  14.182765\n",
            "53   182.6   46.2       58.7        21.2  19.792119\n",
            "12    23.8   35.1       65.9         9.2  10.332381\n",
            "163  163.5   36.8        7.4        18.0  17.503932\n",
            "50   199.8    3.1       34.6        11.4  12.477027\n",
            "81   239.8    4.1       36.9        12.3  14.482922\n",
            "29    70.6   16.0       40.8        10.5   8.994947\n",
            "152  197.6   23.3       14.2        16.6  16.417041\n",
            "43   206.9    8.4       26.4        12.9  13.884123\n",
            "153  171.3   39.7       37.7        19.0  18.186106\n",
            "171  164.5   20.9       47.4        14.5  14.185379\n",
            "45   175.1   22.5       31.5        14.9  15.100351\n",
            "130    0.7   39.6        8.7         1.6  10.579116\n",
            "82    75.3   20.3       32.5        11.3  10.100649\n",
            "48   227.2   15.8       49.9        14.8  16.056040\n",
            "112  175.7   15.4        2.4        14.1  13.985934\n",
            "24    62.3   12.6       18.3         9.7   8.133875\n",
            "186  139.5    2.1       26.6        10.3   9.585513\n",
            "113  209.6   20.6       10.7        15.9  16.474111\n",
            "150  280.7   13.9       37.0        16.1  18.239017\n"
          ]
        }
      ]
    },
    {
      "cell_type": "markdown",
      "source": [
        "#### R Square\n",
        "\n",
        "Se obtienen el R Square con las predicciones"
      ],
      "metadata": {
        "id": "HFSdOMhsllw9"
      }
    },
    {
      "cell_type": "code",
      "source": [
        "print('R Square :', r2_score(comparaciones['Sales_Real'], comparaciones['Predicho'] ))\n"
      ],
      "metadata": {
        "colab": {
          "base_uri": "https://localhost:8080/"
        },
        "id": "sUtKqB-4lntE",
        "outputId": "434958c4-ce5a-403d-d24f-71c3ce504414"
      },
      "execution_count": null,
      "outputs": [
        {
          "output_type": "stream",
          "name": "stdout",
          "text": [
            "R Square : 0.8747511975355455\n"
          ]
        }
      ]
    },
    {
      "cell_type": "markdown",
      "source": [
        "El valor de *R Square* ESTÁ POR ENCIMA del 80%, por lo cual, por este criterio el modelo **SI SE ACEPTA.**"
      ],
      "metadata": {
        "id": "rjmpOJX7l1S7"
      }
    },
    {
      "cell_type": "markdown",
      "source": [
        "#### rmse\n",
        "\n",
        "$$\n",
        "rmse = \\sqrt{\\frac{\\sum(predicho_i - real_i)^{2}}{n}}\n",
        "$$\n",
        "\n",
        "\n"
      ],
      "metadata": {
        "id": "OVV6VLqeqTVc"
      }
    },
    {
      "cell_type": "code",
      "source": [
        "print('Mean Squared Error: MSE', metrics.mean_squared_error(Y_valida, predicciones))\n",
        "print('Root Mean Squared Error RMSE:', np.sqrt(metrics.mean_squared_error(Y_valida, predicciones)))\n"
      ],
      "metadata": {
        "colab": {
          "base_uri": "https://localhost:8080/"
        },
        "id": "aLSUj7feqiRW",
        "outputId": "1f0622d1-c3d5-4111-db27-3d004b8dc073"
      },
      "execution_count": null,
      "outputs": [
        {
          "output_type": "stream",
          "name": "stdout",
          "text": [
            "Mean Squared Error: MSE 3.261014003951915\n",
            "Root Mean Squared Error RMSE: 1.8058277891183077\n"
          ]
        }
      ]
    },
    {
      "cell_type": "markdown",
      "source": [
        "Habrá que comparar e valor de RMSE con otro modelo y será más eficiente aquel que se acerque a cero\n"
      ],
      "metadata": {
        "id": "OZ98uBrYq5ml"
      }
    },
    {
      "cell_type": "markdown",
      "source": [
        "### Valores Reales Sales Vs Prediciones\n",
        "\n",
        "Se visualiza y se compara los valores reales contra las predicciones\n",
        "\n",
        "Se extraen los valores reales, en 'rojo' los valores rales de las ventas *Sales*\n",
        "\n",
        "En azul las predicciones\n",
        "\n"
      ],
      "metadata": {
        "id": "h7ZnL_6BrCJj"
      }
    },
    {
      "cell_type": "code",
      "source": [
        "y1 = Y_valida.values\n",
        "y2 = predicciones.flatten().tolist()\n",
        "# Plot list 'y'\n",
        "plt.plot(y1, 'b')\n",
        "plt.plot(y2, 'r')\n",
        "\n",
        "\n",
        "# Plot axes labels and show the plot\n",
        "plt.xlabel('Observaciones')\n",
        "plt.ylabel('Sales Reales Vs Predicciones')\n",
        "plt.show()"
      ],
      "metadata": {
        "colab": {
          "base_uri": "https://localhost:8080/",
          "height": 279
        },
        "id": "KyHLszNVrRst",
        "outputId": "18087ff3-e543-49f9-d297-89d54e8d3561"
      },
      "execution_count": null,
      "outputs": [
        {
          "output_type": "display_data",
          "data": {
            "text/plain": [
              "<Figure size 432x288 with 1 Axes>"
            ],
            "image/png": "[encoded data removed]"
          },
          "metadata": {
            "needs_background": "light"
          }
        }
      ]
    },
    {
      "cell_type": "markdown",
      "source": [
        "# Interpretación "
      ],
      "metadata": {
        "id": "c_VbxKgzqXfc"
      }
    },
    {
      "cell_type": "markdown",
      "source": [
        "Se realizo  el análisis de los datos por el modelo de regresión lineal multiple. El análisis de datos fue con el conjunto de datos de “Advertising”. \n",
        "Los datos se encuentran en la dirección https://raw.githubusercontent.com/rpizarrog/Analisis-Inteligente-de-datos/main/datos/Advertising.csv contiene dentro del conjunto de datos 200 renglones dentro del archivo csv y 5 columnas. La variable dependiente o variable objetivo es “Sales” que deberá estar en función de la inversión que se hace en TV, Radio o Newspaper. Hicimos una limpieza de datos que incluye quitar la variable x que no sea para nosotros de interes. En este analisis el valor de R-square es de 0.8747511975355455 lo cual esta por encima 80% y de Adjusted R-square con un valor de 0.9036747498931927 este pondera en 90% por lo que se acepta el modelo. Entonces los coeficientes son estadísticamente significativos para el modelo de este analisis de datos. Los valores del modelo de regresion multiple escogiendo las variables mas significativas en la seccion de”Summary modelo” para el caso de los Coeficientes: b1, b2 y b3 b1:(TV 0.04578156) b2:(Radio 0.19228539) \n",
        "b3:(Newspaper -0.0076749). Para el caso de la intercepcion en b0: con un valor de \"2.99933863\" En el valor de Root Mean Square Error nos arroja un resultado de “1.8058277891183077”.\n",
        "A comparación del modelo en R este modelo en Python es mas preciso ya que el valor ajustado pondera en 90% a diferencia de R que ponderaba en 80%."
      ],
      "metadata": {
        "id": "HHygUgGvwV96"
      }
    }
  ]
}