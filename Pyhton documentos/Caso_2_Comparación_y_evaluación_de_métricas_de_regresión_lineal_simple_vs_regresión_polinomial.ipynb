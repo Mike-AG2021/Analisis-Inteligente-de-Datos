{
  "nbformat": 4,
  "nbformat_minor": 0,
  "metadata": {
    "colab": {
      "name": "Caso 2. Comparación y evaluación de métricas de regresión lineal simple vs regresión polinomial.ipynb",
      "provenance": [],
      "collapsed_sections": [],
      "include_colab_link": true
    },
    "kernelspec": {
      "name": "python3",
      "display_name": "Python 3"
    },
    "language_info": {
      "name": "python"
    }
  },
  "cells": [
    {
      "cell_type": "markdown",
      "metadata": {
        "id": "view-in-github",
        "colab_type": "text"
      },
      "source": [
        "<a href=\"https://colab.research.google.com/github/Mike-AG2021/Analisis-Inteligente-de-Datos/blob/main/Pyhton%20documentos/Caso_2_Comparaci%C3%B3n_y_evaluaci%C3%B3n_de_m%C3%A9tricas_de_regresi%C3%B3n_lineal_simple_vs_regresi%C3%B3n_polinomial.ipynb\" target=\"_parent\"><img src=\"https://colab.research.google.com/assets/colab-badge.svg\" alt=\"Open In Colab\"/></a>"
      ]
    },
    {
      "cell_type": "markdown",
      "metadata": {
        "id": "mbvx4vf01-bH"
      },
      "source": [
        "# Caso 2. Comparación y evaluación de métricas de regresión lineal simple vs regresión polinomial\n",
        "#Autor: Jesús Miguel Acosta Gurrola\n",
        "#Fecha: 10/03/2022\n",
        "\n",
        "# Objetivo\n",
        "Construir modelos de regresión lineal simple y polinómico importando datos FIFA con variable Overall y Valor para realizar predicciones y evaluar y comparar su rendimiento.\n",
        "\n",
        "\n",
        "\n"
      ]
    },
    {
      "cell_type": "markdown",
      "metadata": {
        "id": "HZtphDzu2aJt"
      },
      "source": [
        "# Descripción\n",
        "\n",
        "* Cargar librerías\n",
        "\n",
        "* Cargar datos de FIFA\n",
        "\n",
        "* Métricas a evaluar\n",
        "\n",
        "* Explorar datos\n",
        "\n",
        "* Variables independiente y dependiente\n",
        "\n",
        "* Visualizar dispersión de los datos\n",
        "\n",
        "* Construir datos de entrenamiento y datos de validación.\n",
        "\n",
        "* Regresión Lineal Simple\n",
        "\n",
        "* Construir el modelo\n",
        "\n",
        "* Predicciones\n",
        "\n",
        "* Metricas del modelo\n",
        "\n",
        "* Regresión Polinómica de segundo\n",
        "\n",
        "* Construir el modelo\n",
        "\n",
        "* Predicciones\n",
        "\n",
        "* Métricas del modelo\n",
        "\n",
        "* Regresión Polinómica de quinto nivel\n",
        "\n",
        "* Construir el modelo\n",
        "\n",
        "* Predicciones\n",
        "\n",
        "* Métricas del modelo\n",
        "\n",
        "* Interpretación"
      ]
    },
    {
      "cell_type": "markdown",
      "source": [
        "#Métricas a valorar en los modelos\n",
        "Se van a realizar y evaluar métricas de las predicciones con los modelos de regresión lineal simple y regresión polinómica con los mismos datos.\n",
        "\n",
        "Los modelos se aceptan si las métricas cumplen estos requisitos:\n",
        "\n",
        "El valor de R Square y R Square ajustado sobrepasa el 50%,\n",
        "\n",
        "Que sus variables sea estadísticamente significativas al 95%. Al menos un ‘*’\n",
        "\n",
        "Que el valor de RMSE (Raiz del Error Estándar Medio) sea menor que : 2 000 000 (dos millones).\n",
        "\n",
        "Al final se deben comparar los modelos."
      ],
      "metadata": {
        "id": "JqufNFc1Wx8f"
      }
    },
    {
      "cell_type": "markdown",
      "metadata": {
        "id": "Yikigugw2uIV"
      },
      "source": [
        "# Desarrollo\n",
        "\n",
        "## Cargar librerías"
      ]
    },
    {
      "cell_type": "code",
      "metadata": {
        "id": "S_wcu7DM3AEV",
        "colab": {
          "base_uri": "https://localhost:8080/"
        },
        "outputId": "ec4dab17-80cb-4861-90ef-4758206f10e6"
      },
      "source": [
        "\n",
        "import pandas as pd\n",
        "import numpy as np\n",
        "\n",
        "# Gráficos\n",
        "# ==============================================================================\n",
        "import matplotlib.pyplot as plt\n",
        "from matplotlib import style\n",
        "import seaborn as sns\n",
        "\n",
        "# Procesado del modelo\n",
        "# ==============================================================================\n",
        "from scipy.stats import  pearsonr # Para correlación\n",
        "from sklearn.linear_model import LinearRegression # Para regresión\n",
        "from sklearn.model_selection import train_test_split # Partir datos\n",
        "from sklearn.metrics import r2_score\n",
        "from sklearn.metrics import r2_score # R Square\n",
        "from sklearn.metrics import mean_squared_error \n",
        "import statsmodels.api as sm\n",
        "import statsmodels.formula.api as smf\n",
        "from sklearn import metrics\n",
        "from sklearn import linear_model\n",
        "\n",
        "\n"
      ],
      "execution_count": null,
      "outputs": [
        {
          "output_type": "stream",
          "name": "stderr",
          "text": [
            "/usr/local/lib/python3.7/dist-packages/statsmodels/tools/_testing.py:19: FutureWarning: pandas.util.testing is deprecated. Use the functions in the public API at pandas.testing instead.\n",
            "  import pandas.util.testing as tm\n"
          ]
        }
      ]
    },
    {
      "cell_type": "markdown",
      "metadata": {
        "id": "gECRvDVy3xVm"
      },
      "source": [
        "## Cargar los datos"
      ]
    },
    {
      "cell_type": "code",
      "metadata": {
        "colab": {
          "base_uri": "https://localhost:8080/",
          "height": 424
        },
        "id": "iiXiDtfP3zgG",
        "outputId": "ccc9c273-ea83-467e-fd90-7c2362ba422e"
      },
      "source": [
        "datos = pd.read_csv(\"https://raw.githubusercontent.com/rpizarrog/Analisis-Inteligente-de-datos/main/datos/datos.limpios.csv\", encoding= 'unicode_escape')\n",
        "datos[['Overall', 'Valor']]\n",
        "\n"
      ],
      "execution_count": null,
      "outputs": [
        {
          "output_type": "execute_result",
          "data": {
            "text/plain": [
              "       Overall      Valor\n",
              "0           94  110500000\n",
              "1           94   77000000\n",
              "2           92  118500000\n",
              "3           91   72000000\n",
              "4           91  102000000\n",
              "...        ...        ...\n",
              "17902       47      60000\n",
              "17903       47      60000\n",
              "17904       47      60000\n",
              "17905       47      60000\n",
              "17906       46      60000\n",
              "\n",
              "[17907 rows x 2 columns]"
            ],
            "text/html": [
              "\n",
              "  <div id=\"df-88e72789-c521-4428-8651-21d8955e8bfd\">\n",
              "    <div class=\"colab-df-container\">\n",
              "      <div>\n",
              "<style scoped>\n",
              "    .dataframe tbody tr th:only-of-type {\n",
              "        vertical-align: middle;\n",
              "    }\n",
              "\n",
              "    .dataframe tbody tr th {\n",
              "        vertical-align: top;\n",
              "    }\n",
              "\n",
              "    .dataframe thead th {\n",
              "        text-align: right;\n",
              "    }\n",
              "</style>\n",
              "<table border=\"1\" class=\"dataframe\">\n",
              "  <thead>\n",
              "    <tr style=\"text-align: right;\">\n",
              "      <th></th>\n",
              "      <th>Overall</th>\n",
              "      <th>Valor</th>\n",
              "    </tr>\n",
              "  </thead>\n",
              "  <tbody>\n",
              "    <tr>\n",
              "      <th>0</th>\n",
              "      <td>94</td>\n",
              "      <td>110500000</td>\n",
              "    </tr>\n",
              "    <tr>\n",
              "      <th>1</th>\n",
              "      <td>94</td>\n",
              "      <td>77000000</td>\n",
              "    </tr>\n",
              "    <tr>\n",
              "      <th>2</th>\n",
              "      <td>92</td>\n",
              "      <td>118500000</td>\n",
              "    </tr>\n",
              "    <tr>\n",
              "      <th>3</th>\n",
              "      <td>91</td>\n",
              "      <td>72000000</td>\n",
              "    </tr>\n",
              "    <tr>\n",
              "      <th>4</th>\n",
              "      <td>91</td>\n",
              "      <td>102000000</td>\n",
              "    </tr>\n",
              "    <tr>\n",
              "      <th>...</th>\n",
              "      <td>...</td>\n",
              "      <td>...</td>\n",
              "    </tr>\n",
              "    <tr>\n",
              "      <th>17902</th>\n",
              "      <td>47</td>\n",
              "      <td>60000</td>\n",
              "    </tr>\n",
              "    <tr>\n",
              "      <th>17903</th>\n",
              "      <td>47</td>\n",
              "      <td>60000</td>\n",
              "    </tr>\n",
              "    <tr>\n",
              "      <th>17904</th>\n",
              "      <td>47</td>\n",
              "      <td>60000</td>\n",
              "    </tr>\n",
              "    <tr>\n",
              "      <th>17905</th>\n",
              "      <td>47</td>\n",
              "      <td>60000</td>\n",
              "    </tr>\n",
              "    <tr>\n",
              "      <th>17906</th>\n",
              "      <td>46</td>\n",
              "      <td>60000</td>\n",
              "    </tr>\n",
              "  </tbody>\n",
              "</table>\n",
              "<p>17907 rows × 2 columns</p>\n",
              "</div>\n",
              "      <button class=\"colab-df-convert\" onclick=\"convertToInteractive('df-88e72789-c521-4428-8651-21d8955e8bfd')\"\n",
              "              title=\"Convert this dataframe to an interactive table.\"\n",
              "              style=\"display:none;\">\n",
              "        \n",
              "  <svg xmlns=\"http://www.w3.org/2000/svg\" height=\"24px\"viewBox=\"0 0 24 24\"\n",
              "       width=\"24px\">\n",
              "    <path d=\"M0 0h24v24H0V0z\" fill=\"none\"/>\n",
              "    <path d=\"M18.56 5.44l.94 2.06.94-2.06 2.06-.94-2.06-.94-.94-2.06-.94 2.06-2.06.94zm-11 1L8.5 8.5l.94-2.06 2.06-.94-2.06-.94L8.5 2.5l-.94 2.06-2.06.94zm10 10l.94 2.06.94-2.06 2.06-.94-2.06-.94-.94-2.06-.94 2.06-2.06.94z\"/><path d=\"M17.41 7.96l-1.37-1.37c-.4-.4-.92-.59-1.43-.59-.52 0-1.04.2-1.43.59L10.3 9.45l-7.72 7.72c-.78.78-.78 2.05 0 2.83L4 21.41c.39.39.9.59 1.41.59.51 0 1.02-.2 1.41-.59l7.78-7.78 2.81-2.81c.8-.78.8-2.07 0-2.86zM5.41 20L4 18.59l7.72-7.72 1.47 1.35L5.41 20z\"/>\n",
              "  </svg>\n",
              "      </button>\n",
              "      \n",
              "  <style>\n",
              "    .colab-df-container {\n",
              "      display:flex;\n",
              "      flex-wrap:wrap;\n",
              "      gap: 12px;\n",
              "    }\n",
              "\n",
              "    .colab-df-convert {\n",
              "      background-color: #E8F0FE;\n",
              "      border: none;\n",
              "      border-radius: 50%;\n",
              "      cursor: pointer;\n",
              "      display: none;\n",
              "      fill: #1967D2;\n",
              "      height: 32px;\n",
              "      padding: 0 0 0 0;\n",
              "      width: 32px;\n",
              "    }\n",
              "\n",
              "    .colab-df-convert:hover {\n",
              "      background-color: #E2EBFA;\n",
              "      box-shadow: 0px 1px 2px rgba(60, 64, 67, 0.3), 0px 1px 3px 1px rgba(60, 64, 67, 0.15);\n",
              "      fill: #174EA6;\n",
              "    }\n",
              "\n",
              "    [theme=dark] .colab-df-convert {\n",
              "      background-color: #3B4455;\n",
              "      fill: #D2E3FC;\n",
              "    }\n",
              "\n",
              "    [theme=dark] .colab-df-convert:hover {\n",
              "      background-color: #434B5C;\n",
              "      box-shadow: 0px 1px 3px 1px rgba(0, 0, 0, 0.15);\n",
              "      filter: drop-shadow(0px 1px 2px rgba(0, 0, 0, 0.3));\n",
              "      fill: #FFFFFF;\n",
              "    }\n",
              "  </style>\n",
              "\n",
              "      <script>\n",
              "        const buttonEl =\n",
              "          document.querySelector('#df-88e72789-c521-4428-8651-21d8955e8bfd button.colab-df-convert');\n",
              "        buttonEl.style.display =\n",
              "          google.colab.kernel.accessAllowed ? 'block' : 'none';\n",
              "\n",
              "        async function convertToInteractive(key) {\n",
              "          const element = document.querySelector('#df-88e72789-c521-4428-8651-21d8955e8bfd');\n",
              "          const dataTable =\n",
              "            await google.colab.kernel.invokeFunction('convertToInteractive',\n",
              "                                                     [key], {});\n",
              "          if (!dataTable) return;\n",
              "\n",
              "          const docLinkHtml = 'Like what you see? Visit the ' +\n",
              "            '<a target=\"_blank\" href=https://colab.research.google.com/notebooks/data_table.ipynb>data table notebook</a>'\n",
              "            + ' to learn more about interactive tables.';\n",
              "          element.innerHTML = '';\n",
              "          dataTable['output_type'] = 'display_data';\n",
              "          await google.colab.output.renderOutput(dataTable, element);\n",
              "          const docLink = document.createElement('div');\n",
              "          docLink.innerHTML = docLinkHtml;\n",
              "          element.appendChild(docLink);\n",
              "        }\n",
              "      </script>\n",
              "    </div>\n",
              "  </div>\n",
              "  "
            ]
          },
          "metadata": {},
          "execution_count": 3
        }
      ]
    },
    {
      "cell_type": "markdown",
      "source": [
        "# Variables independiente y dependiente\n",
        "Se identifican dos variables numéricas de interés:\n",
        "\n",
        "Overall: Reputación y jerarquía internacional numérica del jugador\n",
        "\n",
        "Valor: Sería el valor económico internacional de los jugadores\n",
        "\n",
        "Se define a la variable independiente como Overall y la variable dependiente Valor, es decir, Overall impacta sobre Value o los valores de la variable Valor dependen de Overall."
      ],
      "metadata": {
        "id": "XJuFsLG-XBpj"
      }
    },
    {
      "cell_type": "markdown",
      "metadata": {
        "id": "PWPL4cxz4xEH"
      },
      "source": [
        "Las variables de interés son Overall como variable independiente que significa el valor cuantitativo entre 0 y 100 de un jugador de futbol a nivel internacional y la variable Valor que es el estimado económico que vale un jugador de fútbol a nivel mundial\n",
        "\n"
      ]
    },
    {
      "cell_type": "code",
      "metadata": {
        "colab": {
          "base_uri": "https://localhost:8080/",
          "height": 300
        },
        "id": "jul6QX2i5SGu",
        "outputId": "30a4df40-665c-48c2-a985-fac6067ab0a8"
      },
      "source": [
        "datos[['Overall', 'Valor']].describe()"
      ],
      "execution_count": null,
      "outputs": [
        {
          "output_type": "execute_result",
          "data": {
            "text/plain": [
              "            Overall         Valor\n",
              "count  17907.000000  1.790700e+04\n",
              "mean      66.239571  2.450133e+06\n",
              "std        6.926818  5.633207e+06\n",
              "min       46.000000  1.000000e+04\n",
              "25%       62.000000  3.250000e+05\n",
              "50%       66.000000  7.000000e+05\n",
              "75%       71.000000  2.100000e+06\n",
              "max       94.000000  1.185000e+08"
            ],
            "text/html": [
              "\n",
              "  <div id=\"df-705c097f-a633-4362-984b-837a9c42494e\">\n",
              "    <div class=\"colab-df-container\">\n",
              "      <div>\n",
              "<style scoped>\n",
              "    .dataframe tbody tr th:only-of-type {\n",
              "        vertical-align: middle;\n",
              "    }\n",
              "\n",
              "    .dataframe tbody tr th {\n",
              "        vertical-align: top;\n",
              "    }\n",
              "\n",
              "    .dataframe thead th {\n",
              "        text-align: right;\n",
              "    }\n",
              "</style>\n",
              "<table border=\"1\" class=\"dataframe\">\n",
              "  <thead>\n",
              "    <tr style=\"text-align: right;\">\n",
              "      <th></th>\n",
              "      <th>Overall</th>\n",
              "      <th>Valor</th>\n",
              "    </tr>\n",
              "  </thead>\n",
              "  <tbody>\n",
              "    <tr>\n",
              "      <th>count</th>\n",
              "      <td>17907.000000</td>\n",
              "      <td>1.790700e+04</td>\n",
              "    </tr>\n",
              "    <tr>\n",
              "      <th>mean</th>\n",
              "      <td>66.239571</td>\n",
              "      <td>2.450133e+06</td>\n",
              "    </tr>\n",
              "    <tr>\n",
              "      <th>std</th>\n",
              "      <td>6.926818</td>\n",
              "      <td>5.633207e+06</td>\n",
              "    </tr>\n",
              "    <tr>\n",
              "      <th>min</th>\n",
              "      <td>46.000000</td>\n",
              "      <td>1.000000e+04</td>\n",
              "    </tr>\n",
              "    <tr>\n",
              "      <th>25%</th>\n",
              "      <td>62.000000</td>\n",
              "      <td>3.250000e+05</td>\n",
              "    </tr>\n",
              "    <tr>\n",
              "      <th>50%</th>\n",
              "      <td>66.000000</td>\n",
              "      <td>7.000000e+05</td>\n",
              "    </tr>\n",
              "    <tr>\n",
              "      <th>75%</th>\n",
              "      <td>71.000000</td>\n",
              "      <td>2.100000e+06</td>\n",
              "    </tr>\n",
              "    <tr>\n",
              "      <th>max</th>\n",
              "      <td>94.000000</td>\n",
              "      <td>1.185000e+08</td>\n",
              "    </tr>\n",
              "  </tbody>\n",
              "</table>\n",
              "</div>\n",
              "      <button class=\"colab-df-convert\" onclick=\"convertToInteractive('df-705c097f-a633-4362-984b-837a9c42494e')\"\n",
              "              title=\"Convert this dataframe to an interactive table.\"\n",
              "              style=\"display:none;\">\n",
              "        \n",
              "  <svg xmlns=\"http://www.w3.org/2000/svg\" height=\"24px\"viewBox=\"0 0 24 24\"\n",
              "       width=\"24px\">\n",
              "    <path d=\"M0 0h24v24H0V0z\" fill=\"none\"/>\n",
              "    <path d=\"M18.56 5.44l.94 2.06.94-2.06 2.06-.94-2.06-.94-.94-2.06-.94 2.06-2.06.94zm-11 1L8.5 8.5l.94-2.06 2.06-.94-2.06-.94L8.5 2.5l-.94 2.06-2.06.94zm10 10l.94 2.06.94-2.06 2.06-.94-2.06-.94-.94-2.06-.94 2.06-2.06.94z\"/><path d=\"M17.41 7.96l-1.37-1.37c-.4-.4-.92-.59-1.43-.59-.52 0-1.04.2-1.43.59L10.3 9.45l-7.72 7.72c-.78.78-.78 2.05 0 2.83L4 21.41c.39.39.9.59 1.41.59.51 0 1.02-.2 1.41-.59l7.78-7.78 2.81-2.81c.8-.78.8-2.07 0-2.86zM5.41 20L4 18.59l7.72-7.72 1.47 1.35L5.41 20z\"/>\n",
              "  </svg>\n",
              "      </button>\n",
              "      \n",
              "  <style>\n",
              "    .colab-df-container {\n",
              "      display:flex;\n",
              "      flex-wrap:wrap;\n",
              "      gap: 12px;\n",
              "    }\n",
              "\n",
              "    .colab-df-convert {\n",
              "      background-color: #E8F0FE;\n",
              "      border: none;\n",
              "      border-radius: 50%;\n",
              "      cursor: pointer;\n",
              "      display: none;\n",
              "      fill: #1967D2;\n",
              "      height: 32px;\n",
              "      padding: 0 0 0 0;\n",
              "      width: 32px;\n",
              "    }\n",
              "\n",
              "    .colab-df-convert:hover {\n",
              "      background-color: #E2EBFA;\n",
              "      box-shadow: 0px 1px 2px rgba(60, 64, 67, 0.3), 0px 1px 3px 1px rgba(60, 64, 67, 0.15);\n",
              "      fill: #174EA6;\n",
              "    }\n",
              "\n",
              "    [theme=dark] .colab-df-convert {\n",
              "      background-color: #3B4455;\n",
              "      fill: #D2E3FC;\n",
              "    }\n",
              "\n",
              "    [theme=dark] .colab-df-convert:hover {\n",
              "      background-color: #434B5C;\n",
              "      box-shadow: 0px 1px 3px 1px rgba(0, 0, 0, 0.15);\n",
              "      filter: drop-shadow(0px 1px 2px rgba(0, 0, 0, 0.3));\n",
              "      fill: #FFFFFF;\n",
              "    }\n",
              "  </style>\n",
              "\n",
              "      <script>\n",
              "        const buttonEl =\n",
              "          document.querySelector('#df-705c097f-a633-4362-984b-837a9c42494e button.colab-df-convert');\n",
              "        buttonEl.style.display =\n",
              "          google.colab.kernel.accessAllowed ? 'block' : 'none';\n",
              "\n",
              "        async function convertToInteractive(key) {\n",
              "          const element = document.querySelector('#df-705c097f-a633-4362-984b-837a9c42494e');\n",
              "          const dataTable =\n",
              "            await google.colab.kernel.invokeFunction('convertToInteractive',\n",
              "                                                     [key], {});\n",
              "          if (!dataTable) return;\n",
              "\n",
              "          const docLinkHtml = 'Like what you see? Visit the ' +\n",
              "            '<a target=\"_blank\" href=https://colab.research.google.com/notebooks/data_table.ipynb>data table notebook</a>'\n",
              "            + ' to learn more about interactive tables.';\n",
              "          element.innerHTML = '';\n",
              "          dataTable['output_type'] = 'display_data';\n",
              "          await google.colab.output.renderOutput(dataTable, element);\n",
              "          const docLink = document.createElement('div');\n",
              "          docLink.innerHTML = docLinkHtml;\n",
              "          element.appendChild(docLink);\n",
              "        }\n",
              "      </script>\n",
              "    </div>\n",
              "  </div>\n",
              "  "
            ]
          },
          "metadata": {},
          "execution_count": 52
        }
      ]
    },
    {
      "cell_type": "code",
      "source": [
        "datos['Overall'].describe()"
      ],
      "metadata": {
        "colab": {
          "base_uri": "https://localhost:8080/"
        },
        "id": "BfTGV-J5EzOf",
        "outputId": "25a0dfd5-9b54-4c66-c08e-cee355c2b7f0"
      },
      "execution_count": null,
      "outputs": [
        {
          "output_type": "execute_result",
          "data": {
            "text/plain": [
              "count    17907.000000\n",
              "mean        66.239571\n",
              "std          6.926818\n",
              "min         46.000000\n",
              "25%         62.000000\n",
              "50%         66.000000\n",
              "75%         71.000000\n",
              "max         94.000000\n",
              "Name: Overall, dtype: float64"
            ]
          },
          "metadata": {},
          "execution_count": 53
        }
      ]
    },
    {
      "cell_type": "code",
      "source": [
        "datos['Valor'].describe()"
      ],
      "metadata": {
        "colab": {
          "base_uri": "https://localhost:8080/"
        },
        "id": "SqDeFcynE2cO",
        "outputId": "e3d895a1-686f-4a4b-d519-7706ba6c1b77"
      },
      "execution_count": null,
      "outputs": [
        {
          "output_type": "execute_result",
          "data": {
            "text/plain": [
              "count    1.790700e+04\n",
              "mean     2.450133e+06\n",
              "std      5.633207e+06\n",
              "min      1.000000e+04\n",
              "25%      3.250000e+05\n",
              "50%      7.000000e+05\n",
              "75%      2.100000e+06\n",
              "max      1.185000e+08\n",
              "Name: Valor, dtype: float64"
            ]
          },
          "metadata": {},
          "execution_count": 54
        }
      ]
    },
    {
      "cell_type": "markdown",
      "metadata": {
        "id": "zCMMTA2l60j_"
      },
      "source": [
        "## Diagrama de dispersión de los datos\n",
        "\n",
        "Se muestra el diagrama de dispersión con todo el conjunto de datos"
      ]
    },
    {
      "cell_type": "code",
      "metadata": {
        "colab": {
          "base_uri": "https://localhost:8080/",
          "height": 293
        },
        "id": "_lwH1Qg7678u",
        "outputId": "bd83d6b2-2341-4e26-81a7-b502adfa3858"
      },
      "source": [
        "from matplotlib import pyplot as plt\n",
        " \n",
        "# Convertirlo a arreglos independiente \n",
        "Overall = datos['Overall'].values.reshape(-1, 1) # Variable independiente\n",
        "Valor = datos['Valor'].values.reshape(-1, 1) # Variable dependiente\n",
        "plt.scatter(x=Overall,y=Valor, color= 'green') "
      ],
      "execution_count": null,
      "outputs": [
        {
          "output_type": "execute_result",
          "data": {
            "text/plain": [
              "<matplotlib.collections.PathCollection at 0x7f2aacf40710>"
            ]
          },
          "metadata": {},
          "execution_count": 55
        },
        {
          "output_type": "display_data",
          "data": {
            "text/plain": [
              "<Figure size 432x288 with 1 Axes>"
            ],
            "image/png": "[encoded data removed]"
          },
          "metadata": {
            "needs_background": "light"
          }
        }
      ]
    },
    {
      "cell_type": "markdown",
      "source": [
        "Se observa que la relación de los datos no es del todo lineal, pero se construirán los modelos de regresión lineal simple y polinómico con las mismas variables.\n",
        "\n",
        "Datos de entrenamiento y datos de validación\n",
        "\n",
        "Sembrar semilla para la aleatoriedad de los datos"
      ],
      "metadata": {
        "id": "K-v7R6sqXUtX"
      }
    },
    {
      "cell_type": "markdown",
      "metadata": {
        "id": "X7MFOkxPIel4"
      },
      "source": [
        "# Codigo para obtener el ploteo el cual nos mostrara el gráfico con el cual obtendremos el ploteo de los datos el cual nos lo muestra en el grafico de la disperción\n",
        "```\n",
        "#\n",
        "Overall = datos['Overall'].values.reshape(-1, 1) # Variable independiente\n",
        "Valor = datos['Valor'].values.reshape(-1, 1) # Variable dependiente\n",
        "plt.scatter(x=Overall,y=Valor)\n",
        "```\n",
        "\n"
      ]
    },
    {
      "cell_type": "markdown",
      "metadata": {
        "id": "Etd1rw687bWn"
      },
      "source": [
        "## Construir datos de entrenamiento y validación\n",
        "# Se parten los datos 70% datos de entrenamiento y 30% datos de validación\n"
      ]
    },
    {
      "cell_type": "code",
      "metadata": {
        "id": "ANF76onl7hs3"
      },
      "source": [
        "Overall = datos['Overall']\n",
        "Valor = datos['Valor']\n",
        "\n",
        "\n",
        "entrena_Overall, valida_Overall, entrena_Valor, valida_Valor = train_test_split(\n",
        "                                        Overall.values.reshape(-1,1),\n",
        "                                        Valor.values.reshape(-1,1),\n",
        "                                        train_size   = 0.8,\n",
        "                                        random_state = 2021,\n",
        "                                        shuffle      = True\n",
        "                                    )\n",
        "\n"
      ],
      "execution_count": null,
      "outputs": []
    },
    {
      "cell_type": "markdown",
      "metadata": {
        "id": "PdmJDoV9C1vh"
      },
      "source": [
        "### Datos de entrenamiento"
      ]
    },
    {
      "cell_type": "code",
      "metadata": {
        "colab": {
          "base_uri": "https://localhost:8080/",
          "height": 424
        },
        "id": "lJsO8fIoB7Z4",
        "outputId": "5ce5b46e-f389-4c89-f493-64215d8c3acc"
      },
      "source": [
        "entrenamiento = pd.DataFrame(np.concatenate((entrena_Overall, entrena_Valor), axis=1))\n",
        "entrenamiento.columns = ['Overall', 'Valor']\n",
        "entrenamiento"
      ],
      "execution_count": null,
      "outputs": [
        {
          "output_type": "execute_result",
          "data": {
            "text/plain": [
              "       Overall     Valor\n",
              "0           63    500000\n",
              "1           62    270000\n",
              "2           84  25000000\n",
              "3           72   3300000\n",
              "4           71   3000000\n",
              "...        ...       ...\n",
              "14320       60    230000\n",
              "14321       57    230000\n",
              "14322       73   3700000\n",
              "14323       52     70000\n",
              "14324       69   1000000\n",
              "\n",
              "[14325 rows x 2 columns]"
            ],
            "text/html": [
              "\n",
              "  <div id=\"df-e9ecb5be-0dad-4356-8e36-917d00037c68\">\n",
              "    <div class=\"colab-df-container\">\n",
              "      <div>\n",
              "<style scoped>\n",
              "    .dataframe tbody tr th:only-of-type {\n",
              "        vertical-align: middle;\n",
              "    }\n",
              "\n",
              "    .dataframe tbody tr th {\n",
              "        vertical-align: top;\n",
              "    }\n",
              "\n",
              "    .dataframe thead th {\n",
              "        text-align: right;\n",
              "    }\n",
              "</style>\n",
              "<table border=\"1\" class=\"dataframe\">\n",
              "  <thead>\n",
              "    <tr style=\"text-align: right;\">\n",
              "      <th></th>\n",
              "      <th>Overall</th>\n",
              "      <th>Valor</th>\n",
              "    </tr>\n",
              "  </thead>\n",
              "  <tbody>\n",
              "    <tr>\n",
              "      <th>0</th>\n",
              "      <td>63</td>\n",
              "      <td>500000</td>\n",
              "    </tr>\n",
              "    <tr>\n",
              "      <th>1</th>\n",
              "      <td>62</td>\n",
              "      <td>270000</td>\n",
              "    </tr>\n",
              "    <tr>\n",
              "      <th>2</th>\n",
              "      <td>84</td>\n",
              "      <td>25000000</td>\n",
              "    </tr>\n",
              "    <tr>\n",
              "      <th>3</th>\n",
              "      <td>72</td>\n",
              "      <td>3300000</td>\n",
              "    </tr>\n",
              "    <tr>\n",
              "      <th>4</th>\n",
              "      <td>71</td>\n",
              "      <td>3000000</td>\n",
              "    </tr>\n",
              "    <tr>\n",
              "      <th>...</th>\n",
              "      <td>...</td>\n",
              "      <td>...</td>\n",
              "    </tr>\n",
              "    <tr>\n",
              "      <th>14320</th>\n",
              "      <td>60</td>\n",
              "      <td>230000</td>\n",
              "    </tr>\n",
              "    <tr>\n",
              "      <th>14321</th>\n",
              "      <td>57</td>\n",
              "      <td>230000</td>\n",
              "    </tr>\n",
              "    <tr>\n",
              "      <th>14322</th>\n",
              "      <td>73</td>\n",
              "      <td>3700000</td>\n",
              "    </tr>\n",
              "    <tr>\n",
              "      <th>14323</th>\n",
              "      <td>52</td>\n",
              "      <td>70000</td>\n",
              "    </tr>\n",
              "    <tr>\n",
              "      <th>14324</th>\n",
              "      <td>69</td>\n",
              "      <td>1000000</td>\n",
              "    </tr>\n",
              "  </tbody>\n",
              "</table>\n",
              "<p>14325 rows × 2 columns</p>\n",
              "</div>\n",
              "      <button class=\"colab-df-convert\" onclick=\"convertToInteractive('df-e9ecb5be-0dad-4356-8e36-917d00037c68')\"\n",
              "              title=\"Convert this dataframe to an interactive table.\"\n",
              "              style=\"display:none;\">\n",
              "        \n",
              "  <svg xmlns=\"http://www.w3.org/2000/svg\" height=\"24px\"viewBox=\"0 0 24 24\"\n",
              "       width=\"24px\">\n",
              "    <path d=\"M0 0h24v24H0V0z\" fill=\"none\"/>\n",
              "    <path d=\"M18.56 5.44l.94 2.06.94-2.06 2.06-.94-2.06-.94-.94-2.06-.94 2.06-2.06.94zm-11 1L8.5 8.5l.94-2.06 2.06-.94-2.06-.94L8.5 2.5l-.94 2.06-2.06.94zm10 10l.94 2.06.94-2.06 2.06-.94-2.06-.94-.94-2.06-.94 2.06-2.06.94z\"/><path d=\"M17.41 7.96l-1.37-1.37c-.4-.4-.92-.59-1.43-.59-.52 0-1.04.2-1.43.59L10.3 9.45l-7.72 7.72c-.78.78-.78 2.05 0 2.83L4 21.41c.39.39.9.59 1.41.59.51 0 1.02-.2 1.41-.59l7.78-7.78 2.81-2.81c.8-.78.8-2.07 0-2.86zM5.41 20L4 18.59l7.72-7.72 1.47 1.35L5.41 20z\"/>\n",
              "  </svg>\n",
              "      </button>\n",
              "      \n",
              "  <style>\n",
              "    .colab-df-container {\n",
              "      display:flex;\n",
              "      flex-wrap:wrap;\n",
              "      gap: 12px;\n",
              "    }\n",
              "\n",
              "    .colab-df-convert {\n",
              "      background-color: #E8F0FE;\n",
              "      border: none;\n",
              "      border-radius: 50%;\n",
              "      cursor: pointer;\n",
              "      display: none;\n",
              "      fill: #1967D2;\n",
              "      height: 32px;\n",
              "      padding: 0 0 0 0;\n",
              "      width: 32px;\n",
              "    }\n",
              "\n",
              "    .colab-df-convert:hover {\n",
              "      background-color: #E2EBFA;\n",
              "      box-shadow: 0px 1px 2px rgba(60, 64, 67, 0.3), 0px 1px 3px 1px rgba(60, 64, 67, 0.15);\n",
              "      fill: #174EA6;\n",
              "    }\n",
              "\n",
              "    [theme=dark] .colab-df-convert {\n",
              "      background-color: #3B4455;\n",
              "      fill: #D2E3FC;\n",
              "    }\n",
              "\n",
              "    [theme=dark] .colab-df-convert:hover {\n",
              "      background-color: #434B5C;\n",
              "      box-shadow: 0px 1px 3px 1px rgba(0, 0, 0, 0.15);\n",
              "      filter: drop-shadow(0px 1px 2px rgba(0, 0, 0, 0.3));\n",
              "      fill: #FFFFFF;\n",
              "    }\n",
              "  </style>\n",
              "\n",
              "      <script>\n",
              "        const buttonEl =\n",
              "          document.querySelector('#df-e9ecb5be-0dad-4356-8e36-917d00037c68 button.colab-df-convert');\n",
              "        buttonEl.style.display =\n",
              "          google.colab.kernel.accessAllowed ? 'block' : 'none';\n",
              "\n",
              "        async function convertToInteractive(key) {\n",
              "          const element = document.querySelector('#df-e9ecb5be-0dad-4356-8e36-917d00037c68');\n",
              "          const dataTable =\n",
              "            await google.colab.kernel.invokeFunction('convertToInteractive',\n",
              "                                                     [key], {});\n",
              "          if (!dataTable) return;\n",
              "\n",
              "          const docLinkHtml = 'Like what you see? Visit the ' +\n",
              "            '<a target=\"_blank\" href=https://colab.research.google.com/notebooks/data_table.ipynb>data table notebook</a>'\n",
              "            + ' to learn more about interactive tables.';\n",
              "          element.innerHTML = '';\n",
              "          dataTable['output_type'] = 'display_data';\n",
              "          await google.colab.output.renderOutput(dataTable, element);\n",
              "          const docLink = document.createElement('div');\n",
              "          docLink.innerHTML = docLinkHtml;\n",
              "          element.appendChild(docLink);\n",
              "        }\n",
              "      </script>\n",
              "    </div>\n",
              "  </div>\n",
              "  "
            ]
          },
          "metadata": {},
          "execution_count": 57
        }
      ]
    },
    {
      "cell_type": "markdown",
      "source": [
        "De manera aleatoria se construyen los datos de entrenamiento y los datos de validación.\n",
        "\n",
        "En la variable entrena se generan los registros que van a ser los datos de entrenamiento, de tal forma que los datos de validación serán los que no sena de entrenamiento \"entrenamiento\"."
      ],
      "metadata": {
        "id": "Mhxe56VsXpVU"
      }
    },
    {
      "cell_type": "markdown",
      "metadata": {
        "id": "uBqqXVCaC-mo"
      },
      "source": [
        "### Datos de validación"
      ]
    },
    {
      "cell_type": "code",
      "metadata": {
        "colab": {
          "base_uri": "https://localhost:8080/",
          "height": 424
        },
        "id": "WEyeYwkPB2cp",
        "outputId": "c6aa5135-ea37-4fff-d470-0304ee4c87e9"
      },
      "source": [
        "validacion = pd.DataFrame(np.concatenate((valida_Overall, valida_Valor), axis=1))\n",
        "validacion.columns = ['Overall', 'Valor']\n",
        "validacion"
      ],
      "execution_count": null,
      "outputs": [
        {
          "output_type": "execute_result",
          "data": {
            "text/plain": [
              "      Overall    Valor\n",
              "0          70  1400000\n",
              "1          70  1400000\n",
              "2          62   200000\n",
              "3          68   900000\n",
              "4          59   220000\n",
              "...       ...      ...\n",
              "3577       59   300000\n",
              "3578       65   450000\n",
              "3579       68  1100000\n",
              "3580       66   675000\n",
              "3581       57   220000\n",
              "\n",
              "[3582 rows x 2 columns]"
            ],
            "text/html": [
              "\n",
              "  <div id=\"df-d3e382c3-c29e-4b8b-b661-0b9637c2cbfb\">\n",
              "    <div class=\"colab-df-container\">\n",
              "      <div>\n",
              "<style scoped>\n",
              "    .dataframe tbody tr th:only-of-type {\n",
              "        vertical-align: middle;\n",
              "    }\n",
              "\n",
              "    .dataframe tbody tr th {\n",
              "        vertical-align: top;\n",
              "    }\n",
              "\n",
              "    .dataframe thead th {\n",
              "        text-align: right;\n",
              "    }\n",
              "</style>\n",
              "<table border=\"1\" class=\"dataframe\">\n",
              "  <thead>\n",
              "    <tr style=\"text-align: right;\">\n",
              "      <th></th>\n",
              "      <th>Overall</th>\n",
              "      <th>Valor</th>\n",
              "    </tr>\n",
              "  </thead>\n",
              "  <tbody>\n",
              "    <tr>\n",
              "      <th>0</th>\n",
              "      <td>70</td>\n",
              "      <td>1400000</td>\n",
              "    </tr>\n",
              "    <tr>\n",
              "      <th>1</th>\n",
              "      <td>70</td>\n",
              "      <td>1400000</td>\n",
              "    </tr>\n",
              "    <tr>\n",
              "      <th>2</th>\n",
              "      <td>62</td>\n",
              "      <td>200000</td>\n",
              "    </tr>\n",
              "    <tr>\n",
              "      <th>3</th>\n",
              "      <td>68</td>\n",
              "      <td>900000</td>\n",
              "    </tr>\n",
              "    <tr>\n",
              "      <th>4</th>\n",
              "      <td>59</td>\n",
              "      <td>220000</td>\n",
              "    </tr>\n",
              "    <tr>\n",
              "      <th>...</th>\n",
              "      <td>...</td>\n",
              "      <td>...</td>\n",
              "    </tr>\n",
              "    <tr>\n",
              "      <th>3577</th>\n",
              "      <td>59</td>\n",
              "      <td>300000</td>\n",
              "    </tr>\n",
              "    <tr>\n",
              "      <th>3578</th>\n",
              "      <td>65</td>\n",
              "      <td>450000</td>\n",
              "    </tr>\n",
              "    <tr>\n",
              "      <th>3579</th>\n",
              "      <td>68</td>\n",
              "      <td>1100000</td>\n",
              "    </tr>\n",
              "    <tr>\n",
              "      <th>3580</th>\n",
              "      <td>66</td>\n",
              "      <td>675000</td>\n",
              "    </tr>\n",
              "    <tr>\n",
              "      <th>3581</th>\n",
              "      <td>57</td>\n",
              "      <td>220000</td>\n",
              "    </tr>\n",
              "  </tbody>\n",
              "</table>\n",
              "<p>3582 rows × 2 columns</p>\n",
              "</div>\n",
              "      <button class=\"colab-df-convert\" onclick=\"convertToInteractive('df-d3e382c3-c29e-4b8b-b661-0b9637c2cbfb')\"\n",
              "              title=\"Convert this dataframe to an interactive table.\"\n",
              "              style=\"display:none;\">\n",
              "        \n",
              "  <svg xmlns=\"http://www.w3.org/2000/svg\" height=\"24px\"viewBox=\"0 0 24 24\"\n",
              "       width=\"24px\">\n",
              "    <path d=\"M0 0h24v24H0V0z\" fill=\"none\"/>\n",
              "    <path d=\"M18.56 5.44l.94 2.06.94-2.06 2.06-.94-2.06-.94-.94-2.06-.94 2.06-2.06.94zm-11 1L8.5 8.5l.94-2.06 2.06-.94-2.06-.94L8.5 2.5l-.94 2.06-2.06.94zm10 10l.94 2.06.94-2.06 2.06-.94-2.06-.94-.94-2.06-.94 2.06-2.06.94z\"/><path d=\"M17.41 7.96l-1.37-1.37c-.4-.4-.92-.59-1.43-.59-.52 0-1.04.2-1.43.59L10.3 9.45l-7.72 7.72c-.78.78-.78 2.05 0 2.83L4 21.41c.39.39.9.59 1.41.59.51 0 1.02-.2 1.41-.59l7.78-7.78 2.81-2.81c.8-.78.8-2.07 0-2.86zM5.41 20L4 18.59l7.72-7.72 1.47 1.35L5.41 20z\"/>\n",
              "  </svg>\n",
              "      </button>\n",
              "      \n",
              "  <style>\n",
              "    .colab-df-container {\n",
              "      display:flex;\n",
              "      flex-wrap:wrap;\n",
              "      gap: 12px;\n",
              "    }\n",
              "\n",
              "    .colab-df-convert {\n",
              "      background-color: #E8F0FE;\n",
              "      border: none;\n",
              "      border-radius: 50%;\n",
              "      cursor: pointer;\n",
              "      display: none;\n",
              "      fill: #1967D2;\n",
              "      height: 32px;\n",
              "      padding: 0 0 0 0;\n",
              "      width: 32px;\n",
              "    }\n",
              "\n",
              "    .colab-df-convert:hover {\n",
              "      background-color: #E2EBFA;\n",
              "      box-shadow: 0px 1px 2px rgba(60, 64, 67, 0.3), 0px 1px 3px 1px rgba(60, 64, 67, 0.15);\n",
              "      fill: #174EA6;\n",
              "    }\n",
              "\n",
              "    [theme=dark] .colab-df-convert {\n",
              "      background-color: #3B4455;\n",
              "      fill: #D2E3FC;\n",
              "    }\n",
              "\n",
              "    [theme=dark] .colab-df-convert:hover {\n",
              "      background-color: #434B5C;\n",
              "      box-shadow: 0px 1px 3px 1px rgba(0, 0, 0, 0.15);\n",
              "      filter: drop-shadow(0px 1px 2px rgba(0, 0, 0, 0.3));\n",
              "      fill: #FFFFFF;\n",
              "    }\n",
              "  </style>\n",
              "\n",
              "      <script>\n",
              "        const buttonEl =\n",
              "          document.querySelector('#df-d3e382c3-c29e-4b8b-b661-0b9637c2cbfb button.colab-df-convert');\n",
              "        buttonEl.style.display =\n",
              "          google.colab.kernel.accessAllowed ? 'block' : 'none';\n",
              "\n",
              "        async function convertToInteractive(key) {\n",
              "          const element = document.querySelector('#df-d3e382c3-c29e-4b8b-b661-0b9637c2cbfb');\n",
              "          const dataTable =\n",
              "            await google.colab.kernel.invokeFunction('convertToInteractive',\n",
              "                                                     [key], {});\n",
              "          if (!dataTable) return;\n",
              "\n",
              "          const docLinkHtml = 'Like what you see? Visit the ' +\n",
              "            '<a target=\"_blank\" href=https://colab.research.google.com/notebooks/data_table.ipynb>data table notebook</a>'\n",
              "            + ' to learn more about interactive tables.';\n",
              "          element.innerHTML = '';\n",
              "          dataTable['output_type'] = 'display_data';\n",
              "          await google.colab.output.renderOutput(dataTable, element);\n",
              "          const docLink = document.createElement('div');\n",
              "          docLink.innerHTML = docLinkHtml;\n",
              "          element.appendChild(docLink);\n",
              "        }\n",
              "      </script>\n",
              "    </div>\n",
              "  </div>\n",
              "  "
            ]
          },
          "metadata": {},
          "execution_count": 58
        }
      ]
    },
    {
      "cell_type": "markdown",
      "metadata": {
        "id": "B7fsZQI5thYs"
      },
      "source": [
        "### Diagrama de dispersión con datos de entrenamiento"
      ]
    },
    {
      "cell_type": "code",
      "metadata": {
        "colab": {
          "base_uri": "https://localhost:8080/",
          "height": 293
        },
        "id": "CBFFPFubtQ5u",
        "outputId": "19303470-dfc0-46e9-f353-e685bb336355"
      },
      "source": [
        "Overall = entrenamiento['Overall'].values.reshape(-1, 1) # Variable independiente\n",
        "Valor = entrenamiento['Valor'].values.reshape(-1, 1) # Variable dependiente\n",
        "plt.scatter(x=Overall,y=Valor)"
      ],
      "execution_count": null,
      "outputs": [
        {
          "output_type": "execute_result",
          "data": {
            "text/plain": [
              "<matplotlib.collections.PathCollection at 0x7f2aaceafa50>"
            ]
          },
          "metadata": {},
          "execution_count": 60
        },
        {
          "output_type": "display_data",
          "data": {
            "text/plain": [
              "<Figure size 432x288 with 1 Axes>"
            ],
            "image/png": "[encoded data removed]"
          },
          "metadata": {
            "needs_background": "light"
          }
        }
      ]
    },
    {
      "cell_type": "markdown",
      "metadata": {
        "id": "r_fO8rMuJLbH"
      },
      "source": [
        "\n",
        "# Al igual que en el caso de arriba obtenos los valores del ploteo con \n",
        "plt.scatter(x=Overall,y=Valor) para que nos lo muestre en el gráfico\n",
        "\n",
        "\n"
      ]
    },
    {
      "cell_type": "markdown",
      "metadata": {
        "id": "TwC7d4m9DbZ4"
      },
      "source": [
        "## Modelo de regresión lineal simple\n",
        "\n"
      ]
    },
    {
      "cell_type": "markdown",
      "source": [
        "Se evalúa el modelo de regresión lineal simple: \n",
        "\n",
        "$$\n",
        "MAE = Pendiente ...\n",
        "$$\n",
        "\n",
        "$$\n",
        "MSE = \\frac{\\sum(predicho_i - real_i)^{2}}{n}\n",
        "$$\n",
        "\n",
        "$$\n",
        "RMSE = \\sqrt{\\frac{\\sum(predicho_i - real_i)^{2}}{n}}\n",
        "$$\n",
        "\n",
        "$$\n",
        "\\text{Multipel R Squared } = R^2 = cor(x, y)^2 \\text{; de Pearson}\n",
        "$$"
      ],
      "metadata": {
        "id": "8k_756BVSNdN"
      }
    },
    {
      "cell_type": "code",
      "source": [
        "overall = datos[['Overall']].to_numpy()\n",
        "valor = datos[['Valor']].to_numpy()"
      ],
      "metadata": {
        "id": "b3YHYttPGQ_b"
      },
      "execution_count": null,
      "outputs": []
    },
    {
      "cell_type": "code",
      "source": [
        "overall_train, Overall_test, valor_train, valor_test = train_test_split(overall, valor, test_size=0.3, random_state=4042)"
      ],
      "metadata": {
        "id": "udATjPwyGEi4"
      },
      "execution_count": null,
      "outputs": []
    },
    {
      "cell_type": "code",
      "source": [
        "overall_train"
      ],
      "metadata": {
        "colab": {
          "base_uri": "https://localhost:8080/"
        },
        "id": "csw9HMkrGmpx",
        "outputId": "f17596ac-f5d6-4abe-8186-a692789d5217"
      },
      "execution_count": null,
      "outputs": [
        {
          "output_type": "execute_result",
          "data": {
            "text/plain": [
              "array([[70],\n",
              "       [65],\n",
              "       [65],\n",
              "       ...,\n",
              "       [54],\n",
              "       [60],\n",
              "       [55]])"
            ]
          },
          "metadata": {},
          "execution_count": 63
        }
      ]
    },
    {
      "cell_type": "markdown",
      "metadata": {
        "id": "Jsg28AeADo44"
      },
      "source": [
        "### Construyendo el modelo de regresión lineal simple"
      ]
    },
    {
      "cell_type": "code",
      "metadata": {
        "id": "q6u7SZwVEHIp"
      },
      "source": [
        "modelo_lin = LinearRegression()\n",
        "modelo_lin.fit(X = entrena_Overall.reshape(-1, 1), y = entrena_Valor)\n",
        "\n",
        "y_pred = modelo_lin.predict(Overall)"
      ],
      "execution_count": null,
      "outputs": []
    },
    {
      "cell_type": "markdown",
      "source": [
        "#### Coeficientes del modelo\n",
        "\n",
        "Se determinan los valores de a y b de la fórmula\n",
        "$$\n",
        "Y=a+bx \n",
        "$$\n",
        "ó\n",
        "$$\n",
        "Y=β0+β1⋅x\n",
        "$$"
      ],
      "metadata": {
        "id": "OWGnW8mwGvcr"
      }
    },
    {
      "cell_type": "markdown",
      "source": [
        "Se determinan los valores de a y b de la fórmula $Y=a+bx$"
      ],
      "metadata": {
        "id": "iUoOgvu2YvQK"
      }
    },
    {
      "cell_type": "markdown",
      "metadata": {
        "id": "Mf6Ik5EBDkFo"
      },
      "source": [
        "### Evaluando el modelo de regresión lineal simple"
      ]
    },
    {
      "cell_type": "code",
      "metadata": {
        "id": "83A0sAjmEWcY",
        "colab": {
          "base_uri": "https://localhost:8080/"
        },
        "outputId": "64ebc3e2-6dca-41be-88e0-c4548cc506e0"
      },
      "source": [
        "print(\"Coeficiente de la intercepción:\", modelo_lin.intercept_)\n",
        "print(\"Coeficiente de la pendiente\", modelo_lin.coef_)\n",
        "print(\"Coeficiente de determinación R^2 o R Square:\", modelo_lin.score(X = entrena_Overall, y = entrena_Valor))"
      ],
      "execution_count": null,
      "outputs": [
        {
          "output_type": "stream",
          "name": "stdout",
          "text": [
            "Coeficiente de la intercepción: [-31877557.09451763]\n",
            "Coeficiente de la pendiente [[518211.64673767]]\n",
            "Coeficiente de determinación R^2 o R Square: 0.39403180990256004\n"
          ]
        }
      ]
    },
    {
      "cell_type": "markdown",
      "source": [
        "# Se construye el modelo"
      ],
      "metadata": {
        "id": "awEdpSGrjLLO"
      }
    },
    {
      "cell_type": "code",
      "source": [
        "modelo = linear_model.LinearRegression()\n",
        "modelo"
      ],
      "metadata": {
        "colab": {
          "base_uri": "https://localhost:8080/"
        },
        "id": "StMmOfX6hpiQ",
        "outputId": "9d45b765-fbeb-45f0-d894-241983fae174"
      },
      "execution_count": null,
      "outputs": [
        {
          "output_type": "execute_result",
          "data": {
            "text/plain": [
              "LinearRegression()"
            ]
          },
          "metadata": {},
          "execution_count": 66
        }
      ]
    },
    {
      "cell_type": "markdown",
      "source": [
        "modelo de regresion lineal"
      ],
      "metadata": {
        "id": "z-eZzOidjQjo"
      }
    },
    {
      "cell_type": "code",
      "source": [
        "x = datos[['Overall']].to_numpy()\n",
        "y = datos[['Valor']].to_numpy()\n",
        "print(x)\n",
        "print(y)\n",
        "\n",
        "modelo.fit(x, y)"
      ],
      "metadata": {
        "id": "fBtZJ67ahqdI",
        "colab": {
          "base_uri": "https://localhost:8080/"
        },
        "outputId": "cdf6c2dd-e200-4a39-c96d-7a8b0d7218e7"
      },
      "execution_count": null,
      "outputs": [
        {
          "output_type": "stream",
          "name": "stdout",
          "text": [
            "[[94]\n",
            " [94]\n",
            " [92]\n",
            " ...\n",
            " [47]\n",
            " [47]\n",
            " [46]]\n",
            "[[110500000]\n",
            " [ 77000000]\n",
            " [118500000]\n",
            " ...\n",
            " [    60000]\n",
            " [    60000]\n",
            " [    60000]]\n"
          ]
        },
        {
          "output_type": "execute_result",
          "data": {
            "text/plain": [
              "LinearRegression()"
            ]
          },
          "metadata": {},
          "execution_count": 67
        }
      ]
    },
    {
      "cell_type": "code",
      "source": [
        "b = modelo.coef_\n",
        "a = modelo.intercept_\n",
        "print(\"Valor de a: \", a)\n",
        "print(\"Valor de b: \", b)"
      ],
      "metadata": {
        "colab": {
          "base_uri": "https://localhost:8080/"
        },
        "id": "cTOk87ephfKF",
        "outputId": "00368aef-a668-467d-a75f-1c04b1517c75"
      },
      "execution_count": null,
      "outputs": [
        {
          "output_type": "stream",
          "name": "stdout",
          "text": [
            "Valor de a:  [-31577480.47127337]\n",
            "Valor de b:  [[513705.21889192]]\n"
          ]
        }
      ]
    },
    {
      "cell_type": "markdown",
      "metadata": {
        "id": "2JUTXEN8t3C1"
      },
      "source": [
        "Se construye la recta de regresión con los datos de entrenamiento y el modelo construído a partir de estos datos.\n",
        "Con la el valor de los valores de tendencia o valores ajustados del modelo se visualiza la recta de tendencia del modelo.\n",
        "\n",
        "La gráfica g se construye por partes, primero la dispersión, segundo la linea de tendencia, tercero se agrega el título, para luego solo mostrar la gráfica g."
      ]
    },
    {
      "cell_type": "markdown",
      "source": [
        "###Linea de tendencia del modelo\n"
      ],
      "metadata": {
        "id": "-rYmYrqJHzfq"
      }
    },
    {
      "cell_type": "code",
      "metadata": {
        "colab": {
          "base_uri": "https://localhost:8080/",
          "height": 276
        },
        "id": "G_7ztRgFt1-m",
        "outputId": "0f1c9960-506f-464c-b193-d06202b79c01"
      },
      "source": [
        "plt.scatter(x= entrena_Overall, y= entrena_Valor)\n",
        "plt.plot(Overall, y_pred, color='r')\n",
        "plt.show()"
      ],
      "execution_count": null,
      "outputs": [
        {
          "output_type": "display_data",
          "data": {
            "text/plain": [
              "<Figure size 432x288 with 1 Axes>"
            ],
            "image/png": "[encoded data removed]"
          },
          "metadata": {
            "needs_background": "light"
          }
        }
      ]
    },
    {
      "cell_type": "markdown",
      "metadata": {
        "id": "VY59I4_VEprR"
      },
      "source": [
        "### Interpretar el modelo de regresión lineal simple\n",
        "\n",
        "En la gráfica de dispersión de las variables Overall y Valor se observa una relación entre las variables de manera curva o polinómica y poco lineal.\n",
        "\n",
        "El modelo de regresión lineal simple presenta un valor de R Square de 39.31%, significa que la variable Overall representa ese porcentaje sobre la variable Valor.\n",
        "\n",
        "Si hay cantidades de Overall por debajo de 60 o aproximado menor que 60 cualquier predicción sale negativa."
      ]
    },
    {
      "cell_type": "markdown",
      "metadata": {
        "id": "iSCs4oGJE_G6"
      },
      "source": [
        "#### Predicciones regresión lineal simple\n",
        "\n",
        "Se elige algun valor del conjunto de datos de validación para comparar el valor real con el valor de la predicción con el modelo de regresión lineal simple.\n"
      ]
    },
    {
      "cell_type": "code",
      "metadata": {
        "colab": {
          "base_uri": "https://localhost:8080/"
        },
        "id": "ynryW3FHdLZj",
        "outputId": "c80f5a4f-e883-4ba7-8ac6-5222c1f2b411"
      },
      "source": [
        "registro = 10\n",
        "print(validacion.loc[registro])\n",
        "\n",
        "a_predecir = validacion.loc[registro,'Overall']\n",
        "\n",
        "print(a_predecir)\n",
        "pred_lin = modelo_lin.predict([[a_predecir]])\n",
        "pred_lin\n",
        "print(\"La predición con el modelo lineal simple de un valor de \", a_predecir, \" es de \", float(pred_lin), \" la real conforme a datos de validación es de: \", validacion.loc[registro,'Valor'])\n"
      ],
      "execution_count": null,
      "outputs": [
        {
          "output_type": "stream",
          "name": "stdout",
          "text": [
            "Overall       47\n",
            "Valor      60000\n",
            "Name: 10, dtype: int64\n",
            "47\n",
            "La predición con el modelo lineal simple de un valor de  47  es de  -7521609.697846971  la real conforme a datos de validación es de:  60000\n"
          ]
        }
      ]
    },
    {
      "cell_type": "code",
      "metadata": {
        "colab": {
          "base_uri": "https://localhost:8080/"
        },
        "id": "acDiEkyDviOP",
        "outputId": "c0a4e026-c439-4b4f-afaf-50209c4f679c"
      },
      "source": [
        "registro = 500\n",
        "print(validacion.loc[registro])\n",
        "\n",
        "a_predecir = validacion.loc[registro,'Overall']\n",
        "\n",
        "print(a_predecir)\n",
        "pred_lin = modelo_lin.predict([[a_predecir]])\n",
        "pred_lin\n",
        "print(\"La predición con el modelo lineal simple de un valor de \", a_predecir, \" es de \", float(pred_lin), \" la real conforme a datos de validación es de: \", validacion.loc[registro,'Valor'])"
      ],
      "execution_count": null,
      "outputs": [
        {
          "output_type": "stream",
          "name": "stdout",
          "text": [
            "Overall        66\n",
            "Valor      550000\n",
            "Name: 500, dtype: int64\n",
            "66\n",
            "La predición con el modelo lineal simple de un valor de  66  es de  2324411.5901688263  la real conforme a datos de validación es de:  550000\n"
          ]
        }
      ]
    },
    {
      "cell_type": "code",
      "metadata": {
        "colab": {
          "base_uri": "https://localhost:8080/"
        },
        "id": "IG8sZzdOySeP",
        "outputId": "7b59f2ed-b1e4-4cb4-ec82-2336f98c0a41"
      },
      "source": [
        "registro = 1000\n",
        "print(validacion.loc[registro])\n",
        "\n",
        "a_predecir = validacion.loc[registro,'Overall']\n",
        "\n",
        "\n",
        "print(a_predecir)\n",
        "pred_lin = modelo_lin.predict([[a_predecir]])\n",
        "pred_lin\n",
        "print(\"La predición con el modelo lineal simple de un valor de \", a_predecir, \" es de \", float(pred_lin), \" la real conforme a datos de validación es de: \", validacion.loc[registro,'Valor'])"
      ],
      "execution_count": null,
      "outputs": [
        {
          "output_type": "stream",
          "name": "stdout",
          "text": [
            "Overall        64\n",
            "Valor      525000\n",
            "Name: 1000, dtype: int64\n",
            "64\n",
            "La predición con el modelo lineal simple de un valor de  64  es de  1287988.2966934778  la real conforme a datos de validación es de:  525000\n"
          ]
        }
      ]
    },
    {
      "cell_type": "markdown",
      "metadata": {
        "id": "1Kz_d6tEyb_n"
      },
      "source": [
        "## Modelo polinómico de segundo nivel\n",
        "\n",
        "Se crea un modelo polinómico con los mismos datos de entremiento y evaluar el R Square así como las predicciones con los datos de validación.\n",
        "\n",
        "primero se crea una variable polyn que tiene características de una ecuación se segundo nivel.\n"
      ]
    },
    {
      "cell_type": "code",
      "metadata": {
        "colab": {
          "base_uri": "https://localhost:8080/"
        },
        "id": "ziuYXFcI5dcI",
        "outputId": "ba8ab8d8-198c-466b-b08e-ee26cb0ef2e8"
      },
      "source": [
        "from sklearn.preprocessing import PolynomialFeatures\n",
        " \n",
        "polyn = PolynomialFeatures(degree=2)\n",
        "\n",
        "x_poly = polyn.fit_transform(Overall)\n",
        "\n",
        "print(Overall)\n",
        "print(x_poly)"
      ],
      "execution_count": null,
      "outputs": [
        {
          "output_type": "stream",
          "name": "stdout",
          "text": [
            "[[63]\n",
            " [62]\n",
            " [84]\n",
            " ...\n",
            " [73]\n",
            " [52]\n",
            " [69]]\n",
            "[[1.000e+00 6.300e+01 3.969e+03]\n",
            " [1.000e+00 6.200e+01 3.844e+03]\n",
            " [1.000e+00 8.400e+01 7.056e+03]\n",
            " ...\n",
            " [1.000e+00 7.300e+01 5.329e+03]\n",
            " [1.000e+00 5.200e+01 2.704e+03]\n",
            " [1.000e+00 6.900e+01 4.761e+03]]\n"
          ]
        }
      ]
    },
    {
      "cell_type": "markdown",
      "metadata": {
        "id": "ix6DaU5t5wUA"
      },
      "source": [
        "Luego se crea el modelo de regresión polinomial de segundo nivel\n"
      ]
    },
    {
      "cell_type": "code",
      "metadata": {
        "colab": {
          "base_uri": "https://localhost:8080/",
          "height": 554
        },
        "id": "T0L0gwez523A",
        "outputId": "88e3293a-aed9-43eb-85ab-b1bab09fdcd6"
      },
      "source": [
        "modelo_pol2 = LinearRegression()\n",
        "modelo_pol2.fit(x_poly, Valor)\n",
        "\n",
        "y_pred = modelo_pol2.predict(x_poly)\n",
        "print(Overall)\n",
        "print(y_pred)\n",
        "\n",
        " \n",
        "plt.scatter(Overall, Valor)\n",
        "plt.plot(Overall, y_pred, color='r')\n",
        "plt.show()\n",
        " \n",
        "rmse = np.sqrt(mean_squared_error(Valor,y_pred))\n",
        "r2 = r2_score(Valor,y_pred)\n",
        "print ('RMSE: ' + str(rmse))\n",
        "print ('R2: ' + str(r2))"
      ],
      "execution_count": null,
      "outputs": [
        {
          "output_type": "stream",
          "name": "stdout",
          "text": [
            "[[63]\n",
            " [62]\n",
            " [84]\n",
            " ...\n",
            " [73]\n",
            " [52]\n",
            " [69]]\n",
            "[[-1009705.16091865]\n",
            " [-1129976.37998906]\n",
            " [24509312.37283695]\n",
            " ...\n",
            " [ 5667607.4900893 ]\n",
            " [ 3141911.88961148]\n",
            " [ 1802224.14743787]]\n"
          ]
        },
        {
          "output_type": "display_data",
          "data": {
            "text/plain": [
              "<Figure size 432x288 with 1 Axes>"
            ],
            "image/png": "[encoded data removed]"
          },
          "metadata": {
            "needs_background": "light"
          }
        },
        {
          "output_type": "stream",
          "name": "stdout",
          "text": [
            "RMSE: 2798474.5909011485\n",
            "R2: 0.7602552025070977\n"
          ]
        }
      ]
    },
    {
      "cell_type": "markdown",
      "metadata": {
        "id": "3oQJiIHMA7YG"
      },
      "source": [
        "El valor de R Square en el modelo polinómico de segundo nivel es del 75.94% en comparación con el modelo de regresión lineal simple de 39.31% es mucho mayor lo que representa una predicción más util y con mayor representatividad.\n",
        "\n"
      ]
    },
    {
      "cell_type": "markdown",
      "metadata": {
        "id": "HVfcXjWxBVKD"
      },
      "source": [
        "## Predicciones con modelo de regresió polinomila de segundo nivel\n"
      ]
    },
    {
      "cell_type": "code",
      "metadata": {
        "colab": {
          "base_uri": "https://localhost:8080/"
        },
        "id": "e2zDcvlmBeqi",
        "outputId": "29af2d37-896d-44d9-d91c-d1a96dd35964"
      },
      "source": [
        "registro = 10\n",
        "print(validacion.loc[registro])\n",
        "\n",
        "a_predecir = validacion.loc[registro,'Overall']\n",
        "\n",
        "print(a_predecir)\n",
        "pred2 = modelo_pol2.predict(polyn.fit_transform([[a_predecir]]))\n",
        "print(pred2)"
      ],
      "execution_count": null,
      "outputs": [
        {
          "output_type": "stream",
          "name": "stdout",
          "text": [
            "Overall       47\n",
            "Valor      60000\n",
            "Name: 10, dtype: int64\n",
            "47\n",
            "[[9010538.1564374]]\n"
          ]
        }
      ]
    },
    {
      "cell_type": "code",
      "metadata": {
        "colab": {
          "base_uri": "https://localhost:8080/"
        },
        "id": "FuZ_Euy9CGor",
        "outputId": "4f0e131e-015c-4ef4-e16d-108f5df49aef"
      },
      "source": [
        "registro = 500\n",
        "print(validacion.loc[registro])\n",
        "\n",
        "a_predecir = validacion.loc[registro,'Overall']\n",
        "print(a_predecir)\n",
        "pred2 = modelo_pol2.predict(polyn.fit_transform([[a_predecir]]))\n",
        "print(pred2)"
      ],
      "execution_count": null,
      "outputs": [
        {
          "output_type": "stream",
          "name": "stdout",
          "text": [
            "Overall        66\n",
            "Valor      550000\n",
            "Name: 500, dtype: int64\n",
            "66\n",
            "[[-51662.36258343]]\n"
          ]
        }
      ]
    },
    {
      "cell_type": "code",
      "metadata": {
        "colab": {
          "base_uri": "https://localhost:8080/"
        },
        "id": "AOg4YraPCg6a",
        "outputId": "0f2ee59e-6b6c-4c01-ab79-4386e1e6394d"
      },
      "source": [
        "# registro = 500\n",
        "# print(validacion.loc[registro])\n",
        "\n",
        "a_predecir = 85\n",
        "print(a_predecir)\n",
        "pred2 = modelo_pol2.predict(polyn.fit_transform([[a_predecir]]))\n",
        "print(pred2)"
      ],
      "execution_count": null,
      "outputs": [
        {
          "output_type": "stream",
          "name": "stdout",
          "text": [
            "85\n",
            "[[26819423.77602899]]\n"
          ]
        }
      ]
    },
    {
      "cell_type": "markdown",
      "metadata": {
        "id": "BRSDQQC6CzTK"
      },
      "source": [
        "## Modelo polinómico de quinto nivel\n",
        "\n"
      ]
    },
    {
      "cell_type": "code",
      "metadata": {
        "colab": {
          "base_uri": "https://localhost:8080/"
        },
        "id": "m1Fnu3LwC59y",
        "outputId": "997ffcfa-6563-4a52-887a-237c4b7b4704"
      },
      "source": [
        "polyn = PolynomialFeatures(degree=5)\n",
        "\n",
        "x_poly = polyn.fit_transform(Overall)\n",
        "\n",
        "print(Overall)\n",
        "print(x_poly)"
      ],
      "execution_count": null,
      "outputs": [
        {
          "output_type": "stream",
          "name": "stdout",
          "text": [
            "[[63]\n",
            " [62]\n",
            " [84]\n",
            " ...\n",
            " [73]\n",
            " [52]\n",
            " [69]]\n",
            "[[1.00000000e+00 6.30000000e+01 3.96900000e+03 2.50047000e+05\n",
            "  1.57529610e+07 9.92436543e+08]\n",
            " [1.00000000e+00 6.20000000e+01 3.84400000e+03 2.38328000e+05\n",
            "  1.47763360e+07 9.16132832e+08]\n",
            " [1.00000000e+00 8.40000000e+01 7.05600000e+03 5.92704000e+05\n",
            "  4.97871360e+07 4.18211942e+09]\n",
            " ...\n",
            " [1.00000000e+00 7.30000000e+01 5.32900000e+03 3.89017000e+05\n",
            "  2.83982410e+07 2.07307159e+09]\n",
            " [1.00000000e+00 5.20000000e+01 2.70400000e+03 1.40608000e+05\n",
            "  7.31161600e+06 3.80204032e+08]\n",
            " [1.00000000e+00 6.90000000e+01 4.76100000e+03 3.28509000e+05\n",
            "  2.26671210e+07 1.56403135e+09]]\n"
          ]
        }
      ]
    },
    {
      "cell_type": "code",
      "metadata": {
        "colab": {
          "base_uri": "https://localhost:8080/",
          "height": 554
        },
        "id": "s6iZypduDPxC",
        "outputId": "5aa59cf2-5874-4e8b-9dd4-14ca68e068f8"
      },
      "source": [
        "modelo_pol5 = LinearRegression()\n",
        "modelo_pol5.fit(x_poly, Valor)\n",
        "\n",
        "y_pred = modelo_pol5.predict(x_poly)\n",
        "print(Overall)\n",
        "print(y_pred)\n",
        "\n",
        " \n",
        "plt.scatter(Overall, Valor)\n",
        "plt.plot(Overall, y_pred, color='r')\n",
        "plt.show()\n",
        " \n",
        "rmse = np.sqrt(mean_squared_error(Valor,y_pred))\n",
        "r2 = r2_score(Valor,y_pred)\n",
        "print ('RMSE: ' + str(rmse))\n",
        "print ('R Square : ' + str(r2))"
      ],
      "execution_count": null,
      "outputs": [
        {
          "output_type": "stream",
          "name": "stdout",
          "text": [
            "[[63]\n",
            " [62]\n",
            " [84]\n",
            " ...\n",
            " [73]\n",
            " [52]\n",
            " [69]]\n",
            "[[  386388.92014484]\n",
            " [  335235.41038589]\n",
            " [29850018.34084754]\n",
            " ...\n",
            " [ 3785860.97600131]\n",
            " [   66093.70057116]\n",
            " [ 1442109.35205083]]\n"
          ]
        },
        {
          "output_type": "display_data",
          "data": {
            "text/plain": [
              "<Figure size 432x288 with 1 Axes>"
            ],
            "image/png": "[encoded data removed]"
          },
          "metadata": {
            "needs_background": "light"
          }
        },
        {
          "output_type": "stream",
          "name": "stdout",
          "text": [
            "RMSE: 1794814.8159258044\n",
            "R Square : 0.9013843713835575\n"
          ]
        }
      ]
    },
    {
      "cell_type": "markdown",
      "metadata": {
        "id": "V457UpFhDdZ0"
      },
      "source": [
        "El valor de R Square en el modelo polinómico de quinto nivel esde 90.12% mayor que el valor del R Square del modelo polinómioc de egundo nivel con 75.94% en comparación con el modelo de regresión lineal simple de 39.31% es mucho mayor lo que representa una predicción más util y con mayor representatividad."
      ]
    },
    {
      "cell_type": "code",
      "source": [
        "poly_reg =  PolynomialFeatures(degree = 5)\n",
        "overall_poly = poly_reg.fit_transform(overall_train)\n",
        "modelo_poly5 = LinearRegression()\n",
        "modelo_poly5.fit(overall_poly, valor_train)"
      ],
      "metadata": {
        "colab": {
          "base_uri": "https://localhost:8080/"
        },
        "id": "Y-32bUPgJlkq",
        "outputId": "50cc7d60-2235-4ae4-b43c-abe84b76ed3e"
      },
      "execution_count": null,
      "outputs": [
        {
          "output_type": "execute_result",
          "data": {
            "text/plain": [
              "LinearRegression()"
            ]
          },
          "metadata": {},
          "execution_count": 90
        }
      ]
    },
    {
      "cell_type": "markdown",
      "source": [
        "#Determinando métricas\n",
        "Crear un data.frame llamado comparaciones a partir de la creación de un diccionario con los valores reales del conjunto de entrenamiento y las predicciones calculadas.\n",
        "\n",
        "Con la función flatten().tolist() convierte el arreglo a una lista de una dimensión."
      ],
      "metadata": {
        "id": "0FysMX3GJNzO"
      }
    },
    {
      "cell_type": "markdown",
      "metadata": {
        "id": "n3cJ0okmDx-D"
      },
      "source": [
        "## Predicciones con el modelo de regresión polinómico de quinto nivel\n"
      ]
    },
    {
      "cell_type": "markdown",
      "metadata": {
        "id": "s96khMXPD-kD"
      },
      "source": [
        ""
      ]
    },
    {
      "cell_type": "code",
      "metadata": {
        "id": "uhcodK4KD-1L"
      },
      "source": [
        "registro = 10\n",
        "print(validacion.loc[registro])\n",
        "\n",
        "a_predecir = validacion.loc[registro,'Overall']\n",
        "\n",
        "print(a_predecir)\n",
        "pred5 = modelo_pol5.predict(polyn.fit_transform([[a_predecir]]))\n",
        "print(pred5)"
      ],
      "execution_count": null,
      "outputs": []
    },
    {
      "cell_type": "code",
      "metadata": {
        "colab": {
          "base_uri": "https://localhost:8080/"
        },
        "id": "If9iQja7ENUM",
        "outputId": "fcb53b2b-6390-412d-9971-2495c72a7b3f"
      },
      "source": [
        "registro = 500\n",
        "print(validacion.loc[registro])\n",
        "\n",
        "a_predecir = validacion.loc[registro,'Overall']\n",
        "print(a_predecir)\n",
        "pred5 = modelo_pol5.predict(polyn.fit_transform([[a_predecir]]))\n",
        "print(pred5)"
      ],
      "execution_count": null,
      "outputs": [
        {
          "output_type": "stream",
          "name": "stdout",
          "text": [
            "Overall        66\n",
            "Valor      550000\n",
            "Name: 500, dtype: int64\n",
            "66\n",
            "[[694012.16718821]]\n"
          ]
        }
      ]
    },
    {
      "cell_type": "code",
      "metadata": {
        "colab": {
          "base_uri": "https://localhost:8080/"
        },
        "id": "xblZXRywEj9F",
        "outputId": "85c8fa36-ce1b-4d20-d756-e71f9aac7978"
      },
      "source": [
        "a_predecir = 85\n",
        "print(a_predecir)\n",
        "pred5 = modelo_pol5.predict(polyn.fit_transform([[a_predecir]]))\n",
        "print(pred5)"
      ],
      "execution_count": null,
      "outputs": [
        {
          "output_type": "stream",
          "name": "stdout",
          "text": [
            "85\n",
            "[[34716035.76039366]]\n"
          ]
        }
      ]
    },
    {
      "cell_type": "markdown",
      "metadata": {
        "id": "NPIPCNNTFdY_"
      },
      "source": [
        "# Interpretación de todo el caso\n",
        "# Conclusiones\n",
        "Este modelo es muy util ya que en este caso \n",
        "nos ayudo a predecir y hacer una disperción \n",
        "de los datos graficados en el modelo polinomico de quinto nivel por la forma en que nos muestra los datos ya que es una manera mas acertada de representación grafica\n",
        "es mejor que el modelo polinomico anterior en este caso\n",
        "es un poco mas acertado.\n",
        "En este caso a diferencia de los anteriores usamos\n",
        "el api de statsmodels el cual en conjunto con las librerias de\n",
        "sklear y la regresion lineal simple y polinomica nos dara el ploteo de los datos.\n",
        "El análisis de regresión engloba a un conjunto de métodos estadísticos que usamos cuando tanto la variable de respuesta como la la(s) variable(s) predictiva(s) son contínuas y queremos predecir valores de la primera en función de valores observados de las segundas. En esencia, el análisis de regresión consiste en ajustar un modelo a los datos, estimando coeficientes a partir de las observaciones, con el fin de predecir valores de la variable de respuesa a partir de una (regresión simple) o más variables (regresión múltiple) predictivas o explicativas.\n",
        "\n",
        "Entonces en este punto lo que se realizo fue\n",
        "\n",
        "identificar a las variables predictivas relacionadas con una variable de respuesta\n",
        "\n",
        "describir la forma de la relación entre estas variables y para derivar una función matemática óptima que modele esta relación\n",
        "\n",
        "predecir la variable de respuesta a partir de la(s) explicativas o predictoras\n",
        "\n",
        "Podemos observar en el primer coeficiente del modelo lo siguiente:\n",
        "El “Valor de la predicción es : \"135798.32165083\"\n",
        "\n",
        "El “Segundo valor de la predicción es: \"694012.16718821\"\n",
        "\n",
        "Para los valores de a y b tenemos:\n",
        "Valor de a:  \"-31577480.47127337\"\n",
        "Valor de b:  \"513705.21889192\"\n",
        "\n",
        "En el segundo caso de el coeficiente del modelo tenemos como valor lo siguiente:\n",
        "\n",
        "\n",
        "El “Valor de la abcisa a es : \"694012.16718821”\n",
        "\n",
        "El “Valor de la pendiente b es: \"34716035.76039366\"\n",
        "\n",
        "Determinando el rmse del valor nos da como resultado \"1794814.8159258044\"\n",
        "\n",
        "En regresion polinomica de quinto nivel nos arrojo como resultado los siguientes datos:\n",
        "\n",
        "\"386388.92014484\"\n",
        "\"335235.41038589\"\n",
        "\n"
      ]
    }
  ]
}